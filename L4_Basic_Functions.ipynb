{
  "nbformat": 4,
  "nbformat_minor": 0,
  "metadata": {
    "colab": {
      "provenance": [],
      "authorship_tag": "ABX9TyOO9AmGKN1o6kPaGU081TC2",
      "include_colab_link": true
    },
    "kernelspec": {
      "name": "python3",
      "display_name": "Python 3"
    },
    "language_info": {
      "name": "python"
    }
  },
  "cells": [
    {
      "cell_type": "markdown",
      "metadata": {
        "id": "view-in-github",
        "colab_type": "text"
      },
      "source": [
        "<a href=\"https://colab.research.google.com/github/tao73bot/PythonLearing-BS/blob/main/L4_Basic_Functions.ipynb\" target=\"_parent\"><img src=\"https://colab.research.google.com/assets/colab-badge.svg\" alt=\"Open In Colab\"/></a>"
      ]
    },
    {
      "cell_type": "markdown",
      "source": [
        "## Some builtin functions\n",
        " - min()\n",
        " - max()\n",
        " - abs()\n",
        " - round()"
      ],
      "metadata": {
        "id": "5t-s0Qm2pKnt"
      }
    },
    {
      "cell_type": "code",
      "execution_count": 1,
      "metadata": {
        "colab": {
          "base_uri": "https://localhost:8080/"
        },
        "id": "GI9wOjP7nqHc",
        "outputId": "d9453489-2f28-4f11-c789-c8ccd7995500"
      },
      "outputs": [
        {
          "output_type": "stream",
          "name": "stdout",
          "text": [
            "-30\n",
            "19\n",
            "30\n",
            "-3839\n"
          ]
        }
      ],
      "source": [
        "a ,b,c,d = -20,19,-30,-3839.32\n",
        "print(min(a,b,c))\n",
        "print(max(a,b,c))\n",
        "print(abs(c))\n",
        "print(round(d))"
      ]
    },
    {
      "cell_type": "markdown",
      "source": [
        "## Exercise 1 of L4"
      ],
      "metadata": {
        "id": "raPt9G0AqukT"
      }
    },
    {
      "cell_type": "code",
      "source": [
        "ashoka = 1.70\n",
        "yoda = 0.66\n",
        "R2D2 = 1.09\n",
        "print(f'The minimum height is {min(ashoka,yoda,R2D2)}')\n",
        "print(f'The maximum height is {max(ashoka,yoda,R2D2)}')\n",
        "print(f'The average height is {(ashoka+yoda+R2D2)/3}')"
      ],
      "metadata": {
        "colab": {
          "base_uri": "https://localhost:8080/"
        },
        "id": "6Bi4f1k-qB_l",
        "outputId": "d5976dcd-0403-4cb8-ea8c-7140864c00a7"
      },
      "execution_count": 2,
      "outputs": [
        {
          "output_type": "stream",
          "name": "stdout",
          "text": [
            "The minimum height is 0.66\n",
            "The maximum height is 1.7\n",
            "The average height is 1.1500000000000001\n"
          ]
        }
      ]
    },
    {
      "cell_type": "markdown",
      "source": [
        "## input() function\n",
        "### with this function we only get string"
      ],
      "metadata": {
        "id": "TPHMX6o2v_V4"
      }
    },
    {
      "cell_type": "code",
      "source": [
        "name = input('Please enter your name ')\n",
        "age = input('Please enter your age')\n",
        "height = input('Please enter your height')\n",
        "print(\"Your name is \"+name+\".You are \"+age+\"and \"+height+\"feet long\")\n",
        "type(age)"
      ],
      "metadata": {
        "colab": {
          "base_uri": "https://localhost:8080/"
        },
        "id": "dPFhP48cr-7g",
        "outputId": "f40dec6f-3a40-4cda-f09f-1fdcbed7a96f"
      },
      "execution_count": 4,
      "outputs": [
        {
          "output_type": "stream",
          "name": "stdout",
          "text": [
            "Please enter your name avik\n",
            "Please enter your age2929\n",
            "Please enter your height3884\n",
            "Your name is avik.You are 2929and 3884feet long\n"
          ]
        },
        {
          "output_type": "execute_result",
          "data": {
            "text/plain": [
              "str"
            ]
          },
          "metadata": {},
          "execution_count": 4
        }
      ]
    },
    {
      "cell_type": "markdown",
      "source": [
        "## Custome python funtion"
      ],
      "metadata": {
        "id": "1KIgHchTy4li"
      }
    },
    {
      "cell_type": "code",
      "source": [
        "def sunk_info(who,current_year):\n",
        "  year_passed = current_year - 1912;\n",
        "  print(f'{who} sunk years {year_passed} ago')\n",
        "\n",
        "who = input('who sunk? ')\n",
        "current_year = int(input('Please enter current year'))\n",
        "sunk_info(who,current_year)"
      ],
      "metadata": {
        "colab": {
          "base_uri": "https://localhost:8080/"
        },
        "id": "9tQOdxJ6xCsS",
        "outputId": "e4c54398-1f10-4384-9616-9d519314b3dd"
      },
      "execution_count": 7,
      "outputs": [
        {
          "output_type": "stream",
          "name": "stdout",
          "text": [
            "who sunk? Avik & Fahad\n",
            "Please enter current year2024\n",
            "Avik & Fahad sunk years 112 ago\n"
          ]
        }
      ]
    },
    {
      "cell_type": "markdown",
      "source": [
        "## Keyword argument and Default Argument"
      ],
      "metadata": {
        "id": "DGHkT_DQ8UDf"
      }
    },
    {
      "cell_type": "code",
      "source": [
        "def info(name,age):\n",
        "  print(f'your name is {name} and you are {age} years old')\n",
        "\n",
        "info(\"Sizan\",25)\n",
        "info(age=25,name=\"Sizan\") # keyword argument"
      ],
      "metadata": {
        "colab": {
          "base_uri": "https://localhost:8080/"
        },
        "id": "yJl1FgoD5cfe",
        "outputId": "95e138f0-18b0-4a26-d278-5606d29cdb7d"
      },
      "execution_count": 8,
      "outputs": [
        {
          "output_type": "stream",
          "name": "stdout",
          "text": [
            "your name is Sizan and you are 25 years old\n",
            "your name is Sizan and you are 25 years old\n"
          ]
        }
      ]
    },
    {
      "cell_type": "code",
      "source": [
        "def defaulArg(name=\"Taohid\"):\n",
        "  print('Your name is '+name)\n",
        "\n",
        "defaulArg(\"Sizan\")\n",
        "defaulArg('Avik')\n",
        "defaulArg()\n",
        "defaulArg('Fahad')"
      ],
      "metadata": {
        "colab": {
          "base_uri": "https://localhost:8080/"
        },
        "id": "lI7OiWRF9cT0",
        "outputId": "f184f293-e46f-45a6-fb9c-cebe94183f3a"
      },
      "execution_count": 9,
      "outputs": [
        {
          "output_type": "stream",
          "name": "stdout",
          "text": [
            "Your name is Sizan\n",
            "Your name is Avik\n",
            "Your name is Taohid\n",
            "Your name is Fahad\n"
          ]
        }
      ]
    },
    {
      "cell_type": "markdown",
      "source": [
        "## Return value from function"
      ],
      "metadata": {
        "id": "8WjQV3niCv7K"
      }
    },
    {
      "cell_type": "code",
      "source": [
        "def convert_meter_to_mile(meter):\n",
        "  return meter*0.62\n",
        "\n",
        "print(convert_meter_to_mile(100))"
      ],
      "metadata": {
        "colab": {
          "base_uri": "https://localhost:8080/"
        },
        "id": "R7yOWx2H99HP",
        "outputId": "37fd916b-d534-419b-cd32-bf4b898bf871"
      },
      "execution_count": 10,
      "outputs": [
        {
          "output_type": "stream",
          "name": "stdout",
          "text": [
            "62.0\n"
          ]
        }
      ]
    },
    {
      "cell_type": "markdown",
      "source": [
        "## Basic Calculator of two variable"
      ],
      "metadata": {
        "id": "P9JqwDwODvAU"
      }
    },
    {
      "cell_type": "code",
      "source": [
        "num1 = float(input('Please enter 1st number'))\n",
        "num2 = float(input('Please enter 2nd number'))\n",
        "what_to_do = input('Please enter what to do')\n",
        "\n",
        "def calculator(a,b,operation):\n",
        "  if operation == '+':\n",
        "    return a+b\n",
        "  elif operation == '-':\n",
        "    return a-b\n",
        "  elif operation == '*':\n",
        "    return a*b\n",
        "  elif operation == '/':\n",
        "    try:\n",
        "      return a/b\n",
        "    except ZeroDivisionError:\n",
        "      return \"Sorry you are dividing by zero!\"\n",
        "  else:\n",
        "    return \"Invalid syntax!\"\n",
        "\n",
        "calculator(num1,num2,what_to_do)"
      ],
      "metadata": {
        "colab": {
          "base_uri": "https://localhost:8080/",
          "height": 92
        },
        "id": "LtUv6piwDL6w",
        "outputId": "c6f0e1c6-c94e-4eed-acef-00e07f8362f6"
      },
      "execution_count": 16,
      "outputs": [
        {
          "name": "stdout",
          "output_type": "stream",
          "text": [
            "Please enter 1st number10\n",
            "Please enter 2nd number0\n",
            "Please enter what to do/\n"
          ]
        },
        {
          "output_type": "execute_result",
          "data": {
            "text/plain": [
              "'Sorry you are dividing by zero!'"
            ],
            "application/vnd.google.colaboratory.intrinsic+json": {
              "type": "string"
            }
          },
          "metadata": {},
          "execution_count": 16
        }
      ]
    },
    {
      "cell_type": "code",
      "source": [],
      "metadata": {
        "id": "EWasYk6pGTTn"
      },
      "execution_count": null,
      "outputs": []
    }
  ]
}
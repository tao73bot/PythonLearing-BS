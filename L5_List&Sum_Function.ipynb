{
  "nbformat": 4,
  "nbformat_minor": 0,
  "metadata": {
    "colab": {
      "provenance": [],
      "authorship_tag": "ABX9TyOHBJjAJgx4Ut4JE5V//8Ye",
      "include_colab_link": true
    },
    "kernelspec": {
      "name": "python3",
      "display_name": "Python 3"
    },
    "language_info": {
      "name": "python"
    }
  },
  "cells": [
    {
      "cell_type": "markdown",
      "metadata": {
        "id": "view-in-github",
        "colab_type": "text"
      },
      "source": [
        "<a href=\"https://colab.research.google.com/github/tao73bot/PythonLearing-BS/blob/main/L5_List%26Sum_Function.ipynb\" target=\"_parent\"><img src=\"https://colab.research.google.com/assets/colab-badge.svg\" alt=\"Open In Colab\"/></a>"
      ]
    },
    {
      "cell_type": "markdown",
      "source": [
        "## using list lets calculate sum()"
      ],
      "metadata": {
        "id": "jdXXJ-d6PKsl"
      }
    },
    {
      "cell_type": "code",
      "execution_count": 1,
      "metadata": {
        "colab": {
          "base_uri": "https://localhost:8080/"
        },
        "id": "Ko4Qu8rvL6Ju",
        "outputId": "be00900a-3483-4b67-9881-9aab5f0c4097"
      },
      "outputs": [
        {
          "output_type": "stream",
          "name": "stdout",
          "text": [
            "<class 'list'>\n",
            "287\n"
          ]
        }
      ],
      "source": [
        "# Create a list power\n",
        "list_of_power = [10,202,30,45]\n",
        "\n",
        "# Check type of list_of_power\n",
        "print(type(list_of_power))\n",
        "\n",
        "# calculate sum\n",
        "total_power = sum(list_of_power)\n",
        "\n",
        "print(total_power)"
      ]
    },
    {
      "cell_type": "markdown",
      "source": [
        "## Final task of level 5"
      ],
      "metadata": {
        "id": "beOu3df4R6gm"
      }
    },
    {
      "cell_type": "code",
      "source": [
        "shoping_list = ['Eggs','Bread','Bananas']\n",
        "shoping_list.append('Apples')\n",
        "print(shoping_list)\n",
        "shoping_list.remove('Bread')\n",
        "print(shoping_list)\n",
        "\n",
        "def show_list(item):\n",
        "  for i in item:\n",
        "    print(i,end=' ')\n",
        "  print()\n",
        "\n",
        "def total_items(item):\n",
        "  return len(item)\n",
        "\n",
        "show_list(shoping_list)\n",
        "print(total_items(shoping_list))"
      ],
      "metadata": {
        "colab": {
          "base_uri": "https://localhost:8080/"
        },
        "id": "WjqY0TSlP0PT",
        "outputId": "ffa550d8-601b-4701-af40-993254d43719"
      },
      "execution_count": 5,
      "outputs": [
        {
          "output_type": "stream",
          "name": "stdout",
          "text": [
            "['Eggs', 'Bread', 'Bananas', 'Apples']\n",
            "['Eggs', 'Bananas', 'Apples']\n",
            "Eggs Bananas Apples \n",
            "3\n"
          ]
        }
      ]
    },
    {
      "cell_type": "markdown",
      "source": [
        "## List methods"
      ],
      "metadata": {
        "id": "WjDdibv8WnGx"
      }
    },
    {
      "cell_type": "markdown",
      "source": [
        "### 1. append(value) -> insert a value at last of list"
      ],
      "metadata": {
        "id": "N1zUiTcmXrx6"
      }
    },
    {
      "cell_type": "code",
      "source": [
        "basket = [1,2,3,4,5,6,7,8]\n",
        "basket.append(9)\n",
        "basket"
      ],
      "metadata": {
        "colab": {
          "base_uri": "https://localhost:8080/"
        },
        "id": "p9t9nZruSWe0",
        "outputId": "d232f89c-fcbb-4c07-d6de-41dc61265a04"
      },
      "execution_count": 14,
      "outputs": [
        {
          "output_type": "execute_result",
          "data": {
            "text/plain": [
              "[1, 2, 3, 4, 5, 6, 7, 8, 9]"
            ]
          },
          "metadata": {},
          "execution_count": 14
        }
      ]
    },
    {
      "cell_type": "markdown",
      "source": [
        "### 2. insert(index,value) -> insert a value at given index"
      ],
      "metadata": {
        "id": "NXK0r_XVX7bE"
      }
    },
    {
      "cell_type": "code",
      "source": [
        "basket.insert(0,101)\n",
        "basket"
      ],
      "metadata": {
        "colab": {
          "base_uri": "https://localhost:8080/"
        },
        "id": "gaEbS7GsX0kJ",
        "outputId": "d8b76c52-e285-421c-c26f-cb48065100b6"
      },
      "execution_count": 15,
      "outputs": [
        {
          "output_type": "execute_result",
          "data": {
            "text/plain": [
              "[101, 1, 2, 3, 4, 5, 6, 7, 8, 9]"
            ]
          },
          "metadata": {},
          "execution_count": 15
        }
      ]
    },
    {
      "cell_type": "markdown",
      "source": [
        "### extend([v1,v2,...,vN]) -> insert a list of value at last"
      ],
      "metadata": {
        "id": "6TQlvPMbYWHo"
      }
    },
    {
      "cell_type": "code",
      "source": [
        "basket.extend([10,11,12])\n",
        "basket"
      ],
      "metadata": {
        "colab": {
          "base_uri": "https://localhost:8080/"
        },
        "id": "9AqFme3jYNob",
        "outputId": "ad79391b-36ac-42f4-cf33-ca37da041bfd"
      },
      "execution_count": 16,
      "outputs": [
        {
          "output_type": "execute_result",
          "data": {
            "text/plain": [
              "[101, 1, 2, 3, 4, 5, 6, 7, 8, 9, 10, 11, 12]"
            ]
          },
          "metadata": {},
          "execution_count": 16
        }
      ]
    },
    {
      "cell_type": "markdown",
      "source": [
        "### pop() -> remove and return the last element"
      ],
      "metadata": {
        "id": "AA-fRnR1bURn"
      }
    },
    {
      "cell_type": "code",
      "source": [
        "basket.pop()\n"
      ],
      "metadata": {
        "colab": {
          "base_uri": "https://localhost:8080/"
        },
        "id": "e8AMZ1PIYpli",
        "outputId": "4dcc5c18-3976-402e-a6e8-432e08b7b052"
      },
      "execution_count": 17,
      "outputs": [
        {
          "output_type": "execute_result",
          "data": {
            "text/plain": [
              "12"
            ]
          },
          "metadata": {},
          "execution_count": 17
        }
      ]
    },
    {
      "cell_type": "markdown",
      "source": [
        "### pop(index) --> remove the given index element"
      ],
      "metadata": {
        "id": "lNEdgzqMbpbp"
      }
    },
    {
      "cell_type": "code",
      "source": [
        "print(basket)\n",
        "basket.pop(0)\n",
        "print(basket)"
      ],
      "metadata": {
        "colab": {
          "base_uri": "https://localhost:8080/"
        },
        "id": "UUiql9wxbdIJ",
        "outputId": "7a7020c8-d478-4742-e34b-bc2f979a0dd0"
      },
      "execution_count": 18,
      "outputs": [
        {
          "output_type": "stream",
          "name": "stdout",
          "text": [
            "[101, 1, 2, 3, 4, 5, 6, 7, 8, 9, 10, 11]\n",
            "[1, 2, 3, 4, 5, 6, 7, 8, 9, 10, 11]\n"
          ]
        }
      ]
    },
    {
      "cell_type": "markdown",
      "source": [
        "### remove(value) --> remove first occurence of the value"
      ],
      "metadata": {
        "id": "7CDrW0DlcGFz"
      }
    },
    {
      "cell_type": "code",
      "source": [
        "basket.remove(11)\n",
        "basket"
      ],
      "metadata": {
        "colab": {
          "base_uri": "https://localhost:8080/"
        },
        "id": "oYztJNPKb342",
        "outputId": "c1b99279-bc93-4088-cd91-447a7b5bf642"
      },
      "execution_count": 19,
      "outputs": [
        {
          "output_type": "execute_result",
          "data": {
            "text/plain": [
              "[1, 2, 3, 4, 5, 6, 7, 8, 9, 10]"
            ]
          },
          "metadata": {},
          "execution_count": 19
        }
      ]
    },
    {
      "cell_type": "markdown",
      "source": [
        "### reverse() --> reverse the list"
      ],
      "metadata": {
        "id": "cZ2IoQNEcZBF"
      }
    },
    {
      "cell_type": "code",
      "source": [
        "basket.reverse()\n",
        "print(basket)\n",
        "basket.reverse()\n",
        "print(basket)"
      ],
      "metadata": {
        "colab": {
          "base_uri": "https://localhost:8080/"
        },
        "id": "2OABe9RFcW97",
        "outputId": "9f0e219e-0222-4ec9-c294-67caa78c5001"
      },
      "execution_count": 20,
      "outputs": [
        {
          "output_type": "stream",
          "name": "stdout",
          "text": [
            "[10, 9, 8, 7, 6, 5, 4, 3, 2, 1]\n",
            "[1, 2, 3, 4, 5, 6, 7, 8, 9, 10]\n"
          ]
        }
      ]
    },
    {
      "cell_type": "markdown",
      "source": [
        "### index(value) --> return index of the given value if exits"
      ],
      "metadata": {
        "id": "JaWmeN18c4hh"
      }
    },
    {
      "cell_type": "code",
      "source": [
        "basket.index(10)"
      ],
      "metadata": {
        "colab": {
          "base_uri": "https://localhost:8080/"
        },
        "id": "34ZyjtcVcrQH",
        "outputId": "76728ddb-6bbc-4548-946e-bc2876f5e0db"
      },
      "execution_count": 21,
      "outputs": [
        {
          "output_type": "execute_result",
          "data": {
            "text/plain": [
              "9"
            ]
          },
          "metadata": {},
          "execution_count": 21
        }
      ]
    },
    {
      "cell_type": "code",
      "source": [
        "basket.index(1000)"
      ],
      "metadata": {
        "colab": {
          "base_uri": "https://localhost:8080/",
          "height": 147
        },
        "id": "1ayyBAZadHrM",
        "outputId": "a02312c3-e408-472b-8593-a8ebac1b85ec"
      },
      "execution_count": 22,
      "outputs": [
        {
          "output_type": "error",
          "ename": "ValueError",
          "evalue": "1000 is not in list",
          "traceback": [
            "\u001b[0;31m---------------------------------------------------------------------------\u001b[0m",
            "\u001b[0;31mValueError\u001b[0m                                Traceback (most recent call last)",
            "\u001b[0;32m<ipython-input-22-6dc7eda78772>\u001b[0m in \u001b[0;36m<cell line: 1>\u001b[0;34m()\u001b[0m\n\u001b[0;32m----> 1\u001b[0;31m \u001b[0mbasket\u001b[0m\u001b[0;34m.\u001b[0m\u001b[0mindex\u001b[0m\u001b[0;34m(\u001b[0m\u001b[0;36m1000\u001b[0m\u001b[0;34m)\u001b[0m\u001b[0;34m\u001b[0m\u001b[0;34m\u001b[0m\u001b[0m\n\u001b[0m",
            "\u001b[0;31mValueError\u001b[0m: 1000 is not in list"
          ]
        }
      ]
    },
    {
      "cell_type": "markdown",
      "source": [
        "### index(value,start,end) --> return index if it is exits between start and end-1"
      ],
      "metadata": {
        "id": "EXviHXxxdPmr"
      }
    },
    {
      "cell_type": "code",
      "source": [
        "basket.index(4,1,5)"
      ],
      "metadata": {
        "colab": {
          "base_uri": "https://localhost:8080/"
        },
        "id": "nOQzisJ1dLsM",
        "outputId": "d38b8a78-9c43-4cdf-de61-f94f31ca9c2e"
      },
      "execution_count": 23,
      "outputs": [
        {
          "output_type": "execute_result",
          "data": {
            "text/plain": [
              "3"
            ]
          },
          "metadata": {},
          "execution_count": 23
        }
      ]
    },
    {
      "cell_type": "code",
      "source": [
        "basket.index(4,0,3)"
      ],
      "metadata": {
        "colab": {
          "base_uri": "https://localhost:8080/",
          "height": 147
        },
        "id": "xi_7nwEkdnBg",
        "outputId": "a33721d5-fbde-4345-88b0-ddddae30f030"
      },
      "execution_count": 24,
      "outputs": [
        {
          "output_type": "error",
          "ename": "ValueError",
          "evalue": "4 is not in list",
          "traceback": [
            "\u001b[0;31m---------------------------------------------------------------------------\u001b[0m",
            "\u001b[0;31mValueError\u001b[0m                                Traceback (most recent call last)",
            "\u001b[0;32m<ipython-input-24-dbde0cdb2746>\u001b[0m in \u001b[0;36m<cell line: 1>\u001b[0;34m()\u001b[0m\n\u001b[0;32m----> 1\u001b[0;31m \u001b[0mbasket\u001b[0m\u001b[0;34m.\u001b[0m\u001b[0mindex\u001b[0m\u001b[0;34m(\u001b[0m\u001b[0;36m4\u001b[0m\u001b[0;34m,\u001b[0m\u001b[0;36m0\u001b[0m\u001b[0;34m,\u001b[0m\u001b[0;36m3\u001b[0m\u001b[0;34m)\u001b[0m\u001b[0;34m\u001b[0m\u001b[0;34m\u001b[0m\u001b[0m\n\u001b[0m",
            "\u001b[0;31mValueError\u001b[0m: 4 is not in list"
          ]
        }
      ]
    },
    {
      "cell_type": "markdown",
      "source": [
        "### in() --> return boolean if exits or not"
      ],
      "metadata": {
        "id": "yW0DKXpGd5aO"
      }
    },
    {
      "cell_type": "code",
      "source": [
        "4 in basket"
      ],
      "metadata": {
        "colab": {
          "base_uri": "https://localhost:8080/"
        },
        "id": "orySEY__dvGx",
        "outputId": "28ed2527-e31e-4fc2-8f0a-2f8c6707e85c"
      },
      "execution_count": 25,
      "outputs": [
        {
          "output_type": "execute_result",
          "data": {
            "text/plain": [
              "True"
            ]
          },
          "metadata": {},
          "execution_count": 25
        }
      ]
    },
    {
      "cell_type": "code",
      "source": [
        "12 in basket"
      ],
      "metadata": {
        "colab": {
          "base_uri": "https://localhost:8080/"
        },
        "id": "lzVIuaT6eDCP",
        "outputId": "e1ae4aeb-8100-41f2-e251-2732c7a68eb4"
      },
      "execution_count": 26,
      "outputs": [
        {
          "output_type": "execute_result",
          "data": {
            "text/plain": [
              "False"
            ]
          },
          "metadata": {},
          "execution_count": 26
        }
      ]
    },
    {
      "cell_type": "markdown",
      "source": [
        "### count(value) --> return number of occurence of value"
      ],
      "metadata": {
        "id": "UM2P8IP2eUq8"
      }
    },
    {
      "cell_type": "code",
      "source": [
        "print(basket.count(2))\n",
        "print(\"Taohidul Islam\".count('a'))"
      ],
      "metadata": {
        "colab": {
          "base_uri": "https://localhost:8080/"
        },
        "id": "k818cMINeGE8",
        "outputId": "4e144bd1-569f-4f91-fafd-731f0b7cce91"
      },
      "execution_count": 28,
      "outputs": [
        {
          "output_type": "stream",
          "name": "stdout",
          "text": [
            "1\n",
            "2\n"
          ]
        }
      ]
    },
    {
      "cell_type": "markdown",
      "source": [
        "### sort() --> sort the list"
      ],
      "metadata": {
        "id": "zM3AHzA_e4rk"
      }
    },
    {
      "cell_type": "code",
      "source": [
        "basket.insert(0,100)\n",
        "basket.sort()\n",
        "print(basket)"
      ],
      "metadata": {
        "colab": {
          "base_uri": "https://localhost:8080/"
        },
        "id": "rLnCJ7Srekmh",
        "outputId": "14031112-3d64-4c23-e222-1506b98abeab"
      },
      "execution_count": 29,
      "outputs": [
        {
          "output_type": "stream",
          "name": "stdout",
          "text": [
            "[1, 2, 3, 4, 5, 6, 7, 8, 9, 10, 100]\n"
          ]
        }
      ]
    },
    {
      "cell_type": "markdown",
      "source": [
        "### builtin function sorted() --> return a new sorted list"
      ],
      "metadata": {
        "id": "rotW_as1fVx4"
      }
    },
    {
      "cell_type": "code",
      "source": [
        "basket.reverse()\n",
        "new_basket = sorted(basket)\n",
        "print(basket)\n",
        "print(new_basket)"
      ],
      "metadata": {
        "colab": {
          "base_uri": "https://localhost:8080/"
        },
        "id": "P3X8EUqAfTOF",
        "outputId": "2fb5d819-2f07-4bd9-a7bb-881fdba0bb8b"
      },
      "execution_count": 30,
      "outputs": [
        {
          "output_type": "stream",
          "name": "stdout",
          "text": [
            "[100, 10, 9, 8, 7, 6, 5, 4, 3, 2, 1]\n",
            "[1, 2, 3, 4, 5, 6, 7, 8, 9, 10, 100]\n"
          ]
        }
      ]
    },
    {
      "cell_type": "markdown",
      "source": [
        "### copy() --> return a new copy of list"
      ],
      "metadata": {
        "id": "8acuX9Bqf8xO"
      }
    },
    {
      "cell_type": "code",
      "source": [
        "basket1 = basket.copy()\n",
        "basket1"
      ],
      "metadata": {
        "colab": {
          "base_uri": "https://localhost:8080/"
        },
        "id": "k3wqAbjffxgP",
        "outputId": "0b6f285d-5b12-494f-c4d4-8d0078d9ef21"
      },
      "execution_count": 31,
      "outputs": [
        {
          "output_type": "execute_result",
          "data": {
            "text/plain": [
              "[100, 10, 9, 8, 7, 6, 5, 4, 3, 2, 1]"
            ]
          },
          "metadata": {},
          "execution_count": 31
        }
      ]
    },
    {
      "cell_type": "markdown",
      "source": [
        "### clear() --> remove all element of list"
      ],
      "metadata": {
        "id": "SKGzMxGygKxs"
      }
    },
    {
      "cell_type": "code",
      "source": [
        "basket1.clear()\n",
        "basket1"
      ],
      "metadata": {
        "colab": {
          "base_uri": "https://localhost:8080/"
        },
        "id": "vfhNBvT0gIiB",
        "outputId": "79ef3d82-83ea-4790-e3ac-292637bbbe51"
      },
      "execution_count": 32,
      "outputs": [
        {
          "output_type": "execute_result",
          "data": {
            "text/plain": [
              "[]"
            ]
          },
          "metadata": {},
          "execution_count": 32
        }
      ]
    },
    {
      "cell_type": "markdown",
      "source": [
        "### list() --> generate new list"
      ],
      "metadata": {
        "id": "wCFSDJQIgeRQ"
      }
    },
    {
      "cell_type": "code",
      "source": [
        "list1 = list(range(0,100))\n",
        "list2 = list(range(1,101,1))\n",
        "list3 = list(range(1,101,2))\n",
        "print(list1)\n",
        "print(list2)\n",
        "print(list3)"
      ],
      "metadata": {
        "colab": {
          "base_uri": "https://localhost:8080/"
        },
        "id": "FcxG6Wi7gaoH",
        "outputId": "c839e013-5e9b-4da6-bf7b-f53c698fe230"
      },
      "execution_count": 34,
      "outputs": [
        {
          "output_type": "stream",
          "name": "stdout",
          "text": [
            "[0, 1, 2, 3, 4, 5, 6, 7, 8, 9, 10, 11, 12, 13, 14, 15, 16, 17, 18, 19, 20, 21, 22, 23, 24, 25, 26, 27, 28, 29, 30, 31, 32, 33, 34, 35, 36, 37, 38, 39, 40, 41, 42, 43, 44, 45, 46, 47, 48, 49, 50, 51, 52, 53, 54, 55, 56, 57, 58, 59, 60, 61, 62, 63, 64, 65, 66, 67, 68, 69, 70, 71, 72, 73, 74, 75, 76, 77, 78, 79, 80, 81, 82, 83, 84, 85, 86, 87, 88, 89, 90, 91, 92, 93, 94, 95, 96, 97, 98, 99]\n",
            "[1, 2, 3, 4, 5, 6, 7, 8, 9, 10, 11, 12, 13, 14, 15, 16, 17, 18, 19, 20, 21, 22, 23, 24, 25, 26, 27, 28, 29, 30, 31, 32, 33, 34, 35, 36, 37, 38, 39, 40, 41, 42, 43, 44, 45, 46, 47, 48, 49, 50, 51, 52, 53, 54, 55, 56, 57, 58, 59, 60, 61, 62, 63, 64, 65, 66, 67, 68, 69, 70, 71, 72, 73, 74, 75, 76, 77, 78, 79, 80, 81, 82, 83, 84, 85, 86, 87, 88, 89, 90, 91, 92, 93, 94, 95, 96, 97, 98, 99, 100]\n",
            "[1, 3, 5, 7, 9, 11, 13, 15, 17, 19, 21, 23, 25, 27, 29, 31, 33, 35, 37, 39, 41, 43, 45, 47, 49, 51, 53, 55, 57, 59, 61, 63, 65, 67, 69, 71, 73, 75, 77, 79, 81, 83, 85, 87, 89, 91, 93, 95, 97, 99]\n"
          ]
        }
      ]
    },
    {
      "cell_type": "code",
      "source": [],
      "metadata": {
        "id": "vLeAT9KHgqPY"
      },
      "execution_count": null,
      "outputs": []
    }
  ]
}
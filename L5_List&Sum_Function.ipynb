{
  "nbformat": 4,
  "nbformat_minor": 0,
  "metadata": {
    "colab": {
      "provenance": [],
      "authorship_tag": "ABX9TyP2NVJE/zD9jm4DV80Diqlj",
      "include_colab_link": true
    },
    "kernelspec": {
      "name": "python3",
      "display_name": "Python 3"
    },
    "language_info": {
      "name": "python"
    }
  },
  "cells": [
    {
      "cell_type": "markdown",
      "metadata": {
        "id": "view-in-github",
        "colab_type": "text"
      },
      "source": [
        "<a href=\"https://colab.research.google.com/github/tao73bot/PythonLearing-BS/blob/main/L5_List%26Sum_Function.ipynb\" target=\"_parent\"><img src=\"https://colab.research.google.com/assets/colab-badge.svg\" alt=\"Open In Colab\"/></a>"
      ]
    },
    {
      "cell_type": "markdown",
      "source": [
        "## using list lets calculate sum()"
      ],
      "metadata": {
        "id": "jdXXJ-d6PKsl"
      }
    },
    {
      "cell_type": "code",
      "execution_count": 1,
      "metadata": {
        "colab": {
          "base_uri": "https://localhost:8080/"
        },
        "id": "Ko4Qu8rvL6Ju",
        "outputId": "be00900a-3483-4b67-9881-9aab5f0c4097"
      },
      "outputs": [
        {
          "output_type": "stream",
          "name": "stdout",
          "text": [
            "<class 'list'>\n",
            "287\n"
          ]
        }
      ],
      "source": [
        "# Create a list power\n",
        "list_of_power = [10,202,30,45]\n",
        "\n",
        "# Check type of list_of_power\n",
        "print(type(list_of_power))\n",
        "\n",
        "# calculate sum\n",
        "total_power = sum(list_of_power)\n",
        "\n",
        "print(total_power)"
      ]
    },
    {
      "cell_type": "markdown",
      "source": [
        "## Final task of level 5"
      ],
      "metadata": {
        "id": "beOu3df4R6gm"
      }
    },
    {
      "cell_type": "code",
      "source": [
        "shoping_list = ['Eggs','Bread','Bananas']\n",
        "shoping_list.append('Apples')\n",
        "print(shoping_list)\n",
        "shoping_list.remove('Bread')\n",
        "print(shoping_list)\n",
        "\n",
        "def show_list(item):\n",
        "  for i in item:\n",
        "    print(i,end=' ')\n",
        "  print()\n",
        "\n",
        "def total_items(item):\n",
        "  return len(item)\n",
        "\n",
        "show_list(shoping_list)\n",
        "print(total_items(shoping_list))"
      ],
      "metadata": {
        "colab": {
          "base_uri": "https://localhost:8080/"
        },
        "id": "WjqY0TSlP0PT",
        "outputId": "ffa550d8-601b-4701-af40-993254d43719"
      },
      "execution_count": 5,
      "outputs": [
        {
          "output_type": "stream",
          "name": "stdout",
          "text": [
            "['Eggs', 'Bread', 'Bananas', 'Apples']\n",
            "['Eggs', 'Bananas', 'Apples']\n",
            "Eggs Bananas Apples \n",
            "3\n"
          ]
        }
      ]
    },
    {
      "cell_type": "markdown",
      "source": [
        "## List methods"
      ],
      "metadata": {
        "id": "WjDdibv8WnGx"
      }
    },
    {
      "cell_type": "markdown",
      "source": [
        "### 1. append(value) -> insert a value at last of list"
      ],
      "metadata": {
        "id": "N1zUiTcmXrx6"
      }
    },
    {
      "cell_type": "code",
      "source": [
        "basket = [1,2,3,4,5,6,7,8]\n",
        "basket.append(9)\n",
        "basket"
      ],
      "metadata": {
        "colab": {
          "base_uri": "https://localhost:8080/"
        },
        "id": "p9t9nZruSWe0",
        "outputId": "bb377c81-c4dd-4eaa-f60b-d9c17ac3032e"
      },
      "execution_count": 6,
      "outputs": [
        {
          "output_type": "execute_result",
          "data": {
            "text/plain": [
              "[1, 2, 3, 4, 5, 6, 7, 8, 9]"
            ]
          },
          "metadata": {},
          "execution_count": 6
        }
      ]
    },
    {
      "cell_type": "markdown",
      "source": [
        "### 2. insert(index,value) -> insert a value at given index"
      ],
      "metadata": {
        "id": "NXK0r_XVX7bE"
      }
    },
    {
      "cell_type": "code",
      "source": [
        "basket.insert(0,0)\n",
        "basket"
      ],
      "metadata": {
        "colab": {
          "base_uri": "https://localhost:8080/"
        },
        "id": "gaEbS7GsX0kJ",
        "outputId": "e14546b4-490a-4e6a-a707-f117057508ed"
      },
      "execution_count": 8,
      "outputs": [
        {
          "output_type": "execute_result",
          "data": {
            "text/plain": [
              "[0, 0, 1, 2, 3, 4, 5, 6, 7, 8, 9]"
            ]
          },
          "metadata": {},
          "execution_count": 8
        }
      ]
    },
    {
      "cell_type": "markdown",
      "source": [
        "### extend([v1,v2,...,vN]) -> insert a list of value at last"
      ],
      "metadata": {
        "id": "6TQlvPMbYWHo"
      }
    },
    {
      "cell_type": "code",
      "source": [
        "basket.extend([10,11,12])\n",
        "basket"
      ],
      "metadata": {
        "colab": {
          "base_uri": "https://localhost:8080/"
        },
        "id": "9AqFme3jYNob",
        "outputId": "a33348cf-e650-432e-cfd3-56afd05bd54a"
      },
      "execution_count": 9,
      "outputs": [
        {
          "output_type": "execute_result",
          "data": {
            "text/plain": [
              "[0, 0, 1, 2, 3, 4, 5, 6, 7, 8, 9, 10, 11, 12]"
            ]
          },
          "metadata": {},
          "execution_count": 9
        }
      ]
    },
    {
      "cell_type": "code",
      "source": [],
      "metadata": {
        "id": "e8AMZ1PIYpli"
      },
      "execution_count": null,
      "outputs": []
    }
  ]
}
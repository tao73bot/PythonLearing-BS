{
  "nbformat": 4,
  "nbformat_minor": 0,
  "metadata": {
    "colab": {
      "provenance": [],
      "authorship_tag": "ABX9TyMDTfBdvfrNY12I8N/LEVNY",
      "include_colab_link": true
    },
    "kernelspec": {
      "name": "python3",
      "display_name": "Python 3"
    },
    "language_info": {
      "name": "python"
    }
  },
  "cells": [
    {
      "cell_type": "markdown",
      "metadata": {
        "id": "view-in-github",
        "colab_type": "text"
      },
      "source": [
        "<a href=\"https://colab.research.google.com/github/tao73bot/PythonLearing-BS/blob/main/Advance_String_Methods.ipynb\" target=\"_parent\"><img src=\"https://colab.research.google.com/assets/colab-badge.svg\" alt=\"Open In Colab\"/></a>"
      ]
    },
    {
      "cell_type": "markdown",
      "source": [
        "Methods of string"
      ],
      "metadata": {
        "id": "3nNhSqo_SiyE"
      }
    },
    {
      "cell_type": "code",
      "execution_count": null,
      "metadata": {
        "colab": {
          "base_uri": "https://localhost:8080/"
        },
        "id": "zGQE0iNvRwhx",
        "outputId": "0fb16cd1-3eb1-4a13-e104-f73b3f81a63d"
      },
      "outputs": [
        {
          "output_type": "execute_result",
          "data": {
            "text/plain": [
              "['__add__',\n",
              " '__class__',\n",
              " '__contains__',\n",
              " '__delattr__',\n",
              " '__dir__',\n",
              " '__doc__',\n",
              " '__eq__',\n",
              " '__format__',\n",
              " '__ge__',\n",
              " '__getattribute__',\n",
              " '__getitem__',\n",
              " '__getnewargs__',\n",
              " '__gt__',\n",
              " '__hash__',\n",
              " '__init__',\n",
              " '__init_subclass__',\n",
              " '__iter__',\n",
              " '__le__',\n",
              " '__len__',\n",
              " '__lt__',\n",
              " '__mod__',\n",
              " '__mul__',\n",
              " '__ne__',\n",
              " '__new__',\n",
              " '__reduce__',\n",
              " '__reduce_ex__',\n",
              " '__repr__',\n",
              " '__rmod__',\n",
              " '__rmul__',\n",
              " '__setattr__',\n",
              " '__sizeof__',\n",
              " '__str__',\n",
              " '__subclasshook__',\n",
              " 'capitalize',\n",
              " 'casefold',\n",
              " 'center',\n",
              " 'count',\n",
              " 'encode',\n",
              " 'endswith',\n",
              " 'expandtabs',\n",
              " 'find',\n",
              " 'format',\n",
              " 'format_map',\n",
              " 'index',\n",
              " 'isalnum',\n",
              " 'isalpha',\n",
              " 'isascii',\n",
              " 'isdecimal',\n",
              " 'isdigit',\n",
              " 'isidentifier',\n",
              " 'islower',\n",
              " 'isnumeric',\n",
              " 'isprintable',\n",
              " 'isspace',\n",
              " 'istitle',\n",
              " 'isupper',\n",
              " 'join',\n",
              " 'ljust',\n",
              " 'lower',\n",
              " 'lstrip',\n",
              " 'maketrans',\n",
              " 'partition',\n",
              " 'removeprefix',\n",
              " 'removesuffix',\n",
              " 'replace',\n",
              " 'rfind',\n",
              " 'rindex',\n",
              " 'rjust',\n",
              " 'rpartition',\n",
              " 'rsplit',\n",
              " 'rstrip',\n",
              " 'split',\n",
              " 'splitlines',\n",
              " 'startswith',\n",
              " 'strip',\n",
              " 'swapcase',\n",
              " 'title',\n",
              " 'translate',\n",
              " 'upper',\n",
              " 'zfill']"
            ]
          },
          "metadata": {},
          "execution_count": 1
        }
      ],
      "source": [
        "name = str('Taohid')\n",
        "dir(name)"
      ]
    },
    {
      "cell_type": "code",
      "source": [
        "name = 'C3P0'\n",
        "name.replace('C3P0','R2D2')"
      ],
      "metadata": {
        "colab": {
          "base_uri": "https://localhost:8080/",
          "height": 37
        },
        "id": "8K_SDdQBTqqN",
        "outputId": "37319fa1-abb2-4df1-ae05-624062ffe6f4"
      },
      "execution_count": null,
      "outputs": [
        {
          "output_type": "execute_result",
          "data": {
            "text/plain": [
              "'R2D2'"
            ],
            "application/vnd.google.colaboratory.intrinsic+json": {
              "type": "string"
            }
          },
          "metadata": {},
          "execution_count": 4
        }
      ]
    },
    {
      "cell_type": "code",
      "source": [
        "name = 'fahad'\n",
        "print(name.upper())\n",
        "print(name)"
      ],
      "metadata": {
        "colab": {
          "base_uri": "https://localhost:8080/"
        },
        "id": "WhsvGO9ISzu6",
        "outputId": "d78c84c6-22ae-437e-de9d-12bf53a03a45"
      },
      "execution_count": null,
      "outputs": [
        {
          "output_type": "stream",
          "name": "stdout",
          "text": [
            "FAHAD\n",
            "fahad\n"
          ]
        }
      ]
    },
    {
      "cell_type": "code",
      "source": [
        "name = 'avik'\n",
        "num = '73'\n",
        "space = \" \"\n",
        "name1 = 'Tao73'\n",
        "name2 = 'fahad pathan'\n",
        "name.isalpha()"
      ],
      "metadata": {
        "colab": {
          "base_uri": "https://localhost:8080/"
        },
        "id": "xv3nAat8UZ3c",
        "outputId": "e0726314-d4d5-4251-e3c9-7984f70f5221"
      },
      "execution_count": null,
      "outputs": [
        {
          "output_type": "execute_result",
          "data": {
            "text/plain": [
              "True"
            ]
          },
          "metadata": {},
          "execution_count": 9
        }
      ]
    },
    {
      "cell_type": "code",
      "source": [
        "name.isdigit()"
      ],
      "metadata": {
        "colab": {
          "base_uri": "https://localhost:8080/"
        },
        "id": "-yHkVm6hVj-p",
        "outputId": "8bb1dab8-ef99-4f43-a327-f1d8a4bb59ed"
      },
      "execution_count": null,
      "outputs": [
        {
          "output_type": "execute_result",
          "data": {
            "text/plain": [
              "False"
            ]
          },
          "metadata": {},
          "execution_count": 10
        }
      ]
    },
    {
      "cell_type": "code",
      "source": [
        "name.isspace()"
      ],
      "metadata": {
        "colab": {
          "base_uri": "https://localhost:8080/"
        },
        "id": "wdhCB2G-VoKf",
        "outputId": "37e0678c-0c5d-42f7-a0aa-87a4009c0f1b"
      },
      "execution_count": null,
      "outputs": [
        {
          "output_type": "execute_result",
          "data": {
            "text/plain": [
              "False"
            ]
          },
          "metadata": {},
          "execution_count": 11
        }
      ]
    },
    {
      "cell_type": "code",
      "source": [
        "print(num.isalpha())\n",
        "print(num.isdigit())\n",
        "print(num.isspace())"
      ],
      "metadata": {
        "colab": {
          "base_uri": "https://localhost:8080/"
        },
        "id": "BQT5tiy_VsHJ",
        "outputId": "2646bfd0-7250-4765-a39b-12ca16fba0a8"
      },
      "execution_count": null,
      "outputs": [
        {
          "output_type": "stream",
          "name": "stdout",
          "text": [
            "False\n",
            "True\n",
            "False\n"
          ]
        }
      ]
    },
    {
      "cell_type": "code",
      "source": [
        "print(space.isspace())"
      ],
      "metadata": {
        "colab": {
          "base_uri": "https://localhost:8080/"
        },
        "id": "FxEON6phWGtY",
        "outputId": "082c21db-6b2c-448d-be31-b4025dae1823"
      },
      "execution_count": null,
      "outputs": [
        {
          "output_type": "stream",
          "name": "stdout",
          "text": [
            "True\n"
          ]
        }
      ]
    },
    {
      "cell_type": "code",
      "source": [
        "print(name1.isalpha())\n",
        "print(name1.isdigit())"
      ],
      "metadata": {
        "colab": {
          "base_uri": "https://localhost:8080/"
        },
        "id": "4RodzNM4WOO2",
        "outputId": "5b7e2dc9-357f-45b5-fd2f-abd5026201ec"
      },
      "execution_count": null,
      "outputs": [
        {
          "output_type": "stream",
          "name": "stdout",
          "text": [
            "False\n",
            "False\n"
          ]
        }
      ]
    },
    {
      "cell_type": "code",
      "source": [
        "print(name2.isspace())"
      ],
      "metadata": {
        "colab": {
          "base_uri": "https://localhost:8080/"
        },
        "id": "CGFwepW5WX13",
        "outputId": "2b40a7a6-8342-450a-b219-3d56671c53df"
      },
      "execution_count": null,
      "outputs": [
        {
          "output_type": "stream",
          "name": "stdout",
          "text": [
            "False\n"
          ]
        }
      ]
    },
    {
      "cell_type": "markdown",
      "source": [
        "- split()"
      ],
      "metadata": {
        "id": "52f03-nMXWu2"
      }
    },
    {
      "cell_type": "code",
      "source": [
        "name = 'Taohidul Islam'\n",
        "x = name.split(' ')\n",
        "print(x)\n",
        "type(x)"
      ],
      "metadata": {
        "colab": {
          "base_uri": "https://localhost:8080/"
        },
        "id": "04UhSE1CWfD4",
        "outputId": "03b3a8a7-200f-443b-9a49-83a38edd9204"
      },
      "execution_count": null,
      "outputs": [
        {
          "output_type": "stream",
          "name": "stdout",
          "text": [
            "['Taohidul', 'Islam']\n"
          ]
        },
        {
          "output_type": "execute_result",
          "data": {
            "text/plain": [
              "list"
            ]
          },
          "metadata": {},
          "execution_count": 17
        }
      ]
    },
    {
      "cell_type": "code",
      "source": [
        "dummy_url = 'dkbfjk/ffssff/fsf/grs/ff'\n",
        "dummy_url.split('/',2) # default value is zero but we can change"
      ],
      "metadata": {
        "colab": {
          "base_uri": "https://localhost:8080/"
        },
        "id": "587g4Vq1Xm55",
        "outputId": "3275b9eb-5402-4418-e06b-f9801e03df2b"
      },
      "execution_count": null,
      "outputs": [
        {
          "output_type": "execute_result",
          "data": {
            "text/plain": [
              "['dkbfjk', 'ffssff', 'fsf/grs/ff']"
            ]
          },
          "metadata": {},
          "execution_count": 19
        }
      ]
    },
    {
      "cell_type": "markdown",
      "source": [
        "- splitlines()"
      ],
      "metadata": {
        "id": "nd24MvpYY88u"
      }
    },
    {
      "cell_type": "code",
      "source": [
        "x = 'djndfjngjgls\\nhhdahbbhak\\nkabbfkadbf\\ndhhdfh'\n",
        "x.splitlines() # will spilt upon \\n"
      ],
      "metadata": {
        "colab": {
          "base_uri": "https://localhost:8080/"
        },
        "id": "BvD8qSq3YKs_",
        "outputId": "0063963c-05bb-477d-b960-1397bd64f1ff"
      },
      "execution_count": null,
      "outputs": [
        {
          "output_type": "execute_result",
          "data": {
            "text/plain": [
              "['djndfjngjgls', 'hhdahbbhak', 'kabbfkadbf', 'dhhdfh']"
            ]
          },
          "metadata": {},
          "execution_count": 21
        }
      ]
    },
    {
      "cell_type": "code",
      "source": [
        "# .join() methods\n",
        "x = ('Taohidul','Islam')\n",
        "' '.join(x)"
      ],
      "metadata": {
        "colab": {
          "base_uri": "https://localhost:8080/",
          "height": 37
        },
        "id": "xpEgvruEZHZP",
        "outputId": "e955cacf-1439-4563-b03c-46266cc2c89f"
      },
      "execution_count": null,
      "outputs": [
        {
          "output_type": "execute_result",
          "data": {
            "text/plain": [
              "'Taohidul Islam'"
            ],
            "application/vnd.google.colaboratory.intrinsic+json": {
              "type": "string"
            }
          },
          "metadata": {},
          "execution_count": 22
        }
      ]
    },
    {
      "cell_type": "code",
      "source": [
        "# strip()\n",
        "x = 'Mehrajja'\n",
        "x.strip('aj')"
      ],
      "metadata": {
        "colab": {
          "base_uri": "https://localhost:8080/",
          "height": 37
        },
        "id": "8G3H4qiuZzw2",
        "outputId": "1b00d64a-966c-4959-8f39-13e53098c15f"
      },
      "execution_count": null,
      "outputs": [
        {
          "output_type": "execute_result",
          "data": {
            "text/plain": [
              "'Mehr'"
            ],
            "application/vnd.google.colaboratory.intrinsic+json": {
              "type": "string"
            }
          },
          "metadata": {},
          "execution_count": 29
        }
      ]
    },
    {
      "cell_type": "code",
      "source": [
        "x = ' hfdhdhd '\n",
        "x.strip()"
      ],
      "metadata": {
        "colab": {
          "base_uri": "https://localhost:8080/",
          "height": 37
        },
        "id": "MrVXcTYcaOVd",
        "outputId": "129b6446-0e0d-4fc9-8aa2-756a40b50b63"
      },
      "execution_count": null,
      "outputs": [
        {
          "output_type": "execute_result",
          "data": {
            "text/plain": [
              "'hfdhdhd'"
            ],
            "application/vnd.google.colaboratory.intrinsic+json": {
              "type": "string"
            }
          },
          "metadata": {},
          "execution_count": 30
        }
      ]
    },
    {
      "cell_type": "code",
      "source": [
        "x = '    Mehrajja    '\n",
        "x.rstrip()"
      ],
      "metadata": {
        "colab": {
          "base_uri": "https://localhost:8080/",
          "height": 37
        },
        "id": "bRj5woxwazO3",
        "outputId": "da734291-a8b9-4f22-b735-f39248c0bd58"
      },
      "execution_count": null,
      "outputs": [
        {
          "output_type": "execute_result",
          "data": {
            "text/plain": [
              "'    Mehrajja'"
            ],
            "application/vnd.google.colaboratory.intrinsic+json": {
              "type": "string"
            }
          },
          "metadata": {},
          "execution_count": 33
        }
      ]
    },
    {
      "cell_type": "code",
      "source": [
        "# find()\n",
        "name = 'Darth Vador'\n",
        "name.find('D') # return the first occurence"
      ],
      "metadata": {
        "colab": {
          "base_uri": "https://localhost:8080/"
        },
        "id": "7gFNMAzAbOCH",
        "outputId": "c32b43f1-c464-47c5-c246-2459a060a5ad"
      },
      "execution_count": null,
      "outputs": [
        {
          "output_type": "execute_result",
          "data": {
            "text/plain": [
              "0"
            ]
          },
          "metadata": {},
          "execution_count": 34
        }
      ]
    },
    {
      "cell_type": "code",
      "source": [
        "name.find('Vador')"
      ],
      "metadata": {
        "colab": {
          "base_uri": "https://localhost:8080/"
        },
        "id": "7wQgrwF_cB8D",
        "outputId": "b0155e31-10e7-4a0d-8309-215fa0516609"
      },
      "execution_count": null,
      "outputs": [
        {
          "output_type": "execute_result",
          "data": {
            "text/plain": [
              "6"
            ]
          },
          "metadata": {},
          "execution_count": 35
        }
      ]
    },
    {
      "cell_type": "code",
      "source": [
        "name.find('Yosa')"
      ],
      "metadata": {
        "colab": {
          "base_uri": "https://localhost:8080/"
        },
        "id": "739ymaIncIcc",
        "outputId": "154410bd-f8c8-40f3-8192-158d518815c7"
      },
      "execution_count": null,
      "outputs": [
        {
          "output_type": "execute_result",
          "data": {
            "text/plain": [
              "-1"
            ]
          },
          "metadata": {},
          "execution_count": 36
        }
      ]
    },
    {
      "cell_type": "code",
      "source": [
        "name.find('d',1,7)"
      ],
      "metadata": {
        "colab": {
          "base_uri": "https://localhost:8080/"
        },
        "id": "kQt_pEMXcNKv",
        "outputId": "14774e78-8948-418c-c655-55be752aa43a"
      },
      "execution_count": null,
      "outputs": [
        {
          "output_type": "execute_result",
          "data": {
            "text/plain": [
              "-1"
            ]
          },
          "metadata": {},
          "execution_count": 37
        }
      ]
    },
    {
      "cell_type": "code",
      "source": [
        "# index()\n",
        "name.index('r')"
      ],
      "metadata": {
        "colab": {
          "base_uri": "https://localhost:8080/"
        },
        "id": "gbQhnUhScl5t",
        "outputId": "fe762863-93b3-4616-ccea-9dbf9e550ce8"
      },
      "execution_count": null,
      "outputs": [
        {
          "output_type": "execute_result",
          "data": {
            "text/plain": [
              "2"
            ]
          },
          "metadata": {},
          "execution_count": 38
        }
      ]
    },
    {
      "cell_type": "code",
      "source": [
        "name.index('z')"
      ],
      "metadata": {
        "colab": {
          "base_uri": "https://localhost:8080/",
          "height": 147
        },
        "id": "nL9kAlZqdhpV",
        "outputId": "ff44b667-9aa0-4f32-e07a-db6ea823c269"
      },
      "execution_count": null,
      "outputs": [
        {
          "output_type": "error",
          "ename": "ValueError",
          "evalue": "substring not found",
          "traceback": [
            "\u001b[0;31m---------------------------------------------------------------------------\u001b[0m",
            "\u001b[0;31mValueError\u001b[0m                                Traceback (most recent call last)",
            "\u001b[0;32m<ipython-input-39-a593ec84d793>\u001b[0m in \u001b[0;36m<cell line: 1>\u001b[0;34m()\u001b[0m\n\u001b[0;32m----> 1\u001b[0;31m \u001b[0mname\u001b[0m\u001b[0;34m.\u001b[0m\u001b[0mindex\u001b[0m\u001b[0;34m(\u001b[0m\u001b[0;34m'z'\u001b[0m\u001b[0;34m)\u001b[0m\u001b[0;34m\u001b[0m\u001b[0;34m\u001b[0m\u001b[0m\n\u001b[0m",
            "\u001b[0;31mValueError\u001b[0m: substring not found"
          ]
        }
      ]
    },
    {
      "cell_type": "code",
      "source": [
        "# replace()\n",
        "name = 'Fahad Pathan'\n",
        "name.replace('Fahad','Zawad')"
      ],
      "metadata": {
        "colab": {
          "base_uri": "https://localhost:8080/",
          "height": 37
        },
        "id": "Q4m-Mvc9dld8",
        "outputId": "c69136b3-6ea9-4f23-ed34-64dac8d73250"
      },
      "execution_count": null,
      "outputs": [
        {
          "output_type": "execute_result",
          "data": {
            "text/plain": [
              "'Zawad Pathan'"
            ],
            "application/vnd.google.colaboratory.intrinsic+json": {
              "type": "string"
            }
          },
          "metadata": {},
          "execution_count": 40
        }
      ]
    },
    {
      "cell_type": "code",
      "source": [
        "name.count('a')"
      ],
      "metadata": {
        "colab": {
          "base_uri": "https://localhost:8080/"
        },
        "id": "BzMlQ7JreEgv",
        "outputId": "b5018b02-5dce-40c1-d182-482e72a4b413"
      },
      "execution_count": null,
      "outputs": [
        {
          "output_type": "execute_result",
          "data": {
            "text/plain": [
              "4"
            ]
          },
          "metadata": {},
          "execution_count": 42
        }
      ]
    },
    {
      "cell_type": "code",
      "source": [
        "# startswith()\n",
        "name.startswith('F')"
      ],
      "metadata": {
        "colab": {
          "base_uri": "https://localhost:8080/"
        },
        "id": "a3oSnJr5e3yC",
        "outputId": "f287eb82-f701-4648-94c2-7ffa6ffd70ba"
      },
      "execution_count": null,
      "outputs": [
        {
          "output_type": "execute_result",
          "data": {
            "text/plain": [
              "True"
            ]
          },
          "metadata": {},
          "execution_count": 43
        }
      ]
    },
    {
      "cell_type": "code",
      "source": [
        "name.startswith('Fa')"
      ],
      "metadata": {
        "colab": {
          "base_uri": "https://localhost:8080/"
        },
        "id": "ChufhRWzfCI2",
        "outputId": "9a4ad0e1-4bdc-4b0e-ee82-f34d7bb383ba"
      },
      "execution_count": null,
      "outputs": [
        {
          "output_type": "execute_result",
          "data": {
            "text/plain": [
              "True"
            ]
          },
          "metadata": {},
          "execution_count": 44
        }
      ]
    },
    {
      "cell_type": "code",
      "source": [
        "name.endswith('an')"
      ],
      "metadata": {
        "colab": {
          "base_uri": "https://localhost:8080/"
        },
        "id": "srhPJ8lofHbU",
        "outputId": "d448082d-ba47-48f4-89ae-dc6a422b80c3"
      },
      "execution_count": null,
      "outputs": [
        {
          "output_type": "execute_result",
          "data": {
            "text/plain": [
              "True"
            ]
          },
          "metadata": {},
          "execution_count": 45
        }
      ]
    },
    {
      "cell_type": "code",
      "source": [
        "name.endswith('N')"
      ],
      "metadata": {
        "colab": {
          "base_uri": "https://localhost:8080/"
        },
        "id": "X51NrEp5fMPu",
        "outputId": "e7fa8ed5-4f57-48d5-813d-4bc10e2e2708"
      },
      "execution_count": null,
      "outputs": [
        {
          "output_type": "execute_result",
          "data": {
            "text/plain": [
              "False"
            ]
          },
          "metadata": {},
          "execution_count": 47
        }
      ]
    },
    {
      "cell_type": "code",
      "source": [
        "name1 = 'Princes Leia'\n",
        "x = name1.split()\n",
        "print(x)\n",
        "name2 = 'Baby Yoda'\n",
        "xx = name2.lstrip('Baby ')\n",
        "print(xx)\n",
        "name3 = 'Baby Yoda'\n",
        "xxx = name3.replace('Baby','Master')\n",
        "print(xxx)"
      ],
      "metadata": {
        "colab": {
          "base_uri": "https://localhost:8080/"
        },
        "id": "ueMdrtj3fOoX",
        "outputId": "6768dd88-db8b-41ba-8431-542a99a8f751"
      },
      "execution_count": null,
      "outputs": [
        {
          "output_type": "stream",
          "name": "stdout",
          "text": [
            "['Princes', 'Leia']\n",
            "Yoda\n",
            "Master Yoda\n"
          ]
        }
      ]
    },
    {
      "cell_type": "markdown",
      "source": [
        "## Lamda function & Map"
      ],
      "metadata": {
        "id": "KjcFZ9JohR0D"
      }
    },
    {
      "cell_type": "code",
      "source": [
        "squar_list = list(map(lambda x:x**2,[1,2,3,4]))\n",
        "squar_list"
      ],
      "metadata": {
        "colab": {
          "base_uri": "https://localhost:8080/"
        },
        "id": "s3ADrEhBgDB6",
        "outputId": "3ba3ddb1-d39b-4073-f6be-ea5ec5ec92e2"
      },
      "execution_count": null,
      "outputs": [
        {
          "output_type": "execute_result",
          "data": {
            "text/plain": [
              "[1, 4, 9, 16]"
            ]
          },
          "metadata": {},
          "execution_count": 51
        }
      ]
    },
    {
      "cell_type": "markdown",
      "source": [
        "## Recursion"
      ],
      "metadata": {
        "id": "CYzjtOIqjQLb"
      }
    },
    {
      "cell_type": "code",
      "source": [
        "n = int(input('Please enter your wanted factorial '))\n",
        "\n",
        "def fact(n):\n",
        "  if n==0:\n",
        "    return 1\n",
        "  if n==1:\n",
        "    return 1\n",
        "  return fact(n-1)*n\n",
        "\n",
        "fact(n)"
      ],
      "metadata": {
        "colab": {
          "base_uri": "https://localhost:8080/"
        },
        "id": "fVvNiMWQiIAx",
        "outputId": "ed10a26d-81fb-4004-dc74-daecd05a2325"
      },
      "execution_count": null,
      "outputs": [
        {
          "name": "stdout",
          "output_type": "stream",
          "text": [
            "Please enter your wanted factorial 100\n"
          ]
        },
        {
          "output_type": "execute_result",
          "data": {
            "text/plain": [
              "93326215443944152681699238856266700490715968264381621468592963895217599993229915608941463976156518286253697920827223758251185210916864000000000000000000000000"
            ]
          },
          "metadata": {},
          "execution_count": 54
        }
      ]
    },
    {
      "cell_type": "markdown",
      "source": [
        "## Final Exercise"
      ],
      "metadata": {
        "id": "TJxi7IrUlyrO"
      }
    },
    {
      "cell_type": "code",
      "source": [
        "chat_logs = [\n",
        "    'My order is delayed',\n",
        "    'I want to return my purchase',\n",
        "    'My app is crashing frequently',\n",
        "    'Payment issues, please help',\n",
        "    'Need help with account recovery',\n",
        "    'Delivery was incomplete',\n",
        "    \"Can't login to my account\",\n",
        "    \"Having trouble with checkout\"\n",
        "]\n",
        "\n",
        "categories = {\"Order\":0,\"App\":0,\"Payment\":0,\"Account\":0,\"Delivery\":0}\n",
        "\n",
        "def categorized_issue(chat_list,cat):\n",
        "  cat['Others'] = 0\n",
        "  for chat in chat_list:\n",
        "    x = False\n",
        "    for it in cat:\n",
        "      if x == True:\n",
        "        continue\n",
        "      if chat.lower().find(it.lower()) >= 0:\n",
        "        cat[it] += 1\n",
        "        x = True\n",
        "    if x==False:\n",
        "      cat['Others']+=1\n",
        "\n",
        "\n",
        "categorized_issue(chat_logs,categories)\n",
        "print(\"Categorized issues:\")\n",
        "for key in categories:\n",
        "  print(f'{key}: {categories[key]}')\n",
        "\n",
        "def keyword_search(chat_list,cat):\n",
        "  for chat in chat_list:\n",
        "    if chat.lower().find(cat.lower())>=0:\n",
        "      print(chat)\n",
        "\n",
        "\n",
        "key = input(\"Please enter a keyword to search in chat_logs: \")\n",
        "print(\"Chat log containning the keywords:\")\n",
        "keyword_search(chat_logs,key)"
      ],
      "metadata": {
        "colab": {
          "base_uri": "https://localhost:8080/"
        },
        "id": "nPWBeSHhj4Pt",
        "outputId": "9d89eafb-efc4-42c7-81a2-c74a80a75e6f"
      },
      "execution_count": 3,
      "outputs": [
        {
          "output_type": "stream",
          "name": "stdout",
          "text": [
            "Categorized issues:\n",
            "Order: 1\n",
            "App: 1\n",
            "Payment: 1\n",
            "Account: 2\n",
            "Delivery: 1\n",
            "Others: 2\n",
            "Please enter a keyword to search in chat_logs: order\n",
            "Chat log containning the keywords:\n",
            "My order is delayed\n"
          ]
        }
      ]
    },
    {
      "cell_type": "code",
      "source": [],
      "metadata": {
        "id": "bf7HKDkMpr0a"
      },
      "execution_count": null,
      "outputs": []
    }
  ]
}
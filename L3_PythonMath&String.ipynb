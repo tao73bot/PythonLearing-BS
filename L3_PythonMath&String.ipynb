{
  "nbformat": 4,
  "nbformat_minor": 0,
  "metadata": {
    "colab": {
      "provenance": [],
      "authorship_tag": "ABX9TyPdtujbiqR/p4EFnyC1snqu",
      "include_colab_link": true
    },
    "kernelspec": {
      "name": "python3",
      "display_name": "Python 3"
    },
    "language_info": {
      "name": "python"
    }
  },
  "cells": [
    {
      "cell_type": "markdown",
      "metadata": {
        "id": "view-in-github",
        "colab_type": "text"
      },
      "source": [
        "<a href=\"https://colab.research.google.com/github/tao73bot/PythonLearing-BS/blob/main/L3_PythonMath%26String.ipynb\" target=\"_parent\"><img src=\"https://colab.research.google.com/assets/colab-badge.svg\" alt=\"Open In Colab\"/></a>"
      ]
    },
    {
      "cell_type": "markdown",
      "source": [
        "## Operator precedence\n",
        "`1.() 2.** 3.* / 4.+ -`"
      ],
      "metadata": {
        "id": "OIpmCf9HY5C8"
      }
    },
    {
      "cell_type": "markdown",
      "source": [
        "## Exercise1 of L3"
      ],
      "metadata": {
        "id": "bGxh3MOFZYOm"
      }
    },
    {
      "cell_type": "code",
      "source": [
        "Ashoka_height = float(1.7)\n",
        "Yoda_height = float(0.66)\n",
        "R2D2_height = float(1.09)\n",
        "C3P0_height = float(1.75)\n",
        "avg_height = (Ashoka_height + Yoda_height + R2D2_height + C3P0_height) / 4\n",
        "print(avg_height)"
      ],
      "metadata": {
        "colab": {
          "base_uri": "https://localhost:8080/"
        },
        "id": "ikV_2IgyZdpy",
        "outputId": "9935312a-0f60-441c-aa74-c74bfa052058"
      },
      "execution_count": 2,
      "outputs": [
        {
          "output_type": "stream",
          "name": "stdout",
          "text": [
            "1.3\n"
          ]
        }
      ]
    },
    {
      "cell_type": "markdown",
      "source": [
        "## Stringing variables"
      ],
      "metadata": {
        "id": "fbtWszdIeYZi"
      }
    },
    {
      "cell_type": "code",
      "source": [
        "name = str('Avik')\n",
        "print(\"Hi my name is \" + name)\n",
        "age = int(202)\n",
        "height = float(0.66)\n",
        "print(\"Hi I'm \"+name+\".My age is \"+age+\".My height is \"+height) # will show error because string can't add float or int"
      ],
      "metadata": {
        "colab": {
          "base_uri": "https://localhost:8080/",
          "height": 201
        },
        "id": "igJWHdqmecAC",
        "outputId": "3386c986-dedd-4996-fde3-006ae4b0690b"
      },
      "execution_count": 4,
      "outputs": [
        {
          "output_type": "stream",
          "name": "stdout",
          "text": [
            "Hi my name is Avik\n"
          ]
        },
        {
          "output_type": "error",
          "ename": "TypeError",
          "evalue": "can only concatenate str (not \"int\") to str",
          "traceback": [
            "\u001b[0;31m---------------------------------------------------------------------------\u001b[0m",
            "\u001b[0;31mTypeError\u001b[0m                                 Traceback (most recent call last)",
            "\u001b[0;32m<ipython-input-4-9d47eb77e21d>\u001b[0m in \u001b[0;36m<cell line: 5>\u001b[0;34m()\u001b[0m\n\u001b[1;32m      3\u001b[0m \u001b[0mage\u001b[0m \u001b[0;34m=\u001b[0m \u001b[0mint\u001b[0m\u001b[0;34m(\u001b[0m\u001b[0;36m202\u001b[0m\u001b[0;34m)\u001b[0m\u001b[0;34m\u001b[0m\u001b[0;34m\u001b[0m\u001b[0m\n\u001b[1;32m      4\u001b[0m \u001b[0mheight\u001b[0m \u001b[0;34m=\u001b[0m \u001b[0mfloat\u001b[0m\u001b[0;34m(\u001b[0m\u001b[0;36m0.66\u001b[0m\u001b[0;34m)\u001b[0m\u001b[0;34m\u001b[0m\u001b[0;34m\u001b[0m\u001b[0m\n\u001b[0;32m----> 5\u001b[0;31m \u001b[0mprint\u001b[0m\u001b[0;34m(\u001b[0m\u001b[0;34m\"Hi I'm \"\u001b[0m\u001b[0;34m+\u001b[0m\u001b[0mname\u001b[0m\u001b[0;34m+\u001b[0m\u001b[0;34m\".My age is \"\u001b[0m\u001b[0;34m+\u001b[0m\u001b[0mage\u001b[0m\u001b[0;34m+\u001b[0m\u001b[0;34m\".My height is \"\u001b[0m\u001b[0;34m+\u001b[0m\u001b[0mheight\u001b[0m\u001b[0;34m)\u001b[0m \u001b[0;31m# will show error because string can't add float or int\u001b[0m\u001b[0;34m\u001b[0m\u001b[0;34m\u001b[0m\u001b[0m\n\u001b[0m",
            "\u001b[0;31mTypeError\u001b[0m: can only concatenate str (not \"int\") to str"
          ]
        }
      ]
    },
    {
      "cell_type": "markdown",
      "source": [
        "### To solve the avobe problem we can do the following things"
      ],
      "metadata": {
        "id": "oXTLPcdugik3"
      }
    },
    {
      "cell_type": "code",
      "source": [
        "print(\"Hi I'm \"+name+\". My age is \"+str(age)+\".My height is \"+str(height))"
      ],
      "metadata": {
        "colab": {
          "base_uri": "https://localhost:8080/"
        },
        "id": "UOqfR2DbgsMv",
        "outputId": "c3e2fbe0-93ac-4254-9f24-2169ec15afaf"
      },
      "execution_count": 5,
      "outputs": [
        {
          "output_type": "stream",
          "name": "stdout",
          "text": [
            "Hi I'm Avik. My age is 202.My height is 0.66\n"
          ]
        }
      ]
    },
    {
      "cell_type": "code",
      "source": [
        "# or we can use f'' string\n",
        "print(f'Hi I am {name}.My age is {age}.My height is {height}')"
      ],
      "metadata": {
        "colab": {
          "base_uri": "https://localhost:8080/"
        },
        "id": "Bos2I0L8hPJy",
        "outputId": "bb860a99-f065-4ede-a0d2-b3c05a247225"
      },
      "execution_count": 6,
      "outputs": [
        {
          "output_type": "stream",
          "name": "stdout",
          "text": [
            "Hi I am Avik.My age is 202.My height is 0.66\n"
          ]
        }
      ]
    },
    {
      "cell_type": "markdown",
      "source": [
        "## Final exercise of L3"
      ],
      "metadata": {
        "id": "_YlFHqWZiwhH"
      }
    },
    {
      "cell_type": "code",
      "source": [
        "principle = 1000\n",
        "rate = 5\n",
        "time = 2\n",
        "interest = float(principle*rate*time)/100\n",
        "print(float(principle),float(rate),float(time),interest)"
      ],
      "metadata": {
        "colab": {
          "base_uri": "https://localhost:8080/"
        },
        "id": "5Mq3yZ3phnb9",
        "outputId": "40643872-f982-441d-a373-132ca65c7eab"
      },
      "execution_count": 7,
      "outputs": [
        {
          "output_type": "stream",
          "name": "stdout",
          "text": [
            "1000.0 5.0 2.0 100.0\n"
          ]
        }
      ]
    },
    {
      "cell_type": "code",
      "source": [],
      "metadata": {
        "id": "Z30C4wMSj1UY"
      },
      "execution_count": null,
      "outputs": []
    }
  ]
}
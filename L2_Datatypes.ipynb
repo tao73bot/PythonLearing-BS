{
  "nbformat": 4,
  "nbformat_minor": 0,
  "metadata": {
    "colab": {
      "provenance": [],
      "authorship_tag": "ABX9TyP4H+Z7delEtB/C/wP6y/U/",
      "include_colab_link": true
    },
    "kernelspec": {
      "name": "python3",
      "display_name": "Python 3"
    },
    "language_info": {
      "name": "python"
    }
  },
  "cells": [
    {
      "cell_type": "markdown",
      "metadata": {
        "id": "view-in-github",
        "colab_type": "text"
      },
      "source": [
        "<a href=\"https://colab.research.google.com/github/tao73bot/PythonLearing-BS/blob/main/L2_Datatypes.ipynb\" target=\"_parent\"><img src=\"https://colab.research.google.com/assets/colab-badge.svg\" alt=\"Open In Colab\"/></a>"
      ]
    },
    {
      "cell_type": "code",
      "execution_count": 8,
      "metadata": {
        "colab": {
          "base_uri": "https://localhost:8080/"
        },
        "id": "VNafk8VkixvE",
        "outputId": "d3299c2a-ac5a-491b-f633-c3e4f5f53826"
      },
      "outputs": [
        {
          "output_type": "stream",
          "name": "stdout",
          "text": [
            "jsgbjgj\n"
          ]
        }
      ],
      "source": [
        "print('jsgbjgj')"
      ]
    },
    {
      "cell_type": "markdown",
      "source": [
        "# String and Int datatype"
      ],
      "metadata": {
        "id": "9IwTjwwtxBre"
      }
    },
    {
      "cell_type": "code",
      "source": [
        "name = 'Avik'\n",
        "print(name)\n",
        "type(name)"
      ],
      "metadata": {
        "colab": {
          "base_uri": "https://localhost:8080/"
        },
        "id": "tvEUuhZ1i9ny",
        "outputId": "c1292ab2-f03e-4995-96da-2b55b74675c1"
      },
      "execution_count": 4,
      "outputs": [
        {
          "output_type": "stream",
          "name": "stdout",
          "text": [
            "Avik\n"
          ]
        },
        {
          "output_type": "execute_result",
          "data": {
            "text/plain": [
              "str"
            ]
          },
          "metadata": {},
          "execution_count": 4
        }
      ]
    },
    {
      "cell_type": "code",
      "source": [
        "name = str('Avik')\n",
        "print(name)\n",
        "type(name)"
      ],
      "metadata": {
        "colab": {
          "base_uri": "https://localhost:8080/"
        },
        "id": "HAZZE_cFkC2i",
        "outputId": "8d632825-f4ff-423a-c087-f0e7fa411f34"
      },
      "execution_count": 5,
      "outputs": [
        {
          "output_type": "stream",
          "name": "stdout",
          "text": [
            "Avik\n"
          ]
        },
        {
          "output_type": "execute_result",
          "data": {
            "text/plain": [
              "str"
            ]
          },
          "metadata": {},
          "execution_count": 5
        }
      ]
    },
    {
      "cell_type": "code",
      "source": [
        "name = int('Avik')"
      ],
      "metadata": {
        "colab": {
          "base_uri": "https://localhost:8080/",
          "height": 147
        },
        "id": "kP_3nwqtkZm-",
        "outputId": "fc02bf2f-4cfa-4382-8ab4-b7861f0ec5a7"
      },
      "execution_count": 6,
      "outputs": [
        {
          "output_type": "error",
          "ename": "ValueError",
          "evalue": "invalid literal for int() with base 10: 'Avik'",
          "traceback": [
            "\u001b[0;31m---------------------------------------------------------------------------\u001b[0m",
            "\u001b[0;31mValueError\u001b[0m                                Traceback (most recent call last)",
            "\u001b[0;32m<ipython-input-6-1c5f69bce66f>\u001b[0m in \u001b[0;36m<cell line: 1>\u001b[0;34m()\u001b[0m\n\u001b[0;32m----> 1\u001b[0;31m \u001b[0mname\u001b[0m \u001b[0;34m=\u001b[0m \u001b[0mint\u001b[0m\u001b[0;34m(\u001b[0m\u001b[0;34m'Avik'\u001b[0m\u001b[0;34m)\u001b[0m\u001b[0;34m\u001b[0m\u001b[0;34m\u001b[0m\u001b[0m\n\u001b[0m",
            "\u001b[0;31mValueError\u001b[0m: invalid literal for int() with base 10: 'Avik'"
          ]
        }
      ]
    },
    {
      "cell_type": "markdown",
      "source": [],
      "metadata": {
        "id": "gN9Eb6Nwue9I"
      }
    },
    {
      "cell_type": "markdown",
      "source": [
        "Exercise 1"
      ],
      "metadata": {
        "id": "10eMDhCIuiRG"
      }
    },
    {
      "cell_type": "code",
      "source": [
        "name = str('Dark Vender')\n",
        "print(name)\n",
        "age = int(19)\n",
        "print(age)"
      ],
      "metadata": {
        "colab": {
          "base_uri": "https://localhost:8080/"
        },
        "id": "6UHpzA8TumXz",
        "outputId": "fa748064-db0f-450d-9480-45eeeb90ae55"
      },
      "execution_count": 7,
      "outputs": [
        {
          "output_type": "stream",
          "name": "stdout",
          "text": [
            "Dark Vender\n",
            "19\n"
          ]
        }
      ]
    },
    {
      "cell_type": "markdown",
      "source": [
        "# Float and Boolean dataype"
      ],
      "metadata": {
        "id": "QrkgXyznwzwo"
      }
    },
    {
      "cell_type": "code",
      "source": [
        "pi = 3.14\n",
        "print(pi)\n",
        "type(pi)"
      ],
      "metadata": {
        "colab": {
          "base_uri": "https://localhost:8080/"
        },
        "id": "jz7-yj5Pw8_i",
        "outputId": "d4d8563b-a4e4-4a9c-9f07-c7f8ed7f7d69"
      },
      "execution_count": 9,
      "outputs": [
        {
          "output_type": "stream",
          "name": "stdout",
          "text": [
            "3.14\n"
          ]
        },
        {
          "output_type": "execute_result",
          "data": {
            "text/plain": [
              "float"
            ]
          },
          "metadata": {},
          "execution_count": 9
        }
      ]
    },
    {
      "cell_type": "code",
      "source": [
        "salary = float(1000.40)\n",
        "print(salary)\n",
        "x = int(salary) # type conversion float to int\n",
        "print(x)\n",
        "type(x)"
      ],
      "metadata": {
        "colab": {
          "base_uri": "https://localhost:8080/"
        },
        "id": "ck-jAOF9xNjx",
        "outputId": "b43721ed-6f72-4912-a65e-a0b14218af7d"
      },
      "execution_count": 10,
      "outputs": [
        {
          "output_type": "stream",
          "name": "stdout",
          "text": [
            "1000.4\n",
            "1000\n"
          ]
        },
        {
          "output_type": "execute_result",
          "data": {
            "text/plain": [
              "int"
            ]
          },
          "metadata": {},
          "execution_count": 10
        }
      ]
    },
    {
      "cell_type": "code",
      "source": [
        "bool_example = True\n",
        "print(bool_example)\n",
        "type(bool_example)"
      ],
      "metadata": {
        "colab": {
          "base_uri": "https://localhost:8080/"
        },
        "id": "_sUQyLkzxnFL",
        "outputId": "8bf7dd02-8afe-4e98-f916-c26803c6b591"
      },
      "execution_count": 11,
      "outputs": [
        {
          "output_type": "stream",
          "name": "stdout",
          "text": [
            "True\n"
          ]
        },
        {
          "output_type": "execute_result",
          "data": {
            "text/plain": [
              "bool"
            ]
          },
          "metadata": {},
          "execution_count": 11
        }
      ]
    },
    {
      "cell_type": "code",
      "source": [
        "boolX = bool(2)\n",
        "print(boolX)\n",
        "type(boolX)"
      ],
      "metadata": {
        "colab": {
          "base_uri": "https://localhost:8080/"
        },
        "id": "7tsmir3xx2Kg",
        "outputId": "08d5816b-959a-4e64-fc2b-28ac55b394c2"
      },
      "execution_count": 12,
      "outputs": [
        {
          "output_type": "stream",
          "name": "stdout",
          "text": [
            "True\n"
          ]
        },
        {
          "output_type": "execute_result",
          "data": {
            "text/plain": [
              "bool"
            ]
          },
          "metadata": {},
          "execution_count": 12
        }
      ]
    },
    {
      "cell_type": "markdown",
      "source": [
        "# Casting"
      ],
      "metadata": {
        "id": "1Ey0-ySG5v5j"
      }
    },
    {
      "cell_type": "markdown",
      "source": [
        "## 1. String to Int.\n",
        "### Latin charecters can't be cast into int but numeric charecter can"
      ],
      "metadata": {
        "id": "mpSqbBv054L0"
      }
    },
    {
      "cell_type": "code",
      "source": [
        "name = str('Avik')\n",
        "print(name)\n",
        "name = int('Avik') # will show error for casting char"
      ],
      "metadata": {
        "colab": {
          "base_uri": "https://localhost:8080/",
          "height": 201
        },
        "id": "q63g8wxn6LAq",
        "outputId": "f1618c24-4e58-4763-ff72-dc5109591079"
      },
      "execution_count": 13,
      "outputs": [
        {
          "output_type": "stream",
          "name": "stdout",
          "text": [
            "Avik\n"
          ]
        },
        {
          "output_type": "error",
          "ename": "ValueError",
          "evalue": "invalid literal for int() with base 10: 'Avik'",
          "traceback": [
            "\u001b[0;31m---------------------------------------------------------------------------\u001b[0m",
            "\u001b[0;31mValueError\u001b[0m                                Traceback (most recent call last)",
            "\u001b[0;32m<ipython-input-13-b3ab4793e8ee>\u001b[0m in \u001b[0;36m<cell line: 3>\u001b[0;34m()\u001b[0m\n\u001b[1;32m      1\u001b[0m \u001b[0mname\u001b[0m \u001b[0;34m=\u001b[0m \u001b[0mstr\u001b[0m\u001b[0;34m(\u001b[0m\u001b[0;34m'Avik'\u001b[0m\u001b[0;34m)\u001b[0m\u001b[0;34m\u001b[0m\u001b[0;34m\u001b[0m\u001b[0m\n\u001b[1;32m      2\u001b[0m \u001b[0mprint\u001b[0m\u001b[0;34m(\u001b[0m\u001b[0mname\u001b[0m\u001b[0;34m)\u001b[0m\u001b[0;34m\u001b[0m\u001b[0;34m\u001b[0m\u001b[0m\n\u001b[0;32m----> 3\u001b[0;31m \u001b[0mname\u001b[0m \u001b[0;34m=\u001b[0m \u001b[0mint\u001b[0m\u001b[0;34m(\u001b[0m\u001b[0;34m'Avik'\u001b[0m\u001b[0;34m)\u001b[0m \u001b[0;31m# will show error for casting char\u001b[0m\u001b[0;34m\u001b[0m\u001b[0;34m\u001b[0m\u001b[0m\n\u001b[0m",
            "\u001b[0;31mValueError\u001b[0m: invalid literal for int() with base 10: 'Avik'"
          ]
        }
      ]
    },
    {
      "cell_type": "code",
      "source": [
        "age = str('1000')\n",
        "print(type(age),age)\n",
        "age = int('1000')\n",
        "print(type(age),age)"
      ],
      "metadata": {
        "colab": {
          "base_uri": "https://localhost:8080/"
        },
        "id": "yE-jK_OJ6fp6",
        "outputId": "4a2601be-5487-430c-a030-c54fb5c65a79"
      },
      "execution_count": 14,
      "outputs": [
        {
          "output_type": "stream",
          "name": "stdout",
          "text": [
            "<class 'str'> 1000\n",
            "<class 'int'> 1000\n"
          ]
        }
      ]
    },
    {
      "cell_type": "markdown",
      "source": [
        "## 2. float to int and int to float"
      ],
      "metadata": {
        "id": "T-qsQOdl7YEo"
      }
    },
    {
      "cell_type": "code",
      "source": [
        "cgpa = 3.48\n",
        "print(type(cgpa),cgpa)\n",
        "cgpa = int(cgpa)\n",
        "print(type(cgpa),cgpa)"
      ],
      "metadata": {
        "colab": {
          "base_uri": "https://localhost:8080/"
        },
        "id": "BPog6sS47bsq",
        "outputId": "e4e9dbb4-e5e1-4882-f4b0-bc99080bf538"
      },
      "execution_count": 15,
      "outputs": [
        {
          "output_type": "stream",
          "name": "stdout",
          "text": [
            "<class 'float'> 3.48\n",
            "<class 'int'> 3\n"
          ]
        }
      ]
    },
    {
      "cell_type": "code",
      "source": [
        "roll = 73\n",
        "print(type(roll),roll)\n",
        "roll = float(roll)\n",
        "print(type(roll),roll)"
      ],
      "metadata": {
        "colab": {
          "base_uri": "https://localhost:8080/"
        },
        "id": "CToO_Mz98PTQ",
        "outputId": "90b44450-b913-4e79-fca8-86379619d2a3"
      },
      "execution_count": 16,
      "outputs": [
        {
          "output_type": "stream",
          "name": "stdout",
          "text": [
            "<class 'int'> 73\n",
            "<class 'float'> 73.0\n"
          ]
        }
      ]
    },
    {
      "cell_type": "markdown",
      "source": [
        "## But when we cast float to int there can be a huge data lose. Like if we cast int(3.9) we will get 3. But it should be close to 4.To avoid this kind of situation we can use round() function"
      ],
      "metadata": {
        "id": "iKE6K-PS8s9A"
      }
    },
    {
      "cell_type": "code",
      "source": [
        "cgpa = float(3.9)\n",
        "print(int(cgpa))\n",
        "cgpa = round(cgpa)\n",
        "print(cgpa)"
      ],
      "metadata": {
        "colab": {
          "base_uri": "https://localhost:8080/"
        },
        "id": "rYBDHNDP9vFH",
        "outputId": "5df4936f-9493-4a16-d99c-cc0159b2e97b"
      },
      "execution_count": 23,
      "outputs": [
        {
          "output_type": "stream",
          "name": "stdout",
          "text": [
            "3\n",
            "4\n"
          ]
        }
      ]
    },
    {
      "cell_type": "code",
      "source": [
        "cgpa = float(3.48)\n",
        "print(int(cgpa))\n",
        "cgpa = round(cgpa)\n",
        "print(cgpa)"
      ],
      "metadata": {
        "colab": {
          "base_uri": "https://localhost:8080/"
        },
        "id": "Rj6NvgHx95Lc",
        "outputId": "6d5c95db-e347-4ca8-89fa-d550de9c18e5"
      },
      "execution_count": 22,
      "outputs": [
        {
          "output_type": "stream",
          "name": "stdout",
          "text": [
            "3\n",
            "3\n"
          ]
        }
      ]
    },
    {
      "cell_type": "markdown",
      "source": [
        "## Exercise of lesson 2"
      ],
      "metadata": {
        "id": "yusplkcBAGdI"
      }
    },
    {
      "cell_type": "code",
      "source": [
        "height = str(1.09)\n",
        "print(height)\n",
        "height = float(height)\n",
        "height += 0.66\n",
        "print(type(height),height)"
      ],
      "metadata": {
        "colab": {
          "base_uri": "https://localhost:8080/"
        },
        "id": "D9GXcRosAkOf",
        "outputId": "6e6d3769-0f60-40c3-a10a-9a3c9e41118b"
      },
      "execution_count": 24,
      "outputs": [
        {
          "output_type": "stream",
          "name": "stdout",
          "text": [
            "1.09\n",
            "<class 'float'> 1.75\n"
          ]
        }
      ]
    },
    {
      "cell_type": "markdown",
      "source": [
        "## Final Exercise of lesson 2"
      ],
      "metadata": {
        "id": "aiT7zhmRB5vq"
      }
    },
    {
      "cell_type": "code",
      "source": [
        "usd_amount = 1000\n",
        "exchange_rate = 0.85\n",
        "eur_amount = float(usd_amount)*exchange_rate\n",
        "eur_amount = int(eur_amount)\n",
        "print(eur_amount)"
      ],
      "metadata": {
        "colab": {
          "base_uri": "https://localhost:8080/"
        },
        "id": "jquEWysFCB1B",
        "outputId": "a0b2ad26-6503-425d-dc8a-068ca7702822"
      },
      "execution_count": 26,
      "outputs": [
        {
          "output_type": "stream",
          "name": "stdout",
          "text": [
            "850\n"
          ]
        }
      ]
    },
    {
      "cell_type": "code",
      "source": [],
      "metadata": {
        "id": "6cZXqza_Cm6F"
      },
      "execution_count": null,
      "outputs": []
    }
  ]
}
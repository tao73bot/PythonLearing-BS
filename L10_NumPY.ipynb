{
  "nbformat": 4,
  "nbformat_minor": 0,
  "metadata": {
    "colab": {
      "provenance": [],
      "authorship_tag": "ABX9TyM4fRm6eN8Ma84kJE5cWrJ7",
      "include_colab_link": true
    },
    "kernelspec": {
      "name": "python3",
      "display_name": "Python 3"
    },
    "language_info": {
      "name": "python"
    }
  },
  "cells": [
    {
      "cell_type": "markdown",
      "metadata": {
        "id": "view-in-github",
        "colab_type": "text"
      },
      "source": [
        "<a href=\"https://colab.research.google.com/github/tao73bot/PythonLearing-BS/blob/main/L10_NumPY.ipynb\" target=\"_parent\"><img src=\"https://colab.research.google.com/assets/colab-badge.svg\" alt=\"Open In Colab\"/></a>"
      ]
    },
    {
      "cell_type": "code",
      "execution_count": null,
      "metadata": {
        "colab": {
          "base_uri": "https://localhost:8080/"
        },
        "id": "gL74-uELZUkl",
        "outputId": "5f795afe-6cbc-44a7-a6d7-4d41f50b444d"
      },
      "outputs": [
        {
          "output_type": "execute_result",
          "data": {
            "text/plain": [
              "array([1, 2, 3, 4, 4, 5])"
            ]
          },
          "metadata": {},
          "execution_count": 1
        }
      ],
      "source": [
        "import numpy as np\n",
        "\n",
        "a = np.array([1,2,3,4,4,5,])\n",
        "a"
      ]
    },
    {
      "cell_type": "code",
      "source": [
        "a[0]"
      ],
      "metadata": {
        "colab": {
          "base_uri": "https://localhost:8080/"
        },
        "id": "l9o2-tyScigr",
        "outputId": "700c65b8-1851-4d1d-aa15-4c72eceb616a"
      },
      "execution_count": null,
      "outputs": [
        {
          "output_type": "execute_result",
          "data": {
            "text/plain": [
              "1"
            ]
          },
          "metadata": {},
          "execution_count": 2
        }
      ]
    },
    {
      "cell_type": "code",
      "source": [
        "type(a)"
      ],
      "metadata": {
        "colab": {
          "base_uri": "https://localhost:8080/"
        },
        "id": "pXSwd4zgd-jj",
        "outputId": "0fe3fbc4-7934-49b1-92ed-09ff32378ded"
      },
      "execution_count": null,
      "outputs": [
        {
          "output_type": "execute_result",
          "data": {
            "text/plain": [
              "numpy.ndarray"
            ]
          },
          "metadata": {},
          "execution_count": 3
        }
      ]
    },
    {
      "cell_type": "code",
      "source": [
        "a+1"
      ],
      "metadata": {
        "colab": {
          "base_uri": "https://localhost:8080/"
        },
        "id": "135FeK7WeDol",
        "outputId": "205bbdba-8238-49b4-d35e-c87b16f99be7"
      },
      "execution_count": null,
      "outputs": [
        {
          "output_type": "execute_result",
          "data": {
            "text/plain": [
              "array([2, 3, 4, 5, 5, 6])"
            ]
          },
          "metadata": {},
          "execution_count": 4
        }
      ]
    },
    {
      "cell_type": "markdown",
      "source": [
        "## 2D array"
      ],
      "metadata": {
        "id": "oiK5rqH6ecLo"
      }
    },
    {
      "cell_type": "code",
      "source": [
        "a2D = np.array([\n",
        "    [1,2,3],\n",
        "    [4,5,6],\n",
        "    [6,7,8]\n",
        "])\n",
        "a2D"
      ],
      "metadata": {
        "colab": {
          "base_uri": "https://localhost:8080/"
        },
        "id": "_5JK34SyeIP3",
        "outputId": "98a47c5e-dd6e-4efb-8ce0-2f83f43bab28"
      },
      "execution_count": null,
      "outputs": [
        {
          "output_type": "execute_result",
          "data": {
            "text/plain": [
              "array([[1, 2, 3],\n",
              "       [4, 5, 6],\n",
              "       [6, 7, 8]])"
            ]
          },
          "metadata": {},
          "execution_count": 5
        }
      ]
    },
    {
      "cell_type": "code",
      "source": [
        "a2D[1] + 1"
      ],
      "metadata": {
        "colab": {
          "base_uri": "https://localhost:8080/"
        },
        "id": "tvta3_MafF0H",
        "outputId": "4884ad9e-825a-47d0-dc48-bc96751dd3fb"
      },
      "execution_count": null,
      "outputs": [
        {
          "output_type": "execute_result",
          "data": {
            "text/plain": [
              "array([5, 6, 7])"
            ]
          },
          "metadata": {},
          "execution_count": 6
        }
      ]
    },
    {
      "cell_type": "code",
      "source": [
        "# .size() --> number of all element\n",
        "print(a.size)\n",
        "print(a.shape)\n",
        "print(a2D.size)\n",
        "print(a2D.shape)"
      ],
      "metadata": {
        "colab": {
          "base_uri": "https://localhost:8080/"
        },
        "id": "uhjeq9e7fKWZ",
        "outputId": "c3440a05-4cf4-4169-84fa-77cddb395035"
      },
      "execution_count": null,
      "outputs": [
        {
          "output_type": "stream",
          "name": "stdout",
          "text": [
            "6\n",
            "(6,)\n",
            "9\n",
            "(3, 3)\n"
          ]
        }
      ]
    },
    {
      "cell_type": "code",
      "source": [
        "# dimension\n",
        "a.ndim"
      ],
      "metadata": {
        "colab": {
          "base_uri": "https://localhost:8080/"
        },
        "id": "1DPuqmv4gIru",
        "outputId": "42129979-de93-48c2-942c-72e78123f07f"
      },
      "execution_count": null,
      "outputs": [
        {
          "output_type": "execute_result",
          "data": {
            "text/plain": [
              "1"
            ]
          },
          "metadata": {},
          "execution_count": 12
        }
      ]
    },
    {
      "cell_type": "code",
      "source": [
        "a2D.ndim"
      ],
      "metadata": {
        "colab": {
          "base_uri": "https://localhost:8080/"
        },
        "id": "1YdXAdJgg2QJ",
        "outputId": "83a4fc65-a6e8-48a9-a179-39f321d67be2"
      },
      "execution_count": null,
      "outputs": [
        {
          "output_type": "execute_result",
          "data": {
            "text/plain": [
              "2"
            ]
          },
          "metadata": {},
          "execution_count": 13
        }
      ]
    },
    {
      "cell_type": "markdown",
      "source": [
        "### array Data type"
      ],
      "metadata": {
        "id": "mPonzG-YhYhA"
      }
    },
    {
      "cell_type": "code",
      "source": [
        "a2D.dtype"
      ],
      "metadata": {
        "colab": {
          "base_uri": "https://localhost:8080/"
        },
        "id": "a9UIkoRKg77q",
        "outputId": "64aa5d26-b41b-4043-d889-09fe0488bd15"
      },
      "execution_count": null,
      "outputs": [
        {
          "output_type": "execute_result",
          "data": {
            "text/plain": [
              "dtype('int64')"
            ]
          },
          "metadata": {},
          "execution_count": 14
        }
      ]
    },
    {
      "cell_type": "code",
      "source": [
        "b2D = np.array([\n",
        "    [1,2,3],\n",
        "    [4,'u',6],\n",
        "    [7,8,9]\n",
        "])\n",
        "print(b2D)\n",
        "b2D.dtype"
      ],
      "metadata": {
        "colab": {
          "base_uri": "https://localhost:8080/"
        },
        "id": "xQ8sAoEji7dU",
        "outputId": "62070daa-631e-4cef-b3b5-ebb6ce9a99dd"
      },
      "execution_count": null,
      "outputs": [
        {
          "output_type": "stream",
          "name": "stdout",
          "text": [
            "[['1' '2' '3']\n",
            " ['4' 'u' '6']\n",
            " ['7' '8' '9']]\n"
          ]
        },
        {
          "output_type": "execute_result",
          "data": {
            "text/plain": [
              "dtype('<U21')"
            ]
          },
          "metadata": {},
          "execution_count": 17
        }
      ]
    },
    {
      "cell_type": "code",
      "source": [
        "# if data inside is convertable then numpy will convert it auto if define datatype\n",
        "c2D = np.array([\n",
        "    [1,2,3],\n",
        "    [4,'5',6],\n",
        "    [7,8,'9']\n",
        "],dtype=np.int64)\n",
        "c2D"
      ],
      "metadata": {
        "colab": {
          "base_uri": "https://localhost:8080/"
        },
        "id": "TbDgM9bKjTTc",
        "outputId": "d2ae49d3-c54c-4203-9c7c-c3706a784ae3"
      },
      "execution_count": null,
      "outputs": [
        {
          "output_type": "execute_result",
          "data": {
            "text/plain": [
              "array([[1, 2, 3],\n",
              "       [4, 5, 6],\n",
              "       [7, 8, 9]])"
            ]
          },
          "metadata": {},
          "execution_count": 18
        }
      ]
    },
    {
      "cell_type": "markdown",
      "source": [
        "## Array Creation Method"
      ],
      "metadata": {
        "id": "jvo3tmIUn_eI"
      }
    },
    {
      "cell_type": "code",
      "source": [
        "np.full((2,),3)"
      ],
      "metadata": {
        "colab": {
          "base_uri": "https://localhost:8080/"
        },
        "id": "iglDwjNjlbhW",
        "outputId": "48c72522-eea6-40be-b595-b06b71f07e66"
      },
      "execution_count": null,
      "outputs": [
        {
          "output_type": "execute_result",
          "data": {
            "text/plain": [
              "array([3, 3])"
            ]
          },
          "metadata": {},
          "execution_count": 20
        }
      ]
    },
    {
      "cell_type": "code",
      "source": [
        "np.full((3,5),10)"
      ],
      "metadata": {
        "colab": {
          "base_uri": "https://localhost:8080/"
        },
        "id": "VHHsygswoNUI",
        "outputId": "e5c8a322-2e1e-4ba9-d160-f5222af25519"
      },
      "execution_count": null,
      "outputs": [
        {
          "output_type": "execute_result",
          "data": {
            "text/plain": [
              "array([[10, 10, 10, 10, 10],\n",
              "       [10, 10, 10, 10, 10],\n",
              "       [10, 10, 10, 10, 10]])"
            ]
          },
          "metadata": {},
          "execution_count": 21
        }
      ]
    },
    {
      "cell_type": "code",
      "source": [
        "np.full((3,3,3,),4)"
      ],
      "metadata": {
        "colab": {
          "base_uri": "https://localhost:8080/"
        },
        "id": "5mGEoW3ZoW3t",
        "outputId": "5c950960-33d9-45fa-868e-66bbd5501c46"
      },
      "execution_count": null,
      "outputs": [
        {
          "output_type": "execute_result",
          "data": {
            "text/plain": [
              "array([[[4, 4, 4],\n",
              "        [4, 4, 4],\n",
              "        [4, 4, 4]],\n",
              "\n",
              "       [[4, 4, 4],\n",
              "        [4, 4, 4],\n",
              "        [4, 4, 4]],\n",
              "\n",
              "       [[4, 4, 4],\n",
              "        [4, 4, 4],\n",
              "        [4, 4, 4]]])"
            ]
          },
          "metadata": {},
          "execution_count": 22
        }
      ]
    },
    {
      "cell_type": "code",
      "source": [
        "np.ones((2,4))"
      ],
      "metadata": {
        "colab": {
          "base_uri": "https://localhost:8080/"
        },
        "id": "9rszk-P-odS5",
        "outputId": "e1038eb4-db93-447d-a97e-0620e27752c1"
      },
      "execution_count": null,
      "outputs": [
        {
          "output_type": "execute_result",
          "data": {
            "text/plain": [
              "array([[1., 1., 1., 1.],\n",
              "       [1., 1., 1., 1.]])"
            ]
          },
          "metadata": {},
          "execution_count": 24
        }
      ]
    },
    {
      "cell_type": "code",
      "source": [
        "np.zeros((4,5))"
      ],
      "metadata": {
        "colab": {
          "base_uri": "https://localhost:8080/"
        },
        "id": "9bJNiMsGqaGj",
        "outputId": "feb1f433-a801-4db6-cf6c-221abf9a7557"
      },
      "execution_count": null,
      "outputs": [
        {
          "output_type": "execute_result",
          "data": {
            "text/plain": [
              "array([[0., 0., 0., 0., 0.],\n",
              "       [0., 0., 0., 0., 0.],\n",
              "       [0., 0., 0., 0., 0.],\n",
              "       [0., 0., 0., 0., 0.]])"
            ]
          },
          "metadata": {},
          "execution_count": 25
        }
      ]
    },
    {
      "cell_type": "code",
      "source": [
        "np.arange(10,100,2)"
      ],
      "metadata": {
        "colab": {
          "base_uri": "https://localhost:8080/"
        },
        "id": "tLeC8krPqlVk",
        "outputId": "71ea46ea-98a7-4ed3-834c-1fbe3b4ba37a"
      },
      "execution_count": null,
      "outputs": [
        {
          "output_type": "execute_result",
          "data": {
            "text/plain": [
              "array([10, 12, 14, 16, 18, 20, 22, 24, 26, 28, 30, 32, 34, 36, 38, 40, 42,\n",
              "       44, 46, 48, 50, 52, 54, 56, 58, 60, 62, 64, 66, 68, 70, 72, 74, 76,\n",
              "       78, 80, 82, 84, 86, 88, 90, 92, 94, 96, 98])"
            ]
          },
          "metadata": {},
          "execution_count": 26
        }
      ]
    },
    {
      "cell_type": "code",
      "source": [
        "np.linspace(10,100,15) # it will select 15 number with same difference"
      ],
      "metadata": {
        "colab": {
          "base_uri": "https://localhost:8080/"
        },
        "id": "BPjAOXc4rGKt",
        "outputId": "3456feda-f3ac-4e8e-f83f-c5d3d18e4f57"
      },
      "execution_count": null,
      "outputs": [
        {
          "output_type": "execute_result",
          "data": {
            "text/plain": [
              "array([ 10.        ,  16.42857143,  22.85714286,  29.28571429,\n",
              "        35.71428571,  42.14285714,  48.57142857,  55.        ,\n",
              "        61.42857143,  67.85714286,  74.28571429,  80.71428571,\n",
              "        87.14285714,  93.57142857, 100.        ])"
            ]
          },
          "metadata": {},
          "execution_count": 27
        }
      ]
    },
    {
      "cell_type": "markdown",
      "source": [
        "## numpy operation"
      ],
      "metadata": {
        "id": "Kb-LPpYlsuQ-"
      }
    },
    {
      "cell_type": "code",
      "source": [
        "l1 = [1,2,3,4,5]\n",
        "l2 = [6,7,8,9,10]\n",
        "\n",
        "a1 = np.array(l1)\n",
        "a2 = np.array(l2)"
      ],
      "metadata": {
        "id": "__qomwJHrxJ3"
      },
      "execution_count": null,
      "outputs": []
    },
    {
      "cell_type": "code",
      "source": [
        "(a1+5)"
      ],
      "metadata": {
        "colab": {
          "base_uri": "https://localhost:8080/"
        },
        "id": "gevXYX0Av6uq",
        "outputId": "8429ee18-47f4-452e-e471-bf0cb04933d9"
      },
      "execution_count": null,
      "outputs": [
        {
          "output_type": "execute_result",
          "data": {
            "text/plain": [
              "array([ 6,  7,  8,  9, 10])"
            ]
          },
          "metadata": {},
          "execution_count": 29
        }
      ]
    },
    {
      "cell_type": "code",
      "source": [
        "(a1*a2)"
      ],
      "metadata": {
        "colab": {
          "base_uri": "https://localhost:8080/"
        },
        "id": "wtyTxX-bv9Pv",
        "outputId": "74d09ab9-b791-44d7-8bd9-74c92c9873fc"
      },
      "execution_count": null,
      "outputs": [
        {
          "output_type": "execute_result",
          "data": {
            "text/plain": [
              "array([ 6, 14, 24, 36, 50])"
            ]
          },
          "metadata": {},
          "execution_count": 30
        }
      ]
    },
    {
      "cell_type": "code",
      "source": [
        "(a1+a2)*10"
      ],
      "metadata": {
        "colab": {
          "base_uri": "https://localhost:8080/"
        },
        "id": "5Uxf9HN2wAi6",
        "outputId": "73f2f322-700e-4790-c64b-28d841ebcb97"
      },
      "execution_count": null,
      "outputs": [
        {
          "output_type": "execute_result",
          "data": {
            "text/plain": [
              "array([ 70,  90, 110, 130, 150])"
            ]
          },
          "metadata": {},
          "execution_count": 31
        }
      ]
    },
    {
      "cell_type": "code",
      "source": [
        "a1_new = np.array([1,2,3])\n",
        "a2_new = np.array([[1],[2]])\n",
        "\n",
        "(a1_new + a2_new)"
      ],
      "metadata": {
        "colab": {
          "base_uri": "https://localhost:8080/"
        },
        "id": "iCwIVc2owDlL",
        "outputId": "d76a37d0-303c-45c8-eff4-d8b1c2181073"
      },
      "execution_count": null,
      "outputs": [
        {
          "output_type": "execute_result",
          "data": {
            "text/plain": [
              "array([[2, 3, 4],\n",
              "       [3, 4, 5]])"
            ]
          },
          "metadata": {},
          "execution_count": 32
        }
      ]
    },
    {
      "cell_type": "markdown",
      "source": [
        "## Indexing and Slicing NumPy array"
      ],
      "metadata": {
        "id": "1WL7E-k4Y0uY"
      }
    },
    {
      "cell_type": "markdown",
      "source": [
        "### Part1 - Basic Indexing"
      ],
      "metadata": {
        "id": "AeXc6YxVZFzA"
      }
    },
    {
      "cell_type": "code",
      "source": [
        "import numpy as np\n"
      ],
      "metadata": {
        "id": "icuPj48ow4dv"
      },
      "execution_count": 1,
      "outputs": []
    },
    {
      "cell_type": "code",
      "source": [
        "exam_scores = np.array([90,83,84,75,98])\n",
        "print(\"First scores is: \", exam_scores[0])"
      ],
      "metadata": {
        "colab": {
          "base_uri": "https://localhost:8080/"
        },
        "id": "akeJSEPDZ3Sd",
        "outputId": "e57b8764-099b-4b32-ed0d-e797e3c725e4"
      },
      "execution_count": 2,
      "outputs": [
        {
          "output_type": "stream",
          "name": "stdout",
          "text": [
            "First scores is:  90\n"
          ]
        }
      ]
    },
    {
      "cell_type": "markdown",
      "source": [
        "### Part2 - MultiDimentional Indexing\n",
        "\n",
        "- Accessing element in 2D and 3D array\n",
        "- Using row and coloumm index"
      ],
      "metadata": {
        "id": "3PO1gs3iaxQR"
      }
    },
    {
      "cell_type": "code",
      "source": [
        "sales_data = np.array([\n",
        "    [2,3,4],\n",
        "    [4,5,6],\n",
        "    [6,7,8]\n",
        "])\n",
        "# we access using a[row][column] or a[row,column]\n",
        "# print mid element\n",
        "print(sales_data[1][1])\n",
        "print(sales_data[1,1])"
      ],
      "metadata": {
        "colab": {
          "base_uri": "https://localhost:8080/"
        },
        "id": "FiIFRRsOaXnP",
        "outputId": "ed345512-e282-4dbb-f217-e483b42bf17e"
      },
      "execution_count": 3,
      "outputs": [
        {
          "output_type": "stream",
          "name": "stdout",
          "text": [
            "5\n",
            "5\n"
          ]
        }
      ]
    },
    {
      "cell_type": "markdown",
      "source": [
        "### Part3 - Basic Slicing\n",
        "        - How to slice array to set sub-array\n",
        "        - using the `start:stop:step` notation"
      ],
      "metadata": {
        "id": "GJaNhLa3clRz"
      }
    },
    {
      "cell_type": "code",
      "source": [
        "monthly_revenue = np.array([100,200,230,102,400,130,400,204,665,384,553,452])\n",
        "monthly_revenue[0:5]\n",
        "print(monthly_revenue[0::2])"
      ],
      "metadata": {
        "colab": {
          "base_uri": "https://localhost:8080/"
        },
        "id": "WGDrE0t-cCRo",
        "outputId": "3f88a886-e123-4eba-a0b3-c0497412acd4"
      },
      "execution_count": 5,
      "outputs": [
        {
          "output_type": "stream",
          "name": "stdout",
          "text": [
            "[100 230 400 400 665 553]\n"
          ]
        }
      ]
    },
    {
      "cell_type": "code",
      "source": [
        "## if step is -1 then it  will reverse\n",
        "print(monthly_revenue[::-1])"
      ],
      "metadata": {
        "colab": {
          "base_uri": "https://localhost:8080/"
        },
        "id": "4VRJBAw3du86",
        "outputId": "d9101f7a-baa4-43ca-f195-cf2f7cb7e096"
      },
      "execution_count": 8,
      "outputs": [
        {
          "output_type": "stream",
          "name": "stdout",
          "text": [
            "[452 553 384 665 204 400 130 400 102 230 200 100]\n"
          ]
        }
      ]
    },
    {
      "cell_type": "markdown",
      "source": [
        "### Part4 - Advance slicing\n",
        "        - Using boolean array for indexing\n",
        "        - Combining slicing with conditional statement"
      ],
      "metadata": {
        "id": "J6ilcAnhelyE"
      }
    },
    {
      "cell_type": "code",
      "source": [
        "avg = np.mean(monthly_revenue)\n",
        "avg"
      ],
      "metadata": {
        "colab": {
          "base_uri": "https://localhost:8080/"
        },
        "id": "WLos-9YJeTtp",
        "outputId": "7ae7806c-03be-4433-da2e-72f2f80b6443"
      },
      "execution_count": 9,
      "outputs": [
        {
          "output_type": "execute_result",
          "data": {
            "text/plain": [
              "318.3333333333333"
            ]
          },
          "metadata": {},
          "execution_count": 9
        }
      ]
    },
    {
      "cell_type": "code",
      "source": [
        "monthly_revenue > avg"
      ],
      "metadata": {
        "colab": {
          "base_uri": "https://localhost:8080/"
        },
        "id": "GnXg5JCPf32u",
        "outputId": "9acb88a5-10ff-4e48-d4b8-ac7165712c08"
      },
      "execution_count": 10,
      "outputs": [
        {
          "output_type": "execute_result",
          "data": {
            "text/plain": [
              "array([False, False, False, False,  True, False,  True, False,  True,\n",
              "        True,  True,  True])"
            ]
          },
          "metadata": {},
          "execution_count": 10
        }
      ]
    },
    {
      "cell_type": "code",
      "source": [
        "monthly_revenue[monthly_revenue > avg]"
      ],
      "metadata": {
        "colab": {
          "base_uri": "https://localhost:8080/"
        },
        "id": "VwTcrAEIgD13",
        "outputId": "c265d97d-6810-43bb-f150-d438b4c962dd"
      },
      "execution_count": 11,
      "outputs": [
        {
          "output_type": "execute_result",
          "data": {
            "text/plain": [
              "array([400, 400, 665, 384, 553, 452])"
            ]
          },
          "metadata": {},
          "execution_count": 11
        }
      ]
    },
    {
      "cell_type": "markdown",
      "source": [
        "### Part5 - Important Caveats and Best practice\n",
        "\n",
        "        - Slices are views not copies"
      ],
      "metadata": {
        "id": "8_9wys7agji-"
      }
    },
    {
      "cell_type": "markdown",
      "source": [
        "### Task 1"
      ],
      "metadata": {
        "id": "HO3wnRouhqFz"
      }
    },
    {
      "cell_type": "code",
      "source": [
        "monthly_sales = np.array([200,220,250,275,300,320,350,370,400,420,450,475])"
      ],
      "metadata": {
        "id": "Vrz3jnSqgUtP"
      },
      "execution_count": 12,
      "outputs": []
    },
    {
      "cell_type": "code",
      "source": [
        "# sales of januray and december\n",
        "print(monthly_sales[0])\n",
        "print(monthly_sales[-1])"
      ],
      "metadata": {
        "colab": {
          "base_uri": "https://localhost:8080/"
        },
        "id": "6mneOl5siGRE",
        "outputId": "0538035c-571f-499f-c4df-e2c228c7962f"
      },
      "execution_count": 13,
      "outputs": [
        {
          "output_type": "stream",
          "name": "stdout",
          "text": [
            "200\n",
            "475\n"
          ]
        }
      ]
    },
    {
      "cell_type": "code",
      "source": [
        "# Access quatarly data\n",
        "q1 = monthly_sales[:3]\n",
        "q2 = monthly_sales[3:6]\n",
        "q3 = monthly_sales[6:9]\n",
        "q4 = monthly_sales[9:]\n",
        "print('First quatar mean: ',q1.mean())\n",
        "print('Second quatar mean: ',q2.mean())\n",
        "print('Third quatar mean: ',q3.mean())\n",
        "print('Forth quatar mean: ',q4.mean())"
      ],
      "metadata": {
        "colab": {
          "base_uri": "https://localhost:8080/"
        },
        "id": "2YCKeMf9iWH1",
        "outputId": "eff08a20-fd09-46a1-c7fb-3d374e4f0060"
      },
      "execution_count": 18,
      "outputs": [
        {
          "output_type": "stream",
          "name": "stdout",
          "text": [
            "First quatar mean:  223.33333333333334\n",
            "Second quatar mean:  298.3333333333333\n",
            "Third quatar mean:  373.3333333333333\n",
            "Forth quatar mean:  448.3333333333333\n"
          ]
        }
      ]
    },
    {
      "cell_type": "code",
      "source": [
        "# update april sales to 280\n",
        "monthly_sales[3] = 280\n",
        "print(monthly_sales)"
      ],
      "metadata": {
        "colab": {
          "base_uri": "https://localhost:8080/"
        },
        "id": "IAHHF9YziqVZ",
        "outputId": "323cd3af-baaa-48b5-897e-b8a1645c36ed"
      },
      "execution_count": 19,
      "outputs": [
        {
          "output_type": "stream",
          "name": "stdout",
          "text": [
            "[200 220 250 280 300 320 350 370 400 420 450 475]\n"
          ]
        }
      ]
    },
    {
      "cell_type": "markdown",
      "source": [
        "## Loop vs Vectorization"
      ],
      "metadata": {
        "id": "cRFNR2Wxoya9"
      }
    },
    {
      "cell_type": "markdown",
      "source": [
        "### basic loop"
      ],
      "metadata": {
        "id": "q0zPxB8ppRMD"
      }
    },
    {
      "cell_type": "code",
      "source": [
        "daily_user = [200,220,250,275]\n",
        "avg_user = 0\n",
        "\n",
        "for user in daily_user:\n",
        "  avg_user += user\n",
        "\n",
        "print(avg_user/len(daily_user))"
      ],
      "metadata": {
        "colab": {
          "base_uri": "https://localhost:8080/"
        },
        "id": "Mla4kn9loiKD",
        "outputId": "7fd7bba8-5419-48d5-c0c9-e6785616ffac"
      },
      "execution_count": 20,
      "outputs": [
        {
          "output_type": "stream",
          "name": "stdout",
          "text": [
            "236.25\n"
          ]
        }
      ]
    },
    {
      "cell_type": "markdown",
      "source": [
        "### Inro to Vectorization"
      ],
      "metadata": {
        "id": "jfJ4Ny9Rpw3k"
      }
    },
    {
      "cell_type": "code",
      "source": [
        "du_np = np.array(daily_user)\n",
        "\n",
        "du_np.mean()"
      ],
      "metadata": {
        "colab": {
          "base_uri": "https://localhost:8080/"
        },
        "id": "TMxp-610puMV",
        "outputId": "a8fca244-9b40-4de7-b986-68d001992c90"
      },
      "execution_count": 21,
      "outputs": [
        {
          "output_type": "execute_result",
          "data": {
            "text/plain": [
              "236.25"
            ]
          },
          "metadata": {},
          "execution_count": 21
        }
      ]
    },
    {
      "cell_type": "markdown",
      "source": [
        "### Performance comparision"
      ],
      "metadata": {
        "id": "dwtmCzd_qjUa"
      }
    },
    {
      "cell_type": "code",
      "source": [
        "large_array = np.random.randint(1,100,size = 100000000)\n",
        "large_array"
      ],
      "metadata": {
        "colab": {
          "base_uri": "https://localhost:8080/"
        },
        "id": "eUv1LTfhqamH",
        "outputId": "5a4eb059-c1c5-4d80-d31d-c30213397c64"
      },
      "execution_count": 26,
      "outputs": [
        {
          "output_type": "execute_result",
          "data": {
            "text/plain": [
              "array([52, 49,  7, ..., 66, 80, 88])"
            ]
          },
          "metadata": {},
          "execution_count": 26
        }
      ]
    },
    {
      "cell_type": "code",
      "source": [
        "import time\n",
        "\n",
        "st_time = time.time()\n",
        "avg = 0\n",
        "for i in large_array:\n",
        "  avg += i\n",
        "\n",
        "print(avg/100000000)\n",
        "ed_time = time.time()\n",
        "print(ed_time - st_time)"
      ],
      "metadata": {
        "colab": {
          "base_uri": "https://localhost:8080/"
        },
        "id": "NjTCg6wArFyB",
        "outputId": "0cbfccd5-b935-49d5-c70f-5e702b88c41c"
      },
      "execution_count": 29,
      "outputs": [
        {
          "output_type": "stream",
          "name": "stdout",
          "text": [
            "49.99525337\n",
            "18.425623893737793\n"
          ]
        }
      ]
    },
    {
      "cell_type": "code",
      "source": [
        "star_time = 0\n",
        "print(np.mean(large_array))\n",
        "end_time = 0\n",
        "print(end_time - star_time)"
      ],
      "metadata": {
        "colab": {
          "base_uri": "https://localhost:8080/"
        },
        "id": "7aW4vz3KsDJt",
        "outputId": "6f54e546-cdaa-4996-acaf-90a22d46c491"
      },
      "execution_count": 30,
      "outputs": [
        {
          "output_type": "stream",
          "name": "stdout",
          "text": [
            "49.99525337\n",
            "0\n"
          ]
        }
      ]
    },
    {
      "cell_type": "markdown",
      "source": [
        "### Unniversal function"
      ],
      "metadata": {
        "id": "-84TsGKluZCa"
      }
    },
    {
      "cell_type": "code",
      "source": [
        "product_price = np.array([20,24,32,13,25])\n",
        "np.sqrt(product_price)"
      ],
      "metadata": {
        "colab": {
          "base_uri": "https://localhost:8080/"
        },
        "id": "P5suCNOmsm1t",
        "outputId": "ebca0ef9-72ad-4c90-afaf-3afbe77c0e0b"
      },
      "execution_count": 31,
      "outputs": [
        {
          "output_type": "execute_result",
          "data": {
            "text/plain": [
              "array([4.47213595, 4.89897949, 5.65685425, 3.60555128, 5.        ])"
            ]
          },
          "metadata": {},
          "execution_count": 31
        }
      ]
    },
    {
      "cell_type": "markdown",
      "source": [
        "        common arithmetic like addition,subtraction,multipication and division\n",
        "\n",
        "        "
      ],
      "metadata": {
        "id": "0kUps1xQvdvX"
      }
    },
    {
      "cell_type": "code",
      "source": [
        "revenue = np.array([4000,4500,4200])\n",
        "expense = np.array([2000,2200,1500])\n",
        "\n",
        "profit = np.subtract(revenue,expense)\n",
        "print(profit)\n",
        "print(np.add(revenue,expense))\n",
        "print(np.multiply(revenue,expense))\n",
        "print(np.divide(revenue,expense))"
      ],
      "metadata": {
        "colab": {
          "base_uri": "https://localhost:8080/"
        },
        "id": "asyDGT4cvC-j",
        "outputId": "8218293b-11d7-460b-d4eb-96332fd55a9a"
      },
      "execution_count": 34,
      "outputs": [
        {
          "output_type": "stream",
          "name": "stdout",
          "text": [
            "[2000 2300 2700]\n",
            "[6000 6700 5700]\n",
            "[8000000 9900000 6300000]\n",
            "[2.         2.04545455 2.8       ]\n"
          ]
        }
      ]
    },
    {
      "cell_type": "markdown",
      "source": [
        "        - Trigonometric function: np.sin(), np.cos()\n",
        "        - Logarothimic fucntion: np.log(),np.exp()"
      ],
      "metadata": {
        "id": "3lLGCALDwz6J"
      }
    },
    {
      "cell_type": "code",
      "source": [
        "principle = 1000\n",
        "rate = 0.05\n",
        "\n",
        "year = np.array([1,2,3,4,5])\n",
        "\n",
        "compound_interest = np.multiply(principle , np.exp(rate*year))\n",
        "compound_interest"
      ],
      "metadata": {
        "colab": {
          "base_uri": "https://localhost:8080/"
        },
        "id": "LWboMKqjwHWD",
        "outputId": "a63ad71b-d720-4885-e247-4431ac7236c3"
      },
      "execution_count": 36,
      "outputs": [
        {
          "output_type": "execute_result",
          "data": {
            "text/plain": [
              "array([1051.27109638, 1105.17091808, 1161.83424273, 1221.40275816,\n",
              "       1284.02541669])"
            ]
          },
          "metadata": {},
          "execution_count": 36
        }
      ]
    },
    {
      "cell_type": "markdown",
      "source": [
        "## Conditional filtering\n"
      ],
      "metadata": {
        "id": "-MXd5aRF5AWb"
      }
    },
    {
      "cell_type": "code",
      "source": [
        "## np.where(condition,if true, else)\n",
        "\n",
        "score = np.array([85,90,91,93])\n",
        "elegible = np.where(score>85,'A+','Fail')\n",
        "elegible"
      ],
      "metadata": {
        "colab": {
          "base_uri": "https://localhost:8080/"
        },
        "id": "bz6rnWmIx-AX",
        "outputId": "854862ba-c565-4f43-da5a-d62e31d8405f"
      },
      "execution_count": 37,
      "outputs": [
        {
          "output_type": "execute_result",
          "data": {
            "text/plain": [
              "array(['Fail', 'A+', 'A+', 'A+'], dtype='<U4')"
            ]
          },
          "metadata": {},
          "execution_count": 37
        }
      ]
    },
    {
      "cell_type": "markdown",
      "source": [
        "## Reshaping array"
      ],
      "metadata": {
        "id": "ZVKQMF-u8AO_"
      }
    },
    {
      "cell_type": "code",
      "source": [
        "data = np.random.randint(10,100,100)\n",
        "\n",
        "data.reshape(100,1)"
      ],
      "metadata": {
        "colab": {
          "base_uri": "https://localhost:8080/"
        },
        "id": "s-88WjEq6Icj",
        "outputId": "d0d4a47d-30d9-4684-be25-6b320a9de183"
      },
      "execution_count": 38,
      "outputs": [
        {
          "output_type": "execute_result",
          "data": {
            "text/plain": [
              "array([[73],\n",
              "       [53],\n",
              "       [17],\n",
              "       [60],\n",
              "       [93],\n",
              "       [44],\n",
              "       [90],\n",
              "       [64],\n",
              "       [16],\n",
              "       [25],\n",
              "       [66],\n",
              "       [44],\n",
              "       [36],\n",
              "       [21],\n",
              "       [43],\n",
              "       [52],\n",
              "       [72],\n",
              "       [84],\n",
              "       [59],\n",
              "       [77],\n",
              "       [52],\n",
              "       [11],\n",
              "       [71],\n",
              "       [38],\n",
              "       [50],\n",
              "       [74],\n",
              "       [65],\n",
              "       [76],\n",
              "       [82],\n",
              "       [30],\n",
              "       [34],\n",
              "       [42],\n",
              "       [73],\n",
              "       [74],\n",
              "       [15],\n",
              "       [95],\n",
              "       [13],\n",
              "       [18],\n",
              "       [86],\n",
              "       [27],\n",
              "       [44],\n",
              "       [85],\n",
              "       [12],\n",
              "       [39],\n",
              "       [20],\n",
              "       [37],\n",
              "       [19],\n",
              "       [61],\n",
              "       [35],\n",
              "       [14],\n",
              "       [26],\n",
              "       [80],\n",
              "       [73],\n",
              "       [61],\n",
              "       [34],\n",
              "       [73],\n",
              "       [67],\n",
              "       [17],\n",
              "       [95],\n",
              "       [43],\n",
              "       [26],\n",
              "       [96],\n",
              "       [56],\n",
              "       [57],\n",
              "       [62],\n",
              "       [81],\n",
              "       [69],\n",
              "       [82],\n",
              "       [80],\n",
              "       [33],\n",
              "       [34],\n",
              "       [38],\n",
              "       [54],\n",
              "       [88],\n",
              "       [95],\n",
              "       [93],\n",
              "       [31],\n",
              "       [73],\n",
              "       [22],\n",
              "       [33],\n",
              "       [61],\n",
              "       [32],\n",
              "       [46],\n",
              "       [69],\n",
              "       [47],\n",
              "       [27],\n",
              "       [42],\n",
              "       [78],\n",
              "       [34],\n",
              "       [59],\n",
              "       [85],\n",
              "       [97],\n",
              "       [33],\n",
              "       [77],\n",
              "       [53],\n",
              "       [75],\n",
              "       [79],\n",
              "       [11],\n",
              "       [56],\n",
              "       [81]])"
            ]
          },
          "metadata": {},
          "execution_count": 38
        }
      ]
    },
    {
      "cell_type": "code",
      "source": [
        "# if one dimention is unknown then we can use -1 in that. but only on one dimention\n",
        "data.reshape(-1,1) # let's first dimention is unknown"
      ],
      "metadata": {
        "colab": {
          "base_uri": "https://localhost:8080/"
        },
        "id": "AXJaRXvG8tS0",
        "outputId": "32035b2b-1630-4ca2-858b-aa822784e523"
      },
      "execution_count": 39,
      "outputs": [
        {
          "output_type": "execute_result",
          "data": {
            "text/plain": [
              "array([[73],\n",
              "       [53],\n",
              "       [17],\n",
              "       [60],\n",
              "       [93],\n",
              "       [44],\n",
              "       [90],\n",
              "       [64],\n",
              "       [16],\n",
              "       [25],\n",
              "       [66],\n",
              "       [44],\n",
              "       [36],\n",
              "       [21],\n",
              "       [43],\n",
              "       [52],\n",
              "       [72],\n",
              "       [84],\n",
              "       [59],\n",
              "       [77],\n",
              "       [52],\n",
              "       [11],\n",
              "       [71],\n",
              "       [38],\n",
              "       [50],\n",
              "       [74],\n",
              "       [65],\n",
              "       [76],\n",
              "       [82],\n",
              "       [30],\n",
              "       [34],\n",
              "       [42],\n",
              "       [73],\n",
              "       [74],\n",
              "       [15],\n",
              "       [95],\n",
              "       [13],\n",
              "       [18],\n",
              "       [86],\n",
              "       [27],\n",
              "       [44],\n",
              "       [85],\n",
              "       [12],\n",
              "       [39],\n",
              "       [20],\n",
              "       [37],\n",
              "       [19],\n",
              "       [61],\n",
              "       [35],\n",
              "       [14],\n",
              "       [26],\n",
              "       [80],\n",
              "       [73],\n",
              "       [61],\n",
              "       [34],\n",
              "       [73],\n",
              "       [67],\n",
              "       [17],\n",
              "       [95],\n",
              "       [43],\n",
              "       [26],\n",
              "       [96],\n",
              "       [56],\n",
              "       [57],\n",
              "       [62],\n",
              "       [81],\n",
              "       [69],\n",
              "       [82],\n",
              "       [80],\n",
              "       [33],\n",
              "       [34],\n",
              "       [38],\n",
              "       [54],\n",
              "       [88],\n",
              "       [95],\n",
              "       [93],\n",
              "       [31],\n",
              "       [73],\n",
              "       [22],\n",
              "       [33],\n",
              "       [61],\n",
              "       [32],\n",
              "       [46],\n",
              "       [69],\n",
              "       [47],\n",
              "       [27],\n",
              "       [42],\n",
              "       [78],\n",
              "       [34],\n",
              "       [59],\n",
              "       [85],\n",
              "       [97],\n",
              "       [33],\n",
              "       [77],\n",
              "       [53],\n",
              "       [75],\n",
              "       [79],\n",
              "       [11],\n",
              "       [56],\n",
              "       [81]])"
            ]
          },
          "metadata": {},
          "execution_count": 39
        }
      ]
    },
    {
      "cell_type": "code",
      "source": [
        "# reshape show be done as reshape(a,b) that a*b = size of original\n",
        "data.reshape(50,2)"
      ],
      "metadata": {
        "colab": {
          "base_uri": "https://localhost:8080/"
        },
        "id": "3wdco7RQ9Ldx",
        "outputId": "72684eb9-bc93-4f4d-8cf2-7480f9a6e324"
      },
      "execution_count": 40,
      "outputs": [
        {
          "output_type": "execute_result",
          "data": {
            "text/plain": [
              "array([[73, 53],\n",
              "       [17, 60],\n",
              "       [93, 44],\n",
              "       [90, 64],\n",
              "       [16, 25],\n",
              "       [66, 44],\n",
              "       [36, 21],\n",
              "       [43, 52],\n",
              "       [72, 84],\n",
              "       [59, 77],\n",
              "       [52, 11],\n",
              "       [71, 38],\n",
              "       [50, 74],\n",
              "       [65, 76],\n",
              "       [82, 30],\n",
              "       [34, 42],\n",
              "       [73, 74],\n",
              "       [15, 95],\n",
              "       [13, 18],\n",
              "       [86, 27],\n",
              "       [44, 85],\n",
              "       [12, 39],\n",
              "       [20, 37],\n",
              "       [19, 61],\n",
              "       [35, 14],\n",
              "       [26, 80],\n",
              "       [73, 61],\n",
              "       [34, 73],\n",
              "       [67, 17],\n",
              "       [95, 43],\n",
              "       [26, 96],\n",
              "       [56, 57],\n",
              "       [62, 81],\n",
              "       [69, 82],\n",
              "       [80, 33],\n",
              "       [34, 38],\n",
              "       [54, 88],\n",
              "       [95, 93],\n",
              "       [31, 73],\n",
              "       [22, 33],\n",
              "       [61, 32],\n",
              "       [46, 69],\n",
              "       [47, 27],\n",
              "       [42, 78],\n",
              "       [34, 59],\n",
              "       [85, 97],\n",
              "       [33, 77],\n",
              "       [53, 75],\n",
              "       [79, 11],\n",
              "       [56, 81]])"
            ]
          },
          "metadata": {},
          "execution_count": 40
        }
      ]
    },
    {
      "cell_type": "code",
      "source": [
        "data.reshape(50,3)"
      ],
      "metadata": {
        "colab": {
          "base_uri": "https://localhost:8080/",
          "height": 147
        },
        "id": "CgXYruEb9ohK",
        "outputId": "159d94c2-210d-4b33-9563-c2e9756959e4"
      },
      "execution_count": 41,
      "outputs": [
        {
          "output_type": "error",
          "ename": "ValueError",
          "evalue": "cannot reshape array of size 100 into shape (50,3)",
          "traceback": [
            "\u001b[0;31m---------------------------------------------------------------------------\u001b[0m",
            "\u001b[0;31mValueError\u001b[0m                                Traceback (most recent call last)",
            "\u001b[0;32m<ipython-input-41-3f1bc54d532c>\u001b[0m in \u001b[0;36m<cell line: 1>\u001b[0;34m()\u001b[0m\n\u001b[0;32m----> 1\u001b[0;31m \u001b[0mdata\u001b[0m\u001b[0;34m.\u001b[0m\u001b[0mreshape\u001b[0m\u001b[0;34m(\u001b[0m\u001b[0;36m50\u001b[0m\u001b[0;34m,\u001b[0m\u001b[0;36m3\u001b[0m\u001b[0;34m)\u001b[0m\u001b[0;34m\u001b[0m\u001b[0;34m\u001b[0m\u001b[0m\n\u001b[0m",
            "\u001b[0;31mValueError\u001b[0m: cannot reshape array of size 100 into shape (50,3)"
          ]
        }
      ]
    },
    {
      "cell_type": "markdown",
      "source": [
        "## Flattening data"
      ],
      "metadata": {
        "id": "Ysh9tR2x-saJ"
      }
    },
    {
      "cell_type": "code",
      "source": [
        "data2 = np.random.randint(10,100,25)\n",
        "data2 = data2.reshape(5,5)"
      ],
      "metadata": {
        "id": "_SuawH7k9t0I"
      },
      "execution_count": 42,
      "outputs": []
    },
    {
      "cell_type": "code",
      "source": [
        "data2"
      ],
      "metadata": {
        "colab": {
          "base_uri": "https://localhost:8080/"
        },
        "id": "l0l5-BVC-8Nz",
        "outputId": "93d03823-a481-4d48-8034-e06be9b73621"
      },
      "execution_count": 43,
      "outputs": [
        {
          "output_type": "execute_result",
          "data": {
            "text/plain": [
              "array([[67, 40, 92, 38, 30],\n",
              "       [17, 43, 32, 10, 20],\n",
              "       [49, 56, 69, 47, 62],\n",
              "       [78, 18, 86, 45, 94],\n",
              "       [61, 16, 89, 66, 31]])"
            ]
          },
          "metadata": {},
          "execution_count": 43
        }
      ]
    },
    {
      "cell_type": "code",
      "source": [
        "# Now to flatten the array we can use flatten() or ravel() function.\n",
        "# flatten() return a copy of original array\n",
        "# but ravel() return the original array\n",
        "\n",
        "data3 = data2.flatten()\n",
        "data3[0] = 100\n",
        "print(data2)\n",
        "print(data3)"
      ],
      "metadata": {
        "colab": {
          "base_uri": "https://localhost:8080/"
        },
        "id": "0TqKh_28-9Wl",
        "outputId": "869baa83-873a-4497-fae0-efa9c45ab4ba"
      },
      "execution_count": 46,
      "outputs": [
        {
          "output_type": "stream",
          "name": "stdout",
          "text": [
            "[[67 40 92 38 30]\n",
            " [17 43 32 10 20]\n",
            " [49 56 69 47 62]\n",
            " [78 18 86 45 94]\n",
            " [61 16 89 66 31]]\n",
            "[100  40  92  38  30  17  43  32  10  20  49  56  69  47  62  78  18  86\n",
            "  45  94  61  16  89  66  31]\n"
          ]
        }
      ]
    },
    {
      "cell_type": "code",
      "source": [
        "# using ravel() will reference the original array so changing in new array change the original\n",
        "data4 = data2.ravel()\n",
        "data4[0] = 100\n",
        "print(data2)\n",
        "print(data4)"
      ],
      "metadata": {
        "colab": {
          "base_uri": "https://localhost:8080/"
        },
        "id": "eNmko617AOrm",
        "outputId": "6d9561c2-5ca4-44cb-c5c8-a7e547d9d845"
      },
      "execution_count": 47,
      "outputs": [
        {
          "output_type": "stream",
          "name": "stdout",
          "text": [
            "[[100  40  92  38  30]\n",
            " [ 17  43  32  10  20]\n",
            " [ 49  56  69  47  62]\n",
            " [ 78  18  86  45  94]\n",
            " [ 61  16  89  66  31]]\n",
            "[100  40  92  38  30  17  43  32  10  20  49  56  69  47  62  78  18  86\n",
            "  45  94  61  16  89  66  31]\n"
          ]
        }
      ]
    },
    {
      "cell_type": "markdown",
      "source": [
        "## Transposing array"
      ],
      "metadata": {
        "id": "alM_BIXiBbS1"
      }
    },
    {
      "cell_type": "code",
      "source": [
        "data_T = np.random.randint(10,100,20).reshape(2,10)\n",
        "print(data_T)\n",
        "print(data_T.T)"
      ],
      "metadata": {
        "colab": {
          "base_uri": "https://localhost:8080/"
        },
        "id": "iWv53wzNBJDP",
        "outputId": "4a2cb8b4-1935-4c32-f495-909fad33e8ec"
      },
      "execution_count": 48,
      "outputs": [
        {
          "output_type": "stream",
          "name": "stdout",
          "text": [
            "[[60 59 44 49 22 57 56 92 13 14]\n",
            " [14 66 84 14 95 71 30 13 66 58]]\n",
            "[[60 14]\n",
            " [59 66]\n",
            " [44 84]\n",
            " [49 14]\n",
            " [22 95]\n",
            " [57 71]\n",
            " [56 30]\n",
            " [92 13]\n",
            " [13 66]\n",
            " [14 58]]\n"
          ]
        }
      ]
    },
    {
      "cell_type": "markdown",
      "source": [
        "### Resize array\n"
      ],
      "metadata": {
        "id": "IlLDow7MCsmw"
      }
    },
    {
      "cell_type": "code",
      "source": [
        "np.resize(data_T,(4,5))"
      ],
      "metadata": {
        "colab": {
          "base_uri": "https://localhost:8080/"
        },
        "id": "FK_vb7N_CdaI",
        "outputId": "315cd3f9-effb-41d8-febd-eab791ca7f39"
      },
      "execution_count": 49,
      "outputs": [
        {
          "output_type": "execute_result",
          "data": {
            "text/plain": [
              "array([[60, 59, 44, 49, 22],\n",
              "       [57, 56, 92, 13, 14],\n",
              "       [14, 66, 84, 14, 95],\n",
              "       [71, 30, 13, 66, 58]])"
            ]
          },
          "metadata": {},
          "execution_count": 49
        }
      ]
    },
    {
      "cell_type": "markdown",
      "source": [
        "## Handling missing data"
      ],
      "metadata": {
        "id": "Jloijh2SD27Y"
      }
    },
    {
      "cell_type": "markdown",
      "source": [
        "### Understanding missing data\n",
        "        - Types of missing values: completely missing, partially missing and incorrectly entered\n",
        "        - common reasons for missing data: data entry error, unavailablity of informatin etc."
      ],
      "metadata": {
        "id": "Msxg2hP3EEeR"
      }
    },
    {
      "cell_type": "code",
      "source": [
        "customer_data = np.array([100,230,301,134,np.nan,302,443])\n",
        "print(customer_data.max()) # it will print nan but it is not true so we have handle missing data"
      ],
      "metadata": {
        "colab": {
          "base_uri": "https://localhost:8080/"
        },
        "id": "1MMWaoWhC7gC",
        "outputId": "d964f71c-c94d-4ccb-d357-cf44a06a291f"
      },
      "execution_count": 50,
      "outputs": [
        {
          "output_type": "stream",
          "name": "stdout",
          "text": [
            "nan\n"
          ]
        }
      ]
    },
    {
      "cell_type": "markdown",
      "source": [],
      "metadata": {
        "id": "PnoszWXLH8zU"
      }
    },
    {
      "cell_type": "markdown",
      "source": [
        "### identify missing data using np.isnan()"
      ],
      "metadata": {
        "id": "StiOI2UrFmqx"
      }
    },
    {
      "cell_type": "code",
      "source": [
        "missing_value = np.isnan(customer_data)"
      ],
      "metadata": {
        "id": "826LS8qTFbzS"
      },
      "execution_count": 52,
      "outputs": []
    },
    {
      "cell_type": "code",
      "source": [
        "print(\"Number of misssing values: \",np.sum(missing_value))"
      ],
      "metadata": {
        "colab": {
          "base_uri": "https://localhost:8080/"
        },
        "id": "BKoHywChFyUb",
        "outputId": "2aeb9dbc-9004-47e5-ee9c-04c594221f98"
      },
      "execution_count": 53,
      "outputs": [
        {
          "output_type": "stream",
          "name": "stdout",
          "text": [
            "Number of misssing values:  1\n"
          ]
        }
      ]
    },
    {
      "cell_type": "markdown",
      "source": [
        "### Replacing missing values"
      ],
      "metadata": {
        "id": "psu6i7R8Gczh"
      }
    },
    {
      "cell_type": "code",
      "source": [
        "np.nan_to_num(customer_data) # it will replace nan to 0"
      ],
      "metadata": {
        "colab": {
          "base_uri": "https://localhost:8080/"
        },
        "id": "n1JmQySGGRd1",
        "outputId": "45939939-583e-40eb-d993-b98a120bd31b"
      },
      "execution_count": 54,
      "outputs": [
        {
          "output_type": "execute_result",
          "data": {
            "text/plain": [
              "array([100., 230., 301., 134.,   0., 302., 443.])"
            ]
          },
          "metadata": {},
          "execution_count": 54
        }
      ]
    },
    {
      "cell_type": "code",
      "source": [
        "# filling with mean() or median()\n",
        "np.nanmean(customer_data)\n",
        "customer_data"
      ],
      "metadata": {
        "colab": {
          "base_uri": "https://localhost:8080/"
        },
        "id": "9MFH_MkyG3wi",
        "outputId": "fbc48b76-f484-408c-e2e4-58f6afc37e35"
      },
      "execution_count": 56,
      "outputs": [
        {
          "output_type": "execute_result",
          "data": {
            "text/plain": [
              "array([100., 230., 301., 134.,  nan, 302., 443.])"
            ]
          },
          "metadata": {},
          "execution_count": 56
        }
      ]
    },
    {
      "cell_type": "code",
      "source": [
        "# it does not fill autometically so we should do it manually\n",
        "data_fill = np.where(np.isnan(customer_data),np.nanmean(customer_data),customer_data)\n",
        "data_fill"
      ],
      "metadata": {
        "colab": {
          "base_uri": "https://localhost:8080/"
        },
        "id": "3N1vQPDUHSHI",
        "outputId": "b18f5382-e6e7-4e00-ad15-e5398840e99f"
      },
      "execution_count": 57,
      "outputs": [
        {
          "output_type": "execute_result",
          "data": {
            "text/plain": [
              "array([100.        , 230.        , 301.        , 134.        ,\n",
              "       251.66666667, 302.        , 443.        ])"
            ]
          },
          "metadata": {},
          "execution_count": 57
        }
      ]
    },
    {
      "cell_type": "markdown",
      "source": [
        "### deleting the missing data"
      ],
      "metadata": {
        "id": "3lKySe9tIxhk"
      }
    },
    {
      "cell_type": "code",
      "source": [
        "data_without_nan = customer_data[~np.isnan(customer_data)]\n",
        "data_without_nan"
      ],
      "metadata": {
        "colab": {
          "base_uri": "https://localhost:8080/"
        },
        "id": "ZMHY6twUIT7L",
        "outputId": "996cf45e-a102-4815-a3b2-383344b86e03"
      },
      "execution_count": 58,
      "outputs": [
        {
          "output_type": "execute_result",
          "data": {
            "text/plain": [
              "array([100., 230., 301., 134., 302., 443.])"
            ]
          },
          "metadata": {},
          "execution_count": 58
        }
      ]
    },
    {
      "cell_type": "markdown",
      "source": [
        "### forward and backward filling of missing data\n",
        "      using methods to fill missing data based on neighbours element"
      ],
      "metadata": {
        "id": "m_QVip81JX8L"
      }
    },
    {
      "cell_type": "code",
      "source": [
        "copy_cd = np.copy(customer_data)\n",
        "mask = np.isnan(copy_cd)\n",
        "\n",
        "copy_cd[mask] = np.roll(copy_cd,shift=-1)[mask]\n",
        "copy_cd"
      ],
      "metadata": {
        "colab": {
          "base_uri": "https://localhost:8080/"
        },
        "id": "Q_t_i-2CJOIY",
        "outputId": "218046aa-4c7f-4ab4-b1b7-081d94442c2a"
      },
      "execution_count": 59,
      "outputs": [
        {
          "output_type": "execute_result",
          "data": {
            "text/plain": [
              "array([100., 230., 301., 134., 302., 302., 443.])"
            ]
          },
          "metadata": {},
          "execution_count": 59
        }
      ]
    },
    {
      "cell_type": "markdown",
      "source": [
        "### File Handleing -- Saving and Loading Numpy array"
      ],
      "metadata": {
        "id": "gd8ZrqJeLYJ3"
      }
    },
    {
      "cell_type": "code",
      "source": [
        "age = np.array([23,45,32,53,43])\n",
        "np.save('age.npy',age)"
      ],
      "metadata": {
        "id": "MF9S6WNkK3TC"
      },
      "execution_count": 60,
      "outputs": []
    },
    {
      "cell_type": "markdown",
      "source": [
        "### Load the saving file"
      ],
      "metadata": {
        "id": "aZrIdMaYM3O7"
      }
    },
    {
      "cell_type": "code",
      "source": [
        "load_age = np.load('age.npy')\n",
        "load_age"
      ],
      "metadata": {
        "colab": {
          "base_uri": "https://localhost:8080/"
        },
        "id": "_wsYzNLTMNSR",
        "outputId": "bd5a338b-73db-4e7f-e9e9-98ac2fc60d30"
      },
      "execution_count": 62,
      "outputs": [
        {
          "output_type": "execute_result",
          "data": {
            "text/plain": [
              "array([23, 45, 32, 53, 43])"
            ]
          },
          "metadata": {},
          "execution_count": 62
        }
      ]
    },
    {
      "cell_type": "markdown",
      "source": [
        "### Save text"
      ],
      "metadata": {
        "id": "hWvQZj-FM5ot"
      }
    },
    {
      "cell_type": "code",
      "source": [
        "np.savetxt('age.txt',load_age,delimiter=',')"
      ],
      "metadata": {
        "id": "6eAM7r2TMooB"
      },
      "execution_count": 63,
      "outputs": []
    },
    {
      "cell_type": "markdown",
      "source": [
        "### Load text"
      ],
      "metadata": {
        "id": "povnZEKvO8HT"
      }
    },
    {
      "cell_type": "code",
      "source": [
        "new_age = np.loadtxt('age.txt',delimiter=',')\n",
        "new_age"
      ],
      "metadata": {
        "colab": {
          "base_uri": "https://localhost:8080/"
        },
        "id": "JzxOdZ7oNQIL",
        "outputId": "7e22cb75-c152-424e-8305-ee8afb656f97"
      },
      "execution_count": 64,
      "outputs": [
        {
          "output_type": "execute_result",
          "data": {
            "text/plain": [
              "array([23., 45., 32., 53., 43.])"
            ]
          },
          "metadata": {},
          "execution_count": 64
        }
      ]
    },
    {
      "cell_type": "code",
      "source": [],
      "metadata": {
        "id": "g2_ExTb9PKsL"
      },
      "execution_count": null,
      "outputs": []
    }
  ]
}
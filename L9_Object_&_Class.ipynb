{
  "nbformat": 4,
  "nbformat_minor": 0,
  "metadata": {
    "colab": {
      "provenance": [],
      "authorship_tag": "ABX9TyOCINSklwQ2mTxIRHyrUCnV",
      "include_colab_link": true
    },
    "kernelspec": {
      "name": "python3",
      "display_name": "Python 3"
    },
    "language_info": {
      "name": "python"
    }
  },
  "cells": [
    {
      "cell_type": "markdown",
      "metadata": {
        "id": "view-in-github",
        "colab_type": "text"
      },
      "source": [
        "<a href=\"https://colab.research.google.com/github/tao73bot/PythonLearing-BS/blob/main/L9_Object_%26_Class.ipynb\" target=\"_parent\"><img src=\"https://colab.research.google.com/assets/colab-badge.svg\" alt=\"Open In Colab\"/></a>"
      ]
    },
    {
      "cell_type": "markdown",
      "source": [
        "## Class creating"
      ],
      "metadata": {
        "id": "x8Ps9iNMBKYD"
      }
    },
    {
      "cell_type": "code",
      "execution_count": 9,
      "metadata": {
        "id": "8zgkd_KW_MWf"
      },
      "outputs": [],
      "source": [
        "class dog:\n",
        "  def __init__(self,name):\n",
        "    self.name = name\n",
        "    print(f'This is a dog class and its name is {self.name}')\n",
        "\n",
        "  def bark(self):\n",
        "    print(f'{self.name} burk like woof!')\n"
      ]
    },
    {
      "cell_type": "markdown",
      "source": [
        "## Instantiate dog class"
      ],
      "metadata": {
        "id": "vN3yiUOtBxBf"
      }
    },
    {
      "cell_type": "code",
      "source": [
        "dog1 = dog('Tiger')\n",
        "dog2 = dog('Kalu')\n",
        "dog1.bark()\n",
        "dog2.bark()"
      ],
      "metadata": {
        "colab": {
          "base_uri": "https://localhost:8080/"
        },
        "id": "ODgiOLtfBvn2",
        "outputId": "a70d1418-efa9-4aa9-e53c-24858f2a0858"
      },
      "execution_count": 10,
      "outputs": [
        {
          "output_type": "stream",
          "name": "stdout",
          "text": [
            "This is a dog class and its name is Tiger\n",
            "This is a dog class and its name is Kalu\n",
            "Tiger burk like woof!\n",
            "Kalu burk like woof!\n"
          ]
        }
      ]
    },
    {
      "cell_type": "markdown",
      "source": [
        "- Exercise of creating class of a person and printing his information"
      ],
      "metadata": {
        "id": "qSRmArLYC1JV"
      }
    },
    {
      "cell_type": "code",
      "source": [
        "class Person:\n",
        "  def __init__(self,name,age):\n",
        "    self.name = name\n",
        "    self.age = age\n",
        "\n",
        "\n",
        "fahad = Person(\"Fahad\",24)\n",
        "print(fahad.name)\n",
        "print(fahad.age)"
      ],
      "metadata": {
        "colab": {
          "base_uri": "https://localhost:8080/"
        },
        "id": "HNheHID9CB7A",
        "outputId": "eca03392-7613-4717-891d-78eba7e545a1"
      },
      "execution_count": 7,
      "outputs": [
        {
          "output_type": "stream",
          "name": "stdout",
          "text": [
            "Fahad\n",
            "24\n"
          ]
        }
      ]
    },
    {
      "cell_type": "markdown",
      "source": [
        "## Class Attribute VS Instance Attribute"
      ],
      "metadata": {
        "id": "7egFw-agJ2vr"
      }
    },
    {
      "cell_type": "code",
      "source": [
        "class dog:\n",
        "  def __init__(self,name):\n",
        "    number_of_legs = 4 # Class object attribute\n",
        "    self.name = name\n",
        "    print(f'This is a dog class and its name is {self.name}')\n",
        "\n",
        "  def bark(self):\n",
        "    print(f'{self.name} burk like woof!')"
      ],
      "metadata": {
        "id": "6QDVxI_5Dr0m"
      },
      "execution_count": 11,
      "outputs": []
    },
    {
      "cell_type": "markdown",
      "source": [
        "- Step 1: Define a class called car.\n",
        "- Step 2: Define a class attribute called wheels.\n",
        "- Step 3: In the constructor define 1: maker of the car and 2: model of the car\n",
        "- Step 4: Print the name and how many wheels there are"
      ],
      "metadata": {
        "id": "wvf-rLj5NKZU"
      }
    },
    {
      "cell_type": "code",
      "source": [
        "class Car:\n",
        "  wheels = 4\n",
        "  def __init__(self,maker,model) -> None:\n",
        "    self.maker = maker\n",
        "    self.model = model\n",
        "\n",
        "\n",
        "toyota = Car('Toyota','Land Cruser')\n",
        "print(toyota.maker)\n",
        "print(toyota.wheels)"
      ],
      "metadata": {
        "colab": {
          "base_uri": "https://localhost:8080/"
        },
        "id": "Qa9t5gY5NIzo",
        "outputId": "ab9593f1-7997-4f92-d76a-3894326318e9"
      },
      "execution_count": 12,
      "outputs": [
        {
          "output_type": "stream",
          "name": "stdout",
          "text": [
            "Toyota\n",
            "4\n"
          ]
        }
      ]
    },
    {
      "cell_type": "markdown",
      "source": [
        "## Inheritance"
      ],
      "metadata": {
        "id": "6k8_cD_vQVZN"
      }
    },
    {
      "cell_type": "code",
      "source": [
        "class Vehicle:\n",
        "  def starting_engine(self):\n",
        "    print('Engine has started!')"
      ],
      "metadata": {
        "id": "VPWt9LEnOO3C"
      },
      "execution_count": 13,
      "outputs": []
    },
    {
      "cell_type": "code",
      "source": [
        "class Car(Vehicle):\n",
        "  pass\n",
        "\n",
        "Audi = Car()\n",
        "Audi.starting_engine()"
      ],
      "metadata": {
        "colab": {
          "base_uri": "https://localhost:8080/"
        },
        "id": "tsr3hcMKSgRM",
        "outputId": "cef926f3-773e-4de6-b2b6-26b465fce3d7"
      },
      "execution_count": 15,
      "outputs": [
        {
          "output_type": "stream",
          "name": "stdout",
          "text": [
            "Engine has started!\n"
          ]
        }
      ]
    },
    {
      "cell_type": "code",
      "source": [
        "class Truck(Vehicle):\n",
        "  def __init__(self) -> None:\n",
        "    print('It is a truck')\n",
        "\n",
        "  def starting_engine(self):\n",
        "    print('Truck engine has started!')   # This is method overriding\n",
        "\n",
        "\n",
        "my_truck = Truck()\n",
        "my_truck.starting_engine()"
      ],
      "metadata": {
        "colab": {
          "base_uri": "https://localhost:8080/"
        },
        "id": "5zpmEegMSkdK",
        "outputId": "8d5e90c6-3d77-4bd2-a94a-a307adc410fd"
      },
      "execution_count": 18,
      "outputs": [
        {
          "output_type": "stream",
          "name": "stdout",
          "text": [
            "It is a truck\n",
            "Truck engine has started!\n"
          ]
        }
      ]
    },
    {
      "cell_type": "markdown",
      "source": [
        "## Encapsulation"
      ],
      "metadata": {
        "id": "dAM0JBeUqbKa"
      }
    },
    {
      "cell_type": "code",
      "source": [
        "class BankAccount:\n",
        "  def __init__(self,balance) -> None:\n",
        "    self.__balance = balance     # __balance denotes private variable\n",
        "\n",
        "  def deposite(self,amount):\n",
        "    self.__balance += amount\n",
        "\n",
        "  def withdraw(self,amount):\n",
        "    self.__balance -= amount\n",
        "\n",
        "  def get_balance(self):\n",
        "    return self.__balance\n",
        "\n",
        "account = BankAccount(1000)\n",
        "account.deposite(500)\n",
        "account.withdraw(10)\n",
        "print(account.get_balance())"
      ],
      "metadata": {
        "colab": {
          "base_uri": "https://localhost:8080/"
        },
        "id": "f4m7eAXco1-8",
        "outputId": "7faa0da3-aad4-449a-f044-fe7806473dd3"
      },
      "execution_count": 19,
      "outputs": [
        {
          "output_type": "stream",
          "name": "stdout",
          "text": [
            "1490\n"
          ]
        }
      ]
    },
    {
      "cell_type": "markdown",
      "source": [
        "- Step 1: 1: Define a class named computer, with attribute using double underscore,\n",
        "meaning __\n",
        "- Step 2: Use brand and model constructors (arguments). Make brand and model private\n",
        "- Step 3: Define a function (meaning a method) called get info that only has the self\n",
        "attribute\n",
        "- Step 4: Get info should show (meaning return) the brand and model"
      ],
      "metadata": {
        "id": "2AY1rqJItanU"
      }
    },
    {
      "cell_type": "code",
      "source": [
        "class Computer:\n",
        "  def __init__(self,brand,model) -> None:\n",
        "    self.__brand = brand\n",
        "    self.__model = model\n",
        "\n",
        "  def get_info(self):\n",
        "    return self.__brand + ' ' + self.__model\n",
        "\n",
        "hp = Computer('HP','Pavilion')\n",
        "hp.get_info()"
      ],
      "metadata": {
        "colab": {
          "base_uri": "https://localhost:8080/",
          "height": 37
        },
        "id": "HsR9XZGpslRO",
        "outputId": "32c8dd19-c2cc-4347-e422-969783b53062"
      },
      "execution_count": 20,
      "outputs": [
        {
          "output_type": "execute_result",
          "data": {
            "text/plain": [
              "'HP Pavilion'"
            ],
            "application/vnd.google.colaboratory.intrinsic+json": {
              "type": "string"
            }
          },
          "metadata": {},
          "execution_count": 20
        }
      ]
    },
    {
      "cell_type": "markdown",
      "source": [
        "## Dunder Method"
      ],
      "metadata": {
        "id": "zRD_fv-s2Y-g"
      }
    },
    {
      "cell_type": "code",
      "source": [
        "class Book:\n",
        "  def __init__(self,book,author) -> None:\n",
        "    self.book = book\n",
        "    self.author = author\n",
        "\n",
        "  def __str__(self):\n",
        "    return self.book + \" BY: \" + self.author\n",
        "\n",
        "\n",
        "book = Book('Harry Potter','J.K. Rouling')\n",
        "print(book)"
      ],
      "metadata": {
        "colab": {
          "base_uri": "https://localhost:8080/"
        },
        "id": "EIL0bvvSwQTn",
        "outputId": "ac7c777d-c087-4914-ccd9-dfbdfc68459b"
      },
      "execution_count": 22,
      "outputs": [
        {
          "output_type": "stream",
          "name": "stdout",
          "text": [
            "Harry Potter BY: J.K. Rouling\n"
          ]
        }
      ]
    },
    {
      "cell_type": "code",
      "source": [
        "class Number:\n",
        "  def __init__(self,number):\n",
        "    self.number = number\n",
        "\n",
        "  def __add__(self,value):\n",
        "    return self.number + value\n",
        "\n",
        "  def __eq__(self,new_num):\n",
        "    return self.number == new_num\n",
        "\n",
        "num = Number(10)\n",
        "num+2"
      ],
      "metadata": {
        "colab": {
          "base_uri": "https://localhost:8080/"
        },
        "id": "bJirh7Js5-Pj",
        "outputId": "0d07b606-71a2-44d0-ed84-b0c1113886cf"
      },
      "execution_count": 26,
      "outputs": [
        {
          "output_type": "execute_result",
          "data": {
            "text/plain": [
              "12"
            ]
          },
          "metadata": {},
          "execution_count": 26
        }
      ]
    },
    {
      "cell_type": "code",
      "source": [
        "num == 12"
      ],
      "metadata": {
        "colab": {
          "base_uri": "https://localhost:8080/"
        },
        "id": "7DDmje8j7KJR",
        "outputId": "b98133e3-0291-4e22-86db-d988640e32b1"
      },
      "execution_count": 27,
      "outputs": [
        {
          "output_type": "execute_result",
          "data": {
            "text/plain": [
              "False"
            ]
          },
          "metadata": {},
          "execution_count": 27
        }
      ]
    },
    {
      "cell_type": "code",
      "source": [
        "num == 10"
      ],
      "metadata": {
        "colab": {
          "base_uri": "https://localhost:8080/"
        },
        "id": "BsEiYZMn792S",
        "outputId": "12bac4c8-ba87-449b-ecf7-4deb4be8fadd"
      },
      "execution_count": 28,
      "outputs": [
        {
          "output_type": "execute_result",
          "data": {
            "text/plain": [
              "True"
            ]
          },
          "metadata": {},
          "execution_count": 28
        }
      ]
    },
    {
      "cell_type": "markdown",
      "source": [
        "## Composition"
      ],
      "metadata": {
        "id": "QopiNu559rkV"
      }
    },
    {
      "cell_type": "code",
      "source": [
        "class Engine:\n",
        "  def start(self):\n",
        "    print('Engine Start')\n",
        "\n",
        "class Car:\n",
        "  def __init__(self):\n",
        "    self.engine = Engine()  # Composition"
      ],
      "metadata": {
        "id": "tbiGxYXH8ApO"
      },
      "execution_count": 29,
      "outputs": []
    },
    {
      "cell_type": "code",
      "source": [
        "car = Car()"
      ],
      "metadata": {
        "id": "V7encYzk-V96"
      },
      "execution_count": 30,
      "outputs": []
    },
    {
      "cell_type": "code",
      "source": [
        "car.engine.start()"
      ],
      "metadata": {
        "colab": {
          "base_uri": "https://localhost:8080/"
        },
        "id": "AVBpijBH-Yah",
        "outputId": "7834cca9-2b42-46f6-e378-4364cfb962ba"
      },
      "execution_count": 31,
      "outputs": [
        {
          "output_type": "stream",
          "name": "stdout",
          "text": [
            "Engine Start\n"
          ]
        }
      ]
    },
    {
      "cell_type": "markdown",
      "source": [
        "## Final Exercise\n",
        "\n",
        "- Create a class called `BankAccount` with attributes for account number and balance\n",
        "- Add methods to `BankAccount` class for deposite,withdrawal and balance check\n",
        "- Create a dictionary called `accounts` to store multiple `BankAccount` objects\n",
        "- Implement a user interface to interact with `BankAccount` object."
      ],
      "metadata": {
        "id": "4QIqPBbzBS8j"
      }
    },
    {
      "cell_type": "code",
      "source": [
        "import tkinter as tk\n",
        "from tkinter import messagebox\n",
        "\n",
        "class BankAccount:\n",
        "  def __init__(self,acc_num,balance=0):\n",
        "    self.acc_num = acc_num\n",
        "    self.__balance = balance\n",
        "\n",
        "  def deposite(self,amount):\n",
        "    self.__balance += amount\n",
        "\n",
        "  def withdrawal(self,amount):\n",
        "    if self.__balance >= amount:\n",
        "      self.__balance -= amount\n",
        "    else:\n",
        "      return 'Insuficient Balance'\n",
        "\n",
        "  def balance_check(self):\n",
        "    return self.__balance\n"
      ],
      "metadata": {
        "id": "cU62cC2f-g2e"
      },
      "execution_count": 38,
      "outputs": []
    },
    {
      "cell_type": "code",
      "source": [
        "accounts = {}\n",
        "\n",
        "acc1 = BankAccount('1',1000)\n",
        "acc1.deposite(109)\n",
        "acc1.withdrawal(209)\n",
        "\n",
        "acc2 = BankAccount('2',5600)\n",
        "acc2.deposite(409)\n",
        "acc2.withdrawal(309)\n",
        "\n",
        "accounts[acc1.acc_num] = acc1\n",
        "accounts[acc2.acc_num] = acc2"
      ],
      "metadata": {
        "id": "soS_ZoXQIubJ"
      },
      "execution_count": 39,
      "outputs": []
    },
    {
      "cell_type": "code",
      "source": [
        "class BankAccountUI:\n",
        "    def __init__(self, root, account):\n",
        "        self.account = account\n",
        "\n",
        "        self.root = root\n",
        "        self.root.title(\"Bank Account\")\n",
        "\n",
        "        # Labels and Entry for Account Number\n",
        "        self.acc_label = tk.Label(root, text=f\"Account Number: {self.account.acc_num}\", font=(\"Arial\", 16))\n",
        "        self.acc_label.pack(pady=10)\n",
        "\n",
        "        # Label to display balance\n",
        "        self.balance_label = tk.Label(root, text=f\"Balance: {self.account.balance_check()}\", font=(\"Arial\", 16))\n",
        "        self.balance_label.pack(pady=10)\n",
        "\n",
        "        # Deposit amount entry\n",
        "        self.deposit_label = tk.Label(root, text=\"Deposit Amount:\")\n",
        "        self.deposit_label.pack()\n",
        "        self.deposit_entry = tk.Entry(root)\n",
        "        self.deposit_entry.pack()\n",
        "\n",
        "        # Deposit button\n",
        "        self.deposit_button = tk.Button(root, text=\"Deposit\", command=self.deposit)\n",
        "        self.deposit_button.pack(pady=10)\n",
        "\n",
        "        # Withdrawal amount entry\n",
        "        self.withdrawal_label = tk.Label(root, text=\"Withdrawal Amount:\")\n",
        "        self.withdrawal_label.pack()\n",
        "        self.withdrawal_entry = tk.Entry(root)\n",
        "        self.withdrawal_entry.pack()\n",
        "\n",
        "        # Withdrawal button\n",
        "        self.withdrawal_button = tk.Button(root, text=\"Withdraw\", command=self.withdraw)\n",
        "        self.withdrawal_button.pack(pady=10)\n",
        "\n",
        "        # Balance check button\n",
        "        self.balance_button = tk.Button(root, text=\"Check Balance\", command=self.check_balance)\n",
        "        self.balance_button.pack(pady=10)\n",
        "\n",
        "        # Exit button\n",
        "        self.exit_button = tk.Button(root, text=\"Exit\", command=root.quit)\n",
        "        self.exit_button.pack(pady=10)\n",
        "\n",
        "    def deposit(self):\n",
        "        amount = self.deposit_entry.get()\n",
        "        if amount.isdigit():\n",
        "            self.account.deposit(float(amount))\n",
        "            messagebox.showinfo(\"Success\", f\"${amount} deposited successfully!\")\n",
        "        else:\n",
        "            messagebox.showerror(\"Error\", \"Please enter a valid amount.\")\n",
        "        self.update_balance()\n",
        "\n",
        "    def withdraw(self):\n",
        "        amount = self.withdrawal_entry.get()\n",
        "        if amount.isdigit():\n",
        "            result = self.account.withdrawal(float(amount))\n",
        "            if result:\n",
        "                messagebox.showerror(\"Error\", result)\n",
        "            else:\n",
        "                messagebox.showinfo(\"Success\", f\"${amount} withdrawn successfully!\")\n",
        "        else:\n",
        "            messagebox.showerror(\"Error\", \"Please enter a valid amount.\")\n",
        "        self.update_balance()\n",
        "\n",
        "    def check_balance(self):\n",
        "        balance = self.account.balance_check()\n",
        "        messagebox.showinfo(\"Balance\", f\"Your current balance is: ${balance:.2f}\")\n",
        "\n",
        "    def update_balance(self):\n",
        "        self.balance_label.config(text=f\"Balance: {self.account.balance_check():.2f}\")\n",
        "\n",
        "if __name__ == \"__main__\":\n",
        "    accounts = {}\n",
        "    acc1 = BankAccount('1',1000.0)\n",
        "    acc2 = BankAccount('2',20331.50)\n",
        "\n",
        "    accounts[acc1.acc_num] = acc1\n",
        "    accounts[acc2.acc_num] = acc2\n",
        "\n",
        "    root = tk.Tk()\n",
        "\n",
        "    app = BankAccountUI(root, acc1)\n",
        "\n",
        "    root.mainloop()"
      ],
      "metadata": {
        "colab": {
          "base_uri": "https://localhost:8080/",
          "height": 348
        },
        "id": "kGPU0weeKzET",
        "outputId": "464029d9-ccd7-434a-80b0-54a6d9aadd7c"
      },
      "execution_count": 40,
      "outputs": [
        {
          "output_type": "error",
          "ename": "TclError",
          "evalue": "no display name and no $DISPLAY environment variable",
          "traceback": [
            "\u001b[0;31m---------------------------------------------------------------------------\u001b[0m",
            "\u001b[0;31mTclError\u001b[0m                                  Traceback (most recent call last)",
            "\u001b[0;32m<ipython-input-40-56b240ee287a>\u001b[0m in \u001b[0;36m<cell line: 73>\u001b[0;34m()\u001b[0m\n\u001b[1;32m     81\u001b[0m \u001b[0;34m\u001b[0m\u001b[0m\n\u001b[1;32m     82\u001b[0m     \u001b[0;31m# Create the main window\u001b[0m\u001b[0;34m\u001b[0m\u001b[0;34m\u001b[0m\u001b[0m\n\u001b[0;32m---> 83\u001b[0;31m     \u001b[0mroot\u001b[0m \u001b[0;34m=\u001b[0m \u001b[0mtk\u001b[0m\u001b[0;34m.\u001b[0m\u001b[0mTk\u001b[0m\u001b[0;34m(\u001b[0m\u001b[0;34m)\u001b[0m\u001b[0;34m\u001b[0m\u001b[0;34m\u001b[0m\u001b[0m\n\u001b[0m\u001b[1;32m     84\u001b[0m \u001b[0;34m\u001b[0m\u001b[0m\n\u001b[1;32m     85\u001b[0m     \u001b[0;31m# Create the BankAccountUI instance\u001b[0m\u001b[0;34m\u001b[0m\u001b[0;34m\u001b[0m\u001b[0m\n",
            "\u001b[0;32m/usr/lib/python3.10/tkinter/__init__.py\u001b[0m in \u001b[0;36m__init__\u001b[0;34m(self, screenName, baseName, className, useTk, sync, use)\u001b[0m\n\u001b[1;32m   2297\u001b[0m                 \u001b[0mbaseName\u001b[0m \u001b[0;34m=\u001b[0m \u001b[0mbaseName\u001b[0m \u001b[0;34m+\u001b[0m \u001b[0mext\u001b[0m\u001b[0;34m\u001b[0m\u001b[0;34m\u001b[0m\u001b[0m\n\u001b[1;32m   2298\u001b[0m         \u001b[0minteractive\u001b[0m \u001b[0;34m=\u001b[0m \u001b[0;32mFalse\u001b[0m\u001b[0;34m\u001b[0m\u001b[0;34m\u001b[0m\u001b[0m\n\u001b[0;32m-> 2299\u001b[0;31m         \u001b[0mself\u001b[0m\u001b[0;34m.\u001b[0m\u001b[0mtk\u001b[0m \u001b[0;34m=\u001b[0m \u001b[0m_tkinter\u001b[0m\u001b[0;34m.\u001b[0m\u001b[0mcreate\u001b[0m\u001b[0;34m(\u001b[0m\u001b[0mscreenName\u001b[0m\u001b[0;34m,\u001b[0m \u001b[0mbaseName\u001b[0m\u001b[0;34m,\u001b[0m \u001b[0mclassName\u001b[0m\u001b[0;34m,\u001b[0m \u001b[0minteractive\u001b[0m\u001b[0;34m,\u001b[0m \u001b[0mwantobjects\u001b[0m\u001b[0;34m,\u001b[0m \u001b[0museTk\u001b[0m\u001b[0;34m,\u001b[0m \u001b[0msync\u001b[0m\u001b[0;34m,\u001b[0m \u001b[0muse\u001b[0m\u001b[0;34m)\u001b[0m\u001b[0;34m\u001b[0m\u001b[0;34m\u001b[0m\u001b[0m\n\u001b[0m\u001b[1;32m   2300\u001b[0m         \u001b[0;32mif\u001b[0m \u001b[0museTk\u001b[0m\u001b[0;34m:\u001b[0m\u001b[0;34m\u001b[0m\u001b[0;34m\u001b[0m\u001b[0m\n\u001b[1;32m   2301\u001b[0m             \u001b[0mself\u001b[0m\u001b[0;34m.\u001b[0m\u001b[0m_loadtk\u001b[0m\u001b[0;34m(\u001b[0m\u001b[0;34m)\u001b[0m\u001b[0;34m\u001b[0m\u001b[0;34m\u001b[0m\u001b[0m\n",
            "\u001b[0;31mTclError\u001b[0m: no display name and no $DISPLAY environment variable"
          ]
        }
      ]
    },
    {
      "cell_type": "code",
      "source": [],
      "metadata": {
        "id": "dSdGV-E2OYkH"
      },
      "execution_count": null,
      "outputs": []
    }
  ]
}
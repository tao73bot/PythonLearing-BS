{
  "nbformat": 4,
  "nbformat_minor": 0,
  "metadata": {
    "colab": {
      "provenance": [],
      "authorship_tag": "ABX9TyM/aZ/S5xo2j39/SGVXPoe+",
      "include_colab_link": true
    },
    "kernelspec": {
      "name": "python3",
      "display_name": "Python 3"
    },
    "language_info": {
      "name": "python"
    }
  },
  "cells": [
    {
      "cell_type": "markdown",
      "metadata": {
        "id": "view-in-github",
        "colab_type": "text"
      },
      "source": [
        "<a href=\"https://colab.research.google.com/github/tao73bot/PythonLearing-BS/blob/main/L6_Logic%26Loops.ipynb\" target=\"_parent\"><img src=\"https://colab.research.google.com/assets/colab-badge.svg\" alt=\"Open In Colab\"/></a>"
      ]
    },
    {
      "cell_type": "markdown",
      "source": [
        "## Logical Operator"
      ],
      "metadata": {
        "id": "pqBmmZp_9RxT"
      }
    },
    {
      "cell_type": "code",
      "execution_count": null,
      "metadata": {
        "id": "ZbBb6xvQ7TM1",
        "colab": {
          "base_uri": "https://localhost:8080/"
        },
        "outputId": "05a37b8b-16ee-4ef1-92bf-7a8a5f9b6056"
      },
      "outputs": [
        {
          "output_type": "stream",
          "name": "stdout",
          "text": [
            "If the charecter hold a lightsaber? Yes\n",
            "What is the color of lightsaber? greeN\n",
            "The charecter is Yoda!\n"
          ]
        }
      ],
      "source": [
        "has_lightsaber = input('If the charecter hold a lightsaber? ')\n",
        "\n",
        "if has_lightsaber.lower() == \"yes\":\n",
        "  color = input('What is the color of lightsaber? ')\n",
        "  if(color.lower() == \"green\"):\n",
        "    print('The charecter is Yoda!')\n",
        "  else:\n",
        "    print('The charecter is just a Jedi')\n",
        "\n",
        "else:\n",
        "  print('The charecter is unknown')"
      ]
    },
    {
      "cell_type": "markdown",
      "source": [
        "## Exercise 2\n",
        "### Team 1 contains Yoda. Team 2 contains Jack and Rose. Team 3 has Darth Vader and Leah\n",
        "- Part 1: Use the if, elif, else logic:\n",
        "Select Team 1, Team 2 or Team 3. Then print:\n",
        "      \"You picked team 1, which has 1 character, which is Yoda\"\n",
        "      \"You picked team 2, which has 2 characters, Jack & Rose\"\n",
        "      \"You picked team 3, which has 2 characters, Vader & Leah\"\n",
        "- Part 2: Use the and logic. Add additional code to the bottom of Part 1 as follows:\n",
        "      \"The number of people on the team you selected is odd.\"\n",
        "      \"The number of people on the team you selected is even.\""
      ],
      "metadata": {
        "id": "LBweaeR74iiE"
      }
    },
    {
      "cell_type": "code",
      "source": [
        "team1 = ['Yoda']\n",
        "team2 = ['Jack', 'Rose']\n",
        "team3 = ['Darth Vader','Leah']\n",
        "\n",
        "select_team = int(input('Please select your team by tying 1, 2 or 3 '))\n",
        "\n",
        "def insideLogic(team):\n",
        "  num_charecter = len(team)\n",
        "  team_member = ' & '.join(team)\n",
        "  print(f'You picked team {select_team}, which has {num_charecter} character, {team_member}')\n",
        "  if(num_charecter%2 == 1):\n",
        "    print('The number of people on the team you selected is odd.')\n",
        "  else:\n",
        "    print('The number of people on the team you selected is even.')\n",
        "\n",
        "\n",
        "if select_team == 1:\n",
        "  insideLogic(team1)\n",
        "elif select_team == 2:\n",
        "  insideLogic(team2)\n",
        "elif select_team == 3:\n",
        "  insideLogic(team3)\n",
        "else:\n",
        "  print('Bro you just selected a team that does not exist!')"
      ],
      "metadata": {
        "colab": {
          "base_uri": "https://localhost:8080/"
        },
        "id": "JsJJGxvz0THS",
        "outputId": "b4ecbbdc-9ef2-476c-86bc-67f0991caf53"
      },
      "execution_count": null,
      "outputs": [
        {
          "output_type": "stream",
          "name": "stdout",
          "text": [
            "Please select your team by tying 1, 2 or 3 4\n",
            "Bro you just selected a team that does not exist!\n"
          ]
        }
      ]
    },
    {
      "cell_type": "markdown",
      "source": [
        "## match case\n",
        "### it is similar to switch case logic"
      ],
      "metadata": {
        "id": "jt8OcTmUC26p"
      }
    },
    {
      "cell_type": "code",
      "source": [
        "team = int(input('Enter your prefered team: '))\n",
        "\n",
        "match team:\n",
        "  case 1:\n",
        "    print('You selected team1')\n",
        "  case 2:\n",
        "    print('You selected team2')\n",
        "  case 3:\n",
        "    print('You selected team3')\n",
        "  case _:\n",
        "    print('Your selected team is not available!')"
      ],
      "metadata": {
        "colab": {
          "base_uri": "https://localhost:8080/"
        },
        "id": "ZmppDdY1BT8b",
        "outputId": "ada4685c-365f-49b9-b6d5-f559a4943bcc"
      },
      "execution_count": null,
      "outputs": [
        {
          "output_type": "stream",
          "name": "stdout",
          "text": [
            "Enter your prefered team: 5\n",
            "Your selected team is not available!\n"
          ]
        }
      ]
    },
    {
      "cell_type": "markdown",
      "source": [
        "## Exercise 3\n",
        "\n",
        "- Rose will purchase a 1st class ticket for 870 pounds.\n",
        "- A 2nd class ticket (for baby Yoda) costs 100.42 pounds.\n",
        "- A 3rd class ticket (for Jack) is 7 pounds.\n",
        "      Step 1: Code this: How many 1st, 2nd and 3rd class tickets do you want to purchase?\n",
        "      Step 2: Then print this: The Total price is X pounds. Please use the formatting feature with 2 decimal points."
      ],
      "metadata": {
        "id": "uunI_l2XHoEd"
      }
    },
    {
      "cell_type": "code",
      "source": [
        "first_class = int(input('How many 1st class ticket do you want to purchase?\\n'))\n",
        "second_class = int(input('How many 2nd class ticket do you want to purchase?\\n'))\n",
        "third_class = int(input('How many 3rd class ticket do you want to purchase?\\n'))\n",
        "\n",
        "total_cost = first_class*870 + second_class*100.42 + third_class*7\n",
        "\n",
        "print(f'The total price is {total_cost:.2f} pounds.')"
      ],
      "metadata": {
        "colab": {
          "base_uri": "https://localhost:8080/"
        },
        "id": "OP3YiAJKFlDQ",
        "outputId": "73c03df1-163a-4c32-ee16-38ae3b6dcb25"
      },
      "execution_count": null,
      "outputs": [
        {
          "output_type": "stream",
          "name": "stdout",
          "text": [
            "How many 1st class ticket do you want to purchase?\n",
            "2\n",
            "How many 2nd class ticket do you want to purchase?\n",
            "10\n",
            "How many 3rd class ticket do you want to purchase?\n",
            "1\n",
            "The total price is 2751.20 pounds.\n"
          ]
        }
      ]
    },
    {
      "cell_type": "markdown",
      "source": [
        "## Slicing"
      ],
      "metadata": {
        "id": "nX7Eb6DFWJz5"
      }
    },
    {
      "cell_type": "code",
      "source": [
        "name = 'Titanic'\n",
        "print(name[-1])\n",
        "print(name[6])\n",
        "print(name[6:])"
      ],
      "metadata": {
        "colab": {
          "base_uri": "https://localhost:8080/"
        },
        "id": "LnEadAPUJsK9",
        "outputId": "cca4504a-34c5-4d58-f2c1-17d5fe0b4484"
      },
      "execution_count": null,
      "outputs": [
        {
          "output_type": "stream",
          "name": "stdout",
          "text": [
            "c\n",
            "c\n",
            "c\n"
          ]
        }
      ]
    },
    {
      "cell_type": "markdown",
      "source": [
        "## Final Exercise\n",
        "\n",
        "## Instructions\n",
        "\n",
        "1. Create a list called `tasks` and populate it with initial tasks : \"Planing\", \"Designing\", \"Coding\", \"Testing\"\n",
        "2. Create another list called `time_spent` to store time spend in each tasks. Initialize it with zeros.\n",
        "3. Create a function named `log_time` that takes a task name and amount of time. It will find task in the `tasks` list and update time in the `time_spent`.\n",
        "4. Use a `while` loop to ask the user repeatedly for the task and the time spent on the task until they choose to exit.\n",
        "5. Use a `for` loop to go through the `tasks` and `time_spent` list, printing out the summary of each task."
      ],
      "metadata": {
        "id": "XmSJFfdvdApC"
      }
    },
    {
      "cell_type": "code",
      "source": [
        "tasks = ['Planning','Designing','Coding','Testing']\n",
        "time_spent = [0,0,0,0]\n",
        "\n",
        "def log_time(task,time):\n",
        "  it = tasks.index(task)\n",
        "  time_spent[it] += time\n",
        "\n",
        "while(True):\n",
        "  task = input('Please enter your task or type exit\\n')\n",
        "  if task.lower() == 'exit':\n",
        "    break\n",
        "  time = int(input('Please enter your required time\\n'))\n",
        "  log_time(task,time)\n",
        "\n",
        "for i in range(len(tasks)):\n",
        "  print(f'{tasks[i]} need {time_spent[i]} hours')"
      ],
      "metadata": {
        "id": "ZWUqWDVhk7zo",
        "colab": {
          "base_uri": "https://localhost:8080/"
        },
        "outputId": "c8866c1f-13dd-47f1-d470-c705e7a88704"
      },
      "execution_count": 11,
      "outputs": [
        {
          "output_type": "stream",
          "name": "stdout",
          "text": [
            "Please enter your task or type exit\n",
            "Planning\n",
            "Please enter your required time\n",
            "10\n",
            "Please enter your task or type exit\n",
            "Coding\n",
            "Please enter your required time\n",
            "34\n",
            "Please enter your task or type exit\n",
            "exit\n",
            "Planning need 10 hours\n",
            "Designing need 0 hours\n",
            "Coding need 34 hours\n",
            "Testing need 0 hours\n"
          ]
        }
      ]
    }
  ]
}
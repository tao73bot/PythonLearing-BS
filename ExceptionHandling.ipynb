{
  "nbformat": 4,
  "nbformat_minor": 0,
  "metadata": {
    "colab": {
      "provenance": [],
      "authorship_tag": "ABX9TyNJ/ibj1GjPwOLaLYAK+P+Q",
      "include_colab_link": true
    },
    "kernelspec": {
      "name": "python3",
      "display_name": "Python 3"
    },
    "language_info": {
      "name": "python"
    }
  },
  "cells": [
    {
      "cell_type": "markdown",
      "metadata": {
        "id": "view-in-github",
        "colab_type": "text"
      },
      "source": [
        "<a href=\"https://colab.research.google.com/github/tao73bot/PythonLearing-BS/blob/main/ExceptionHandling.ipynb\" target=\"_parent\"><img src=\"https://colab.research.google.com/assets/colab-badge.svg\" alt=\"Open In Colab\"/></a>"
      ]
    },
    {
      "cell_type": "markdown",
      "source": [
        "### Error Handling"
      ],
      "metadata": {
        "id": "fZIb9P-NfbU0"
      }
    },
    {
      "cell_type": "code",
      "execution_count": null,
      "metadata": {
        "colab": {
          "base_uri": "https://localhost:8080/"
        },
        "id": "zJ1EUDDcfZjr",
        "outputId": "5622c73e-3980-4d7c-c6c2-fd75ec6ef230"
      },
      "outputs": [
        {
          "output_type": "stream",
          "name": "stdout",
          "text": [
            "What is your age? ddkjdj\n",
            "Please enter number\n",
            "What is your age? ndndjn\n",
            "Please enter number\n",
            "What is your age? 10\n",
            "Thank you!\n"
          ]
        }
      ],
      "source": [
        "# Write a program that take age from user if user put any kind of wrong information then if ask again\n",
        "\n",
        "while True:\n",
        "  try:\n",
        "    age = int(input(\"What is your age? \"))\n",
        "  except:\n",
        "    print(\"Please enter number\")\n",
        "  else:\n",
        "    print(\"Thank you!\")\n",
        "    break"
      ]
    },
    {
      "cell_type": "code",
      "source": [
        "# Now If you enter 0 as an input then how can you handle that\n",
        "# if except caught an error then it will run again\n",
        "\n",
        "while True:\n",
        "  try:\n",
        "    age = int(input(\"What is your age? \"))\n",
        "    print(15/age)\n",
        "  except ValueError:\n",
        "    print(\"Please enter number\")\n",
        "  except ValueError:\n",
        "    print(\"!!!!!\")   ## this block will not run because valueError is caught before this\n",
        "  except ZeroDivisionError:\n",
        "    print(\"Please enter a number grater than 0\")\n",
        "  else:\n",
        "    print(\"Thank you!\")\n",
        "    break"
      ],
      "metadata": {
        "colab": {
          "base_uri": "https://localhost:8080/"
        },
        "id": "2RPLjOkkrlDj",
        "outputId": "c02a0477-f2a7-4435-920e-06c89db042c9"
      },
      "execution_count": null,
      "outputs": [
        {
          "output_type": "stream",
          "name": "stdout",
          "text": [
            "What is your age? djf\n",
            "Please enter number\n",
            "What is your age? fuff\n",
            "Please enter number\n",
            "What is your age? 0\n",
            "Please enter a number grater than 0\n",
            "What is your age? 10\n",
            "1.5\n",
            "Thank you!\n"
          ]
        }
      ]
    },
    {
      "cell_type": "code",
      "source": [
        "def sum(num1,num2):\n",
        "  try:\n",
        "    return num1 + num2\n",
        "  except TypeError as err:\n",
        "    return f\"Invalid parameter {err}\"\n",
        "\n",
        "print(sum(1,'2'))"
      ],
      "metadata": {
        "id": "brGwMUGwsgIF",
        "colab": {
          "base_uri": "https://localhost:8080/"
        },
        "outputId": "0892b068-2fcf-4839-c0d7-ed6336792a89"
      },
      "execution_count": 6,
      "outputs": [
        {
          "output_type": "stream",
          "name": "stdout",
          "text": [
            "Invalid parameter unsupported operand type(s) for +: 'int' and 'str'\n"
          ]
        }
      ]
    },
    {
      "cell_type": "code",
      "source": [
        "## how to handle multiple error at one time\n",
        "\n",
        "def div(a,b):\n",
        "  try:\n",
        "    return a/b\n",
        "  except (TypeError,ZeroDivisionError) as err:\n",
        "    return f\"OPPS! {err}\"\n",
        "\n",
        "\n",
        "print(div(10,'0'))\n",
        "print(div(10,0))\n",
        "print(div(10,2))"
      ],
      "metadata": {
        "colab": {
          "base_uri": "https://localhost:8080/"
        },
        "id": "aFqWaAt3kcjc",
        "outputId": "bac2b3bd-abb2-4b4f-ae36-3e604f338bd9"
      },
      "execution_count": 7,
      "outputs": [
        {
          "output_type": "stream",
          "name": "stdout",
          "text": [
            "OPPS! unsupported operand type(s) for /: 'int' and 'str'\n",
            "OPPS! division by zero\n",
            "5.0\n"
          ]
        }
      ]
    },
    {
      "cell_type": "code",
      "source": [
        "### Use finally\n",
        "## finally will run everytime no matter is it error or not\n",
        "while True:\n",
        "  try:\n",
        "    age = int(input(\"What is your age? \"))\n",
        "    print(15/age)\n",
        "  except ValueError:\n",
        "    print(\"Please enter number\")\n",
        "  except ValueError:\n",
        "    print(\"!!!!!\")   ## this block will not run because valueError is caught before this\n",
        "  except ZeroDivisionError:\n",
        "    print(\"Please enter a number grater than 0\")\n",
        "  else:\n",
        "    print(\"Thank you!\")\n",
        "    break\n",
        "  finally:\n",
        "    print(\"Ok! I'm done.\")"
      ],
      "metadata": {
        "colab": {
          "base_uri": "https://localhost:8080/"
        },
        "id": "SiLp40hbnI0f",
        "outputId": "01e7a646-04da-43e3-cda4-edf4378093b9"
      },
      "execution_count": 8,
      "outputs": [
        {
          "output_type": "stream",
          "name": "stdout",
          "text": [
            "What is your age? 0\n",
            "Please enter a number grater than 0\n",
            "Ok! I'm done.\n",
            "What is your age? dffh\n",
            "Please enter number\n",
            "Ok! I'm done.\n",
            "What is your age? 10\n",
            "1.5\n",
            "Thank you!\n",
            "Ok! I'm done.\n"
          ]
        }
      ]
    },
    {
      "cell_type": "code",
      "source": [
        "while True:\n",
        "  try:\n",
        "    age = int(input(\"What is your age? \"))\n",
        "    print(15/age)\n",
        "  except ValueError:\n",
        "    print(\"Please enter number\")\n",
        "    continue\n",
        "  except ValueError:\n",
        "    print(\"!!!!!\")   ## this block will not run because valueError is caught before this\n",
        "  except ZeroDivisionError:\n",
        "    print(\"Please enter a number grater than 0\")\n",
        "    break\n",
        "  else:\n",
        "    print(\"Thank you!\")\n",
        "    break\n",
        "  finally:\n",
        "    print(\"Ok! I'm done.\") ## finally will always run\n",
        "  print(\"Shun raha hena tu?\") ## this will not run if else block has break statement"
      ],
      "metadata": {
        "colab": {
          "base_uri": "https://localhost:8080/"
        },
        "id": "fmy1YQqVog6g",
        "outputId": "93fa5f1b-316f-4ec8-e696-49388ffee347"
      },
      "execution_count": 9,
      "outputs": [
        {
          "output_type": "stream",
          "name": "stdout",
          "text": [
            "What is your age? jnvj\n",
            "Please enter number\n",
            "Ok! I'm done.\n",
            "What is your age? 0\n",
            "Please enter a number grater than 0\n",
            "Ok! I'm done.\n"
          ]
        }
      ]
    },
    {
      "cell_type": "markdown",
      "source": [
        "### sometimes we have to raise error and want to stop running of program"
      ],
      "metadata": {
        "id": "fyV9rQe5qojf"
      }
    },
    {
      "cell_type": "code",
      "source": [
        "while True:\n",
        "  try:\n",
        "    age = int(input(\"What is your age? \"))\n",
        "    print(15/age)\n",
        "    raise ValueError('hey cut it out')\n",
        "  except ValueError:\n",
        "    print(\"Please enter number\")\n",
        "    continue\n",
        "  except ValueError:\n",
        "    print(\"!!!!!\")   ## this block will not run because valueError is caught before this\n",
        "  except ZeroDivisionError:\n",
        "    print(\"Please enter a number grater than 0\")\n",
        "    break\n",
        "  else:\n",
        "    print(\"Thank you!\")\n",
        "    break\n",
        "  finally:\n",
        "    print(\"Ok! I'm done.\") ## finally will always run\n",
        "  print(\"Shun raha hena tu?\") ## this will not run if else block has break statement"
      ],
      "metadata": {
        "colab": {
          "base_uri": "https://localhost:8080/"
        },
        "id": "qnjzsSg8pv2b",
        "outputId": "4097c1b1-c020-4040-fc6e-16f0b49a7bde"
      },
      "execution_count": 10,
      "outputs": [
        {
          "output_type": "stream",
          "name": "stdout",
          "text": [
            "What is your age? 0\n",
            "Please enter a number grater than 0\n",
            "Ok! I'm done.\n"
          ]
        }
      ]
    },
    {
      "cell_type": "code",
      "source": [],
      "metadata": {
        "id": "SNyh-drdr0cq"
      },
      "execution_count": null,
      "outputs": []
    }
  ]
}
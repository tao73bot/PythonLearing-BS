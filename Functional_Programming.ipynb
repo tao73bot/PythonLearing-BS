{
  "cells": [
    {
      "cell_type": "markdown",
      "metadata": {
        "id": "view-in-github",
        "colab_type": "text"
      },
      "source": [
        "<a href=\"https://colab.research.google.com/github/tao73bot/PythonLearing-BS/blob/main/Functional_Programming.ipynb\" target=\"_parent\"><img src=\"https://colab.research.google.com/assets/colab-badge.svg\" alt=\"Open In Colab\"/></a>"
      ]
    },
    {
      "cell_type": "markdown",
      "id": "632c954f-be7e-4763-9dab-9c044cba2afe",
      "metadata": {
        "id": "632c954f-be7e-4763-9dab-9c044cba2afe"
      },
      "source": [
        "## Pure Function"
      ]
    },
    {
      "cell_type": "markdown",
      "id": "46f7dfe4-399a-472c-805c-15a3bc4fc734",
      "metadata": {
        "id": "46f7dfe4-399a-472c-805c-15a3bc4fc734"
      },
      "source": [
        "- A pure function is that function if it run any number of time it will give same output.\n",
        "- A function should not have any side effect means does not interact with outside of function scope"
      ]
    },
    {
      "cell_type": "code",
      "execution_count": null,
      "id": "9dc89c95-a038-4105-88bb-06dc1faef004",
      "metadata": {
        "id": "9dc89c95-a038-4105-88bb-06dc1faef004",
        "outputId": "84d9c253-17c6-4b6d-98ea-ccf9c2077efd"
      },
      "outputs": [
        {
          "data": {
            "text/plain": [
              "[2, 4, 6]"
            ]
          },
          "execution_count": 2,
          "metadata": {},
          "output_type": "execute_result"
        }
      ],
      "source": [
        "def multiply_by2(li):\n",
        "    new_li = []\n",
        "    for item in li:\n",
        "        new_li.append(item*2)\n",
        "    return new_li\n",
        "\n",
        "multiply_by2([1,2,3])"
      ]
    },
    {
      "cell_type": "markdown",
      "id": "9659129d-096d-4e3a-a3fa-25d20c92dcb3",
      "metadata": {
        "id": "9659129d-096d-4e3a-a3fa-25d20c92dcb3"
      },
      "source": [
        "## map()"
      ]
    },
    {
      "cell_type": "code",
      "execution_count": null,
      "id": "7608594c-5321-48ce-96af-eda0fa1c4cc0",
      "metadata": {
        "id": "7608594c-5321-48ce-96af-eda0fa1c4cc0",
        "outputId": "d63b8307-e516-435f-cee4-46631c76c19e"
      },
      "outputs": [
        {
          "name": "stdout",
          "output_type": "stream",
          "text": [
            "[2, 4, 6]\n",
            "[1, 2, 3]\n"
          ]
        }
      ],
      "source": [
        "my_list = [1,2,3]\n",
        "def multiply_by2(item):\n",
        "    return item*2\n",
        "\n",
        "li = map(multiply_by2,my_list)\n",
        "print(list(li))\n",
        "print(my_list)"
      ]
    },
    {
      "cell_type": "markdown",
      "id": "2744d53e-2b07-4e3b-b655-d6460f8d7586",
      "metadata": {
        "id": "2744d53e-2b07-4e3b-b655-d6460f8d7586"
      },
      "source": [
        "## filter()"
      ]
    },
    {
      "cell_type": "code",
      "execution_count": null,
      "id": "e49be11b-48c3-49df-8f3b-4ef93b7d0ba8",
      "metadata": {
        "id": "e49be11b-48c3-49df-8f3b-4ef93b7d0ba8",
        "outputId": "18ae1b8a-c20b-494b-e957-35fe9b2de88f"
      },
      "outputs": [
        {
          "name": "stdout",
          "output_type": "stream",
          "text": [
            "[1, 3, 5]\n",
            "[1, 2, 3, 4, 5]\n"
          ]
        }
      ],
      "source": [
        "my_list = [1,2,3,4,5]\n",
        "def check_odd(item):\n",
        "    return item % 2\n",
        "\n",
        "li = list(filter(check_odd,my_list))\n",
        "print(li)\n",
        "print(my_list)"
      ]
    },
    {
      "cell_type": "markdown",
      "source": [
        "### zip()"
      ],
      "metadata": {
        "id": "BQtfESZRFtp-"
      },
      "id": "BQtfESZRFtp-"
    },
    {
      "cell_type": "code",
      "execution_count": null,
      "id": "ac9edf6c-04ee-4765-bae2-99c0fd7a9fee",
      "metadata": {
        "colab": {
          "base_uri": "https://localhost:8080/"
        },
        "id": "ac9edf6c-04ee-4765-bae2-99c0fd7a9fee",
        "outputId": "4eabfc2e-3784-4c38-bcd2-377e2bb104d9"
      },
      "outputs": [
        {
          "output_type": "stream",
          "name": "stdout",
          "text": [
            "[(1, 10), (2, 20), (3, 30)]\n",
            "[(1, 10, 100), (2, 20, 200), (3, 30, 300)]\n"
          ]
        }
      ],
      "source": [
        "my_list = [1,2,3]\n",
        "your_list = [10,20,30]\n",
        "our_list = [100,200,300]\n",
        "\n",
        "li = list(zip(my_list,your_list))\n",
        "print(li)\n",
        "li2 = list(zip(my_list,your_list,our_list))\n",
        "print(li2)"
      ]
    },
    {
      "cell_type": "markdown",
      "source": [
        "### reduce()"
      ],
      "metadata": {
        "id": "XkPymTdCHQEW"
      },
      "id": "XkPymTdCHQEW"
    },
    {
      "cell_type": "code",
      "source": [
        "from functools import reduce\n",
        "\n",
        "my_list = [1,2,3,4,5]\n",
        "def accumulator(acc,item):\n",
        "  return acc + item\n",
        "\n",
        "li = (reduce(accumulator,my_list,0))\n",
        "print(li)\n",
        "print(my_list)"
      ],
      "metadata": {
        "colab": {
          "base_uri": "https://localhost:8080/"
        },
        "id": "5KnvDZTnGItN",
        "outputId": "92406c58-9d92-4939-9ce0-f2dc3cba4862"
      },
      "id": "5KnvDZTnGItN",
      "execution_count": null,
      "outputs": [
        {
          "output_type": "stream",
          "name": "stdout",
          "text": [
            "15\n",
            "[1, 2, 3, 4, 5]\n"
          ]
        }
      ]
    },
    {
      "cell_type": "markdown",
      "source": [
        "### lambda expression\n",
        "- it is for one time work"
      ],
      "metadata": {
        "id": "KxiSoSSYNBN_"
      },
      "id": "KxiSoSSYNBN_"
    },
    {
      "cell_type": "code",
      "source": [
        "my_list = [1,2,3]\n",
        "\n",
        "print(list(map(lambda item : item*2,my_list)))\n",
        "print(my_list)"
      ],
      "metadata": {
        "colab": {
          "base_uri": "https://localhost:8080/"
        },
        "id": "FmM24FzvIhna",
        "outputId": "6e983646-72e2-4ec9-ef63-d1d29392c304"
      },
      "id": "FmM24FzvIhna",
      "execution_count": null,
      "outputs": [
        {
          "output_type": "stream",
          "name": "stdout",
          "text": [
            "[2, 4, 6]\n",
            "[1, 2, 3]\n"
          ]
        }
      ]
    },
    {
      "cell_type": "code",
      "source": [
        "my_list = [5,4,3]\n",
        "\n",
        "print(list(map(lambda item : item**2,my_list)))\n",
        "print(my_list)"
      ],
      "metadata": {
        "colab": {
          "base_uri": "https://localhost:8080/"
        },
        "id": "zSLeIkWRN3WF",
        "outputId": "cf92c291-6d28-46b3-f9b8-d4d8d8a15be8"
      },
      "id": "zSLeIkWRN3WF",
      "execution_count": null,
      "outputs": [
        {
          "output_type": "stream",
          "name": "stdout",
          "text": [
            "[25, 16, 9]\n",
            "[5, 4, 3]\n"
          ]
        }
      ]
    },
    {
      "cell_type": "code",
      "source": [
        "a = [(0,2),(4,3),(9,9),(10,-1)]\n",
        "\n",
        "## sort the list according to second element\n",
        "a.sort(key=lambda x : x[1])\n",
        "a"
      ],
      "metadata": {
        "colab": {
          "base_uri": "https://localhost:8080/"
        },
        "id": "-E12xzkF-yuD",
        "outputId": "7d95ebae-b250-4dc3-c461-34f51184a1b3"
      },
      "id": "-E12xzkF-yuD",
      "execution_count": null,
      "outputs": [
        {
          "output_type": "execute_result",
          "data": {
            "text/plain": [
              "[(10, -1), (0, 2), (4, 3), (9, 9)]"
            ]
          },
          "metadata": {},
          "execution_count": 7
        }
      ]
    },
    {
      "cell_type": "markdown",
      "source": [
        "### List Comprehensions"
      ],
      "metadata": {
        "id": "b519FMzNOdTb"
      },
      "id": "b519FMzNOdTb"
    },
    {
      "cell_type": "code",
      "source": [
        "# Lets create a list of char where every element is from a string\n",
        "\n",
        "# without comprehensions\n",
        "s = \"Taohid\"\n",
        "\n",
        "li = []\n",
        "for i in s:\n",
        "  li.append(i)\n",
        "\n",
        "print(li)"
      ],
      "metadata": {
        "colab": {
          "base_uri": "https://localhost:8080/"
        },
        "id": "-4e150OCJvEx",
        "outputId": "195e8bc7-a48c-4645-e8c2-9f9df4799153"
      },
      "id": "-4e150OCJvEx",
      "execution_count": null,
      "outputs": [
        {
          "output_type": "stream",
          "name": "stdout",
          "text": [
            "['T', 'a', 'o', 'h', 'i', 'd']\n"
          ]
        }
      ]
    },
    {
      "cell_type": "code",
      "source": [
        "## With comprehension\n",
        "li = [i for i in s]\n",
        "print(li)"
      ],
      "metadata": {
        "colab": {
          "base_uri": "https://localhost:8080/"
        },
        "id": "QOFRbx8JU058",
        "outputId": "73a6a398-e3f3-46b4-bcdc-c841de5cee47"
      },
      "id": "QOFRbx8JU058",
      "execution_count": null,
      "outputs": [
        {
          "output_type": "stream",
          "name": "stdout",
          "text": [
            "['T', 'a', 'o', 'h', 'i', 'd']\n"
          ]
        }
      ]
    },
    {
      "cell_type": "code",
      "source": [
        "# give me list where elements are 2's multiply of 0-100\n",
        "\n",
        "li = [2*i for i in range(101)]\n",
        "print(li)"
      ],
      "metadata": {
        "colab": {
          "base_uri": "https://localhost:8080/"
        },
        "id": "8MqV9AcNU-rg",
        "outputId": "4f2c1a48-6894-4ca1-d759-b5c8b8c8d1ec"
      },
      "id": "8MqV9AcNU-rg",
      "execution_count": null,
      "outputs": [
        {
          "output_type": "stream",
          "name": "stdout",
          "text": [
            "[0, 2, 4, 6, 8, 10, 12, 14, 16, 18, 20, 22, 24, 26, 28, 30, 32, 34, 36, 38, 40, 42, 44, 46, 48, 50, 52, 54, 56, 58, 60, 62, 64, 66, 68, 70, 72, 74, 76, 78, 80, 82, 84, 86, 88, 90, 92, 94, 96, 98, 100, 102, 104, 106, 108, 110, 112, 114, 116, 118, 120, 122, 124, 126, 128, 130, 132, 134, 136, 138, 140, 142, 144, 146, 148, 150, 152, 154, 156, 158, 160, 162, 164, 166, 168, 170, 172, 174, 176, 178, 180, 182, 184, 186, 188, 190, 192, 194, 196, 198, 200]\n"
          ]
        }
      ]
    },
    {
      "cell_type": "code",
      "source": [
        "## give a list where element are power of 2 of 1-100 and they are even\n",
        "\n",
        "li = [num**2 for num in range(1,101) if num % 2 == 0]\n",
        "li"
      ],
      "metadata": {
        "colab": {
          "base_uri": "https://localhost:8080/"
        },
        "id": "PqkSpf2jVYyR",
        "outputId": "7928abaa-b04d-427c-93ab-e89f26c2b1d1"
      },
      "id": "PqkSpf2jVYyR",
      "execution_count": null,
      "outputs": [
        {
          "output_type": "execute_result",
          "data": {
            "text/plain": [
              "[4,\n",
              " 16,\n",
              " 36,\n",
              " 64,\n",
              " 100,\n",
              " 144,\n",
              " 196,\n",
              " 256,\n",
              " 324,\n",
              " 400,\n",
              " 484,\n",
              " 576,\n",
              " 676,\n",
              " 784,\n",
              " 900,\n",
              " 1024,\n",
              " 1156,\n",
              " 1296,\n",
              " 1444,\n",
              " 1600,\n",
              " 1764,\n",
              " 1936,\n",
              " 2116,\n",
              " 2304,\n",
              " 2500,\n",
              " 2704,\n",
              " 2916,\n",
              " 3136,\n",
              " 3364,\n",
              " 3600,\n",
              " 3844,\n",
              " 4096,\n",
              " 4356,\n",
              " 4624,\n",
              " 4900,\n",
              " 5184,\n",
              " 5476,\n",
              " 5776,\n",
              " 6084,\n",
              " 6400,\n",
              " 6724,\n",
              " 7056,\n",
              " 7396,\n",
              " 7744,\n",
              " 8100,\n",
              " 8464,\n",
              " 8836,\n",
              " 9216,\n",
              " 9604,\n",
              " 10000]"
            ]
          },
          "metadata": {},
          "execution_count": 14
        }
      ]
    },
    {
      "cell_type": "markdown",
      "source": [
        "### Set Comprehension"
      ],
      "metadata": {
        "id": "2HhZs9WwZy-t"
      },
      "id": "2HhZs9WwZy-t"
    },
    {
      "cell_type": "code",
      "source": [
        "s = {el for el in range(1,101)}\n",
        "s"
      ],
      "metadata": {
        "colab": {
          "base_uri": "https://localhost:8080/"
        },
        "id": "s1lB_0FUXyyw",
        "outputId": "c6bb7bbd-3947-4085-a5d3-67d12f081c44"
      },
      "id": "s1lB_0FUXyyw",
      "execution_count": null,
      "outputs": [
        {
          "output_type": "execute_result",
          "data": {
            "text/plain": [
              "{1,\n",
              " 2,\n",
              " 3,\n",
              " 4,\n",
              " 5,\n",
              " 6,\n",
              " 7,\n",
              " 8,\n",
              " 9,\n",
              " 10,\n",
              " 11,\n",
              " 12,\n",
              " 13,\n",
              " 14,\n",
              " 15,\n",
              " 16,\n",
              " 17,\n",
              " 18,\n",
              " 19,\n",
              " 20,\n",
              " 21,\n",
              " 22,\n",
              " 23,\n",
              " 24,\n",
              " 25,\n",
              " 26,\n",
              " 27,\n",
              " 28,\n",
              " 29,\n",
              " 30,\n",
              " 31,\n",
              " 32,\n",
              " 33,\n",
              " 34,\n",
              " 35,\n",
              " 36,\n",
              " 37,\n",
              " 38,\n",
              " 39,\n",
              " 40,\n",
              " 41,\n",
              " 42,\n",
              " 43,\n",
              " 44,\n",
              " 45,\n",
              " 46,\n",
              " 47,\n",
              " 48,\n",
              " 49,\n",
              " 50,\n",
              " 51,\n",
              " 52,\n",
              " 53,\n",
              " 54,\n",
              " 55,\n",
              " 56,\n",
              " 57,\n",
              " 58,\n",
              " 59,\n",
              " 60,\n",
              " 61,\n",
              " 62,\n",
              " 63,\n",
              " 64,\n",
              " 65,\n",
              " 66,\n",
              " 67,\n",
              " 68,\n",
              " 69,\n",
              " 70,\n",
              " 71,\n",
              " 72,\n",
              " 73,\n",
              " 74,\n",
              " 75,\n",
              " 76,\n",
              " 77,\n",
              " 78,\n",
              " 79,\n",
              " 80,\n",
              " 81,\n",
              " 82,\n",
              " 83,\n",
              " 84,\n",
              " 85,\n",
              " 86,\n",
              " 87,\n",
              " 88,\n",
              " 89,\n",
              " 90,\n",
              " 91,\n",
              " 92,\n",
              " 93,\n",
              " 94,\n",
              " 95,\n",
              " 96,\n",
              " 97,\n",
              " 98,\n",
              " 99,\n",
              " 100}"
            ]
          },
          "metadata": {},
          "execution_count": 15
        }
      ]
    },
    {
      "cell_type": "markdown",
      "source": [
        "### dictionary comprehension"
      ],
      "metadata": {
        "id": "6HE6hv2ZaIMz"
      },
      "id": "6HE6hv2ZaIMz"
    },
    {
      "cell_type": "code",
      "source": [
        "simple_dict = {\n",
        "     'a':1,\n",
        "     'b':2\n",
        " }\n",
        "my_dict = {key:value**2 for key,value in simple_dict.items()}\n",
        "\n",
        "print(my_dict)"
      ],
      "metadata": {
        "colab": {
          "base_uri": "https://localhost:8080/"
        },
        "id": "_r5oSU3cZ_8X",
        "outputId": "7d13c903-225b-4d14-e13d-6ec6b40fa8e7"
      },
      "id": "_r5oSU3cZ_8X",
      "execution_count": null,
      "outputs": [
        {
          "output_type": "stream",
          "name": "stdout",
          "text": [
            "{'a': 1, 'b': 4}\n"
          ]
        }
      ]
    },
    {
      "cell_type": "code",
      "source": [
        "some_list = ['a','b','c','d','b','m','n','n']\n",
        "\n",
        "duplicates = list(set([item for item in some_list if some_list.count(item)>1]))\n",
        "print(duplicates)"
      ],
      "metadata": {
        "id": "F9P43z8wiTd0",
        "colab": {
          "base_uri": "https://localhost:8080/"
        },
        "outputId": "86f82111-f54d-47db-8329-e71cc98149e6"
      },
      "id": "F9P43z8wiTd0",
      "execution_count": 3,
      "outputs": [
        {
          "output_type": "stream",
          "name": "stdout",
          "text": [
            "['n', 'b']\n"
          ]
        }
      ]
    },
    {
      "cell_type": "code",
      "source": [],
      "metadata": {
        "id": "UdMeih46WS7q"
      },
      "id": "UdMeih46WS7q",
      "execution_count": null,
      "outputs": []
    }
  ],
  "metadata": {
    "kernelspec": {
      "display_name": "Python 3 (ipykernel)",
      "language": "python",
      "name": "python3"
    },
    "language_info": {
      "codemirror_mode": {
        "name": "ipython",
        "version": 3
      },
      "file_extension": ".py",
      "mimetype": "text/x-python",
      "name": "python",
      "nbconvert_exporter": "python",
      "pygments_lexer": "ipython3",
      "version": "3.11.5"
    },
    "colab": {
      "provenance": [],
      "include_colab_link": true
    }
  },
  "nbformat": 4,
  "nbformat_minor": 5
}
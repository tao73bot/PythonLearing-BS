{
  "nbformat": 4,
  "nbformat_minor": 0,
  "metadata": {
    "colab": {
      "provenance": [],
      "authorship_tag": "ABX9TyMKbvpdu+rgvFennZzJOf+x",
      "include_colab_link": true
    },
    "kernelspec": {
      "name": "python3",
      "display_name": "Python 3"
    },
    "language_info": {
      "name": "python"
    }
  },
  "cells": [
    {
      "cell_type": "markdown",
      "metadata": {
        "id": "view-in-github",
        "colab_type": "text"
      },
      "source": [
        "<a href=\"https://colab.research.google.com/github/tao73bot/PythonLearing-BS/blob/main/L7_More_Data_Types.ipynb\" target=\"_parent\"><img src=\"https://colab.research.google.com/assets/colab-badge.svg\" alt=\"Open In Colab\"/></a>"
      ]
    },
    {
      "cell_type": "markdown",
      "source": [
        "## Tuple\n",
        "### Tuple defines with normal bracket '()' and it is immutable"
      ],
      "metadata": {
        "id": "mAyQOyQurCnH"
      }
    },
    {
      "cell_type": "markdown",
      "source": [
        "## hack tuple and add an element to the tuple"
      ],
      "metadata": {
        "id": "VkmWzkqQuAaD"
      }
    },
    {
      "cell_type": "code",
      "execution_count": 1,
      "metadata": {
        "colab": {
          "base_uri": "https://localhost:8080/"
        },
        "id": "j05JvAf3qjO2",
        "outputId": "8c109835-693b-4312-c384-e6352a3c916b"
      },
      "outputs": [
        {
          "output_type": "stream",
          "name": "stdout",
          "text": [
            "(1, 2, 3, 4, 5, 6)\n"
          ]
        }
      ],
      "source": [
        "tuple1 = (1,2,3,4,5)\n",
        "tuple1 = list(tuple1)\n",
        "tuple1.append(6)\n",
        "tuple1 = tuple(tuple1)\n",
        "print(tuple1)"
      ]
    },
    {
      "cell_type": "markdown",
      "source": [
        "## Tuple methods\n",
        "### count(item) --> return occurence of items in tuple\n",
        "### index(item) --> return first occurence of item in tuple"
      ],
      "metadata": {
        "id": "PprVhVgVxY0E"
      }
    },
    {
      "cell_type": "code",
      "source": [
        "tuple2 = (1,1,2,3,1,4,5,3,53,1,3)\n",
        "print(tuple2.index(3))\n",
        "print(tuple2.count(1))"
      ],
      "metadata": {
        "colab": {
          "base_uri": "https://localhost:8080/"
        },
        "id": "ulkBIml4ulou",
        "outputId": "bcc74e5b-1c62-488f-e2fe-38c326fd754e"
      },
      "execution_count": 2,
      "outputs": [
        {
          "output_type": "stream",
          "name": "stdout",
          "text": [
            "3\n",
            "4\n"
          ]
        }
      ]
    },
    {
      "cell_type": "markdown",
      "source": [
        "## Dictionary\n",
        "\n",
        "## Defines with curly bracket '{}' and it is mutable"
      ],
      "metadata": {
        "id": "b-8jnwIDyJkk"
      }
    },
    {
      "cell_type": "code",
      "source": [
        "user = {\n",
        "    'name':'Taohid',\n",
        "    'email':'tawhidulbali00@gmail.com',\n",
        "    'phone':1739051564,\n",
        "    'address':{\n",
        "        'Street No.':\"JP/J 132\",\n",
        "        'City':'Dhaka',\n",
        "        'Country':'Bangladesh'\n",
        "        }\n",
        "    }\n",
        "\n",
        "user['address']"
      ],
      "metadata": {
        "colab": {
          "base_uri": "https://localhost:8080/"
        },
        "id": "5kuoLAsqyGen",
        "outputId": "38f06b26-768f-44d0-bccf-8934e058fbc6"
      },
      "execution_count": 5,
      "outputs": [
        {
          "output_type": "execute_result",
          "data": {
            "text/plain": [
              "{'Street No.': 'JP/J 132', 'City': 'Dhaka', 'Country': 'Bangladesh'}"
            ]
          },
          "metadata": {},
          "execution_count": 5
        }
      ]
    },
    {
      "cell_type": "markdown",
      "source": [
        "### add new element to dictionary"
      ],
      "metadata": {
        "id": "jxE4eEQK1jK9"
      }
    },
    {
      "cell_type": "code",
      "source": [
        "user['hobby'] = 'Fifa'\n",
        "user"
      ],
      "metadata": {
        "colab": {
          "base_uri": "https://localhost:8080/"
        },
        "id": "haamVgqfzeBb",
        "outputId": "39c7aa7d-5ecd-43bc-87de-6348cbf7bc92"
      },
      "execution_count": 6,
      "outputs": [
        {
          "output_type": "execute_result",
          "data": {
            "text/plain": [
              "{'name': 'Taohid',\n",
              " 'email': 'tawhidulbali00@gmail.com',\n",
              " 'phone': 1739051564,\n",
              " 'address': {'Street No.': 'JP/J 132',\n",
              "  'City': 'Dhaka',\n",
              "  'Country': 'Bangladesh'},\n",
              " 'hobby': 'Fifa'}"
            ]
          },
          "metadata": {},
          "execution_count": 6
        }
      ]
    },
    {
      "cell_type": "markdown",
      "source": [
        "## Exercise for dictionary\n",
        "- Step 1: Define a dictionary called allegiances with these 3 keys:\n",
        "        1: Luke Skywalker, which has a value of Rebel Alliance.\n",
        "        2: Darth Vader, which has a value of Galactic Empire.\n",
        "        3: Obi-Wan Kenobi, which has a value of Jedi Order.\n",
        "- Step 2: Print the value of Darth Vader.\n",
        "- Step 3: Change the value of Darth Vader from Galactic Empire to Sith Order.\n",
        "- Step 4: Add another key as follows: Leia, which has a value of Rebel Alliance.\n",
        "- Step 5: Print everything"
      ],
      "metadata": {
        "id": "qbv3w1eV5bwu"
      }
    },
    {
      "cell_type": "code",
      "source": [
        "alligiances = {\n",
        "    'Luke Skywalker':'Rebel Alliance',\n",
        "    'Darth Vader':'Galactic Empire',\n",
        "    'Obi-Wan Kenobi':'Jedi Order'\n",
        "}\n",
        "\n",
        "print(alligiances['Darth Vader'])\n",
        "alligiances['Darth Vader'] = 'Sith Order'\n",
        "alligiances['Leia'] = 'Rebel Alliance'\n",
        "for key,item in alligiances.items():\n",
        "  print(f'{key} is {item}')"
      ],
      "metadata": {
        "colab": {
          "base_uri": "https://localhost:8080/"
        },
        "id": "cS4iukVp1xuy",
        "outputId": "f490db06-9c86-4571-b162-22b807730a5d"
      },
      "execution_count": 7,
      "outputs": [
        {
          "output_type": "stream",
          "name": "stdout",
          "text": [
            "Galactic Empire\n",
            "Luke Skywalker is Rebel Alliance\n",
            "Darth Vader is Sith Order\n",
            "Obi-Wan Kenobi is Jedi Order\n",
            "Leia is Rebel Alliance\n"
          ]
        }
      ]
    },
    {
      "cell_type": "markdown",
      "source": [
        "## Set\n",
        "- define by set() constructor\n",
        "- don't support any duplicate"
      ],
      "metadata": {
        "id": "0WMWAgUQ9ASR"
      }
    },
    {
      "cell_type": "code",
      "source": [
        "list1 = [1,2,3,3,4,5,5]\n",
        "list2 = [1,2,3,4]"
      ],
      "metadata": {
        "id": "CrfX_P9W8MJT"
      },
      "execution_count": 12,
      "outputs": []
    },
    {
      "cell_type": "code",
      "source": [
        "set1 = set(list1)\n",
        "set1"
      ],
      "metadata": {
        "colab": {
          "base_uri": "https://localhost:8080/"
        },
        "id": "aoO1nT8E9_aB",
        "outputId": "dc00bc20-ba3b-4154-8d64-0f1c8cbe2a71"
      },
      "execution_count": 13,
      "outputs": [
        {
          "output_type": "execute_result",
          "data": {
            "text/plain": [
              "{1, 2, 3, 4, 5}"
            ]
          },
          "metadata": {},
          "execution_count": 13
        }
      ]
    },
    {
      "cell_type": "markdown",
      "source": [
        "## Set methods\n",
        "- add(element) --> add non duplicate element to the last\n",
        "- difference(iterable) --> return difference between main set and given iterable\n",
        "- intersection(iterable) --> return the common items"
      ],
      "metadata": {
        "id": "lWdbeBMc-3yZ"
      }
    },
    {
      "cell_type": "code",
      "source": [
        "set1.add(6)\n",
        "set1"
      ],
      "metadata": {
        "colab": {
          "base_uri": "https://localhost:8080/"
        },
        "id": "-gx_3KYm-Mcd",
        "outputId": "5db793a8-ebf5-4dd0-8331-9c77014ff23a"
      },
      "execution_count": 15,
      "outputs": [
        {
          "output_type": "execute_result",
          "data": {
            "text/plain": [
              "{1, 2, 3, 4, 5, 6}"
            ]
          },
          "metadata": {},
          "execution_count": 15
        }
      ]
    },
    {
      "cell_type": "code",
      "source": [
        "set1.difference(list2)"
      ],
      "metadata": {
        "colab": {
          "base_uri": "https://localhost:8080/"
        },
        "id": "LPhij7UH_vqd",
        "outputId": "58a31888-c3a6-45e9-9dab-21aef7931710"
      },
      "execution_count": 16,
      "outputs": [
        {
          "output_type": "execute_result",
          "data": {
            "text/plain": [
              "{5, 6}"
            ]
          },
          "metadata": {},
          "execution_count": 16
        }
      ]
    },
    {
      "cell_type": "code",
      "source": [
        "set1.difference('Taohid')"
      ],
      "metadata": {
        "colab": {
          "base_uri": "https://localhost:8080/"
        },
        "id": "yLo16BmO_412",
        "outputId": "6e885494-4eea-4d52-fc90-bc339e252a98"
      },
      "execution_count": 17,
      "outputs": [
        {
          "output_type": "execute_result",
          "data": {
            "text/plain": [
              "{1, 2, 3, 4, 5, 6}"
            ]
          },
          "metadata": {},
          "execution_count": 17
        }
      ]
    },
    {
      "cell_type": "code",
      "source": [
        "set1.difference([2,3,4,5,1]) # re-arranging does not matter"
      ],
      "metadata": {
        "colab": {
          "base_uri": "https://localhost:8080/"
        },
        "id": "5K-1ArfZ__Gt",
        "outputId": "f24614ba-9512-4ecd-93c8-ea7ea3e76e91"
      },
      "execution_count": 19,
      "outputs": [
        {
          "output_type": "execute_result",
          "data": {
            "text/plain": [
              "{6}"
            ]
          },
          "metadata": {},
          "execution_count": 19
        }
      ]
    },
    {
      "cell_type": "code",
      "source": [
        "set1.intersection([2,3,5,1])"
      ],
      "metadata": {
        "colab": {
          "base_uri": "https://localhost:8080/"
        },
        "id": "DYfcHGgAAILE",
        "outputId": "6a8a3130-887a-403c-f73f-eca749b14201"
      },
      "execution_count": 20,
      "outputs": [
        {
          "output_type": "execute_result",
          "data": {
            "text/plain": [
              "{1, 2, 3, 5}"
            ]
          },
          "metadata": {},
          "execution_count": 20
        }
      ]
    },
    {
      "cell_type": "code",
      "source": [
        "set1.pop()"
      ],
      "metadata": {
        "colab": {
          "base_uri": "https://localhost:8080/"
        },
        "id": "lQwtmL8tA5eF",
        "outputId": "22dd8a63-291f-434a-fd2a-e350f04c1ef2"
      },
      "execution_count": 21,
      "outputs": [
        {
          "output_type": "execute_result",
          "data": {
            "text/plain": [
              "1"
            ]
          },
          "metadata": {},
          "execution_count": 21
        }
      ]
    },
    {
      "cell_type": "code",
      "source": [
        "set1.union(list2)"
      ],
      "metadata": {
        "colab": {
          "base_uri": "https://localhost:8080/"
        },
        "id": "5KkIJh1sBf74",
        "outputId": "750c7bda-7c22-4c1f-b096-3170acc25e0c"
      },
      "execution_count": 22,
      "outputs": [
        {
          "output_type": "execute_result",
          "data": {
            "text/plain": [
              "{1, 2, 3, 4, 5, 6}"
            ]
          },
          "metadata": {},
          "execution_count": 22
        }
      ]
    },
    {
      "cell_type": "markdown",
      "source": [
        "## Exercise\n",
        "- Find which strom_tropper include in both group"
      ],
      "metadata": {
        "id": "bNlJ1ZLwCAzR"
      }
    },
    {
      "cell_type": "code",
      "source": [
        "storm_tropper1 = ['tropper1','tropper2','tropper3','tropper4']\n",
        "storm_tropper2 = ['tropper5','tropper34','tropper46','tropper1']\n",
        "\n",
        "set(storm_tropper1).intersection(storm_tropper2)"
      ],
      "metadata": {
        "colab": {
          "base_uri": "https://localhost:8080/"
        },
        "id": "PeT4xjeABnie",
        "outputId": "eb98e8af-26b0-4bd6-afd8-e70a9fea6e9e"
      },
      "execution_count": 23,
      "outputs": [
        {
          "output_type": "execute_result",
          "data": {
            "text/plain": [
              "{'tropper1'}"
            ]
          },
          "metadata": {},
          "execution_count": 23
        }
      ]
    },
    {
      "cell_type": "markdown",
      "source": [
        "## Final Exercise"
      ],
      "metadata": {
        "id": "ANSLl5NZELbx"
      }
    },
    {
      "cell_type": "code",
      "source": [
        "menu = {\n",
        "    'Burger':('Main',10.5),\n",
        "    'Soup':('Appitizer',5.0),\n",
        "    'Ice-Cream':('Desert',4.5),\n",
        "    'Salad':('Starter',2.05)\n",
        "}\n",
        "\n",
        "menu['Stake'] = ('Main',25.0)\n",
        "menu['Soda'] = ('Drinks',1.75)\n",
        "\n",
        "menu.pop('Soup')\n",
        "\n",
        "def display_menu(dic):\n",
        "  for key,value in dic.items():\n",
        "    print(f'{key} is {value[0]} and price is {value[1]}')\n",
        "\n",
        "def count_dish_types(dic):\n",
        "  dish_info = dict()\n",
        "  for val in dic.values():\n",
        "    if not dish_info.get(val[0]):\n",
        "      dish_info[val[0]] = 1\n",
        "    else:\n",
        "      dish_info[val[0]] += 1\n",
        "\n",
        "\n",
        "  return dish_info\n",
        "\n",
        "\n",
        "def update_price(dic,dish_name,price):\n",
        "  dic[dish_name] = list(dic[dish_name])\n",
        "  dic[dish_name][1] = price\n",
        "  dic[dish_name] = tuple(dic[dish_name])\n",
        "\n",
        "\n",
        "display_menu(menu)\n",
        "\n",
        "dish_type = count_dish_types(menu)\n",
        "print(dish_type)\n",
        "\n",
        "update_price(menu, 'Stake',200)\n",
        "print(menu)\n"
      ],
      "metadata": {
        "colab": {
          "base_uri": "https://localhost:8080/"
        },
        "id": "UHwe2BPTDRuZ",
        "outputId": "b5552af7-b58a-4c25-847d-14b74505bab7"
      },
      "execution_count": 31,
      "outputs": [
        {
          "output_type": "stream",
          "name": "stdout",
          "text": [
            "Burger is Main and price is 10.5\n",
            "Ice-Cream is Desert and price is 4.5\n",
            "Salad is Starter and price is 2.05\n",
            "Stake is Main and price is 25.0\n",
            "Soda is Drinks and price is 1.75\n",
            "{'Main': 2, 'Desert': 1, 'Starter': 1, 'Drinks': 1}\n",
            "{'Burger': ('Main', 10.5), 'Ice-Cream': ('Desert', 4.5), 'Salad': ('Starter', 2.05), 'Stake': ('Main', 200), 'Soda': ('Drinks', 1.75)}\n"
          ]
        }
      ]
    },
    {
      "cell_type": "code",
      "source": [],
      "metadata": {
        "id": "O1s3lXxrKSoR"
      },
      "execution_count": null,
      "outputs": []
    }
  ]
}
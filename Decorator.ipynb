{
  "nbformat": 4,
  "nbformat_minor": 0,
  "metadata": {
    "colab": {
      "provenance": [],
      "authorship_tag": "ABX9TyOtOB0v4fg4cyqANCm0M4Xt",
      "include_colab_link": true
    },
    "kernelspec": {
      "name": "python3",
      "display_name": "Python 3"
    },
    "language_info": {
      "name": "python"
    }
  },
  "cells": [
    {
      "cell_type": "markdown",
      "metadata": {
        "id": "view-in-github",
        "colab_type": "text"
      },
      "source": [
        "<a href=\"https://colab.research.google.com/github/tao73bot/PythonLearing-BS/blob/main/Decorator.ipynb\" target=\"_parent\"><img src=\"https://colab.research.google.com/assets/colab-badge.svg\" alt=\"Open In Colab\"/></a>"
      ]
    },
    {
      "cell_type": "markdown",
      "source": [
        "### Write a python code that execute the time of every function"
      ],
      "metadata": {
        "id": "3PZtXxnMfBBx"
      }
    },
    {
      "cell_type": "code",
      "execution_count": 1,
      "metadata": {
        "id": "nc5VCZnFdoWF"
      },
      "outputs": [],
      "source": [
        "import time\n",
        "\n",
        "def timer(func):\n",
        "  def wrapper(*args,**kwargs):\n",
        "    start = time.time()\n",
        "    result = func(*args,**kwargs)\n",
        "    end = time.time()\n",
        "    print(f\"{func.__name__} ran in {end - start} time\")\n",
        "    return result\n",
        "  return wrapper"
      ]
    },
    {
      "cell_type": "code",
      "source": [
        "@timer\n",
        "def example_function(n):\n",
        "  time.sleep(n)\n",
        "\n",
        "example_function(2)"
      ],
      "metadata": {
        "colab": {
          "base_uri": "https://localhost:8080/"
        },
        "id": "YfDbwokfhW8R",
        "outputId": "2627cc98-4fb1-42fd-9e15-8ec60adb3eba"
      },
      "execution_count": 2,
      "outputs": [
        {
          "output_type": "stream",
          "name": "stdout",
          "text": [
            "example_function ran in 2.0023961067199707 time\n"
          ]
        }
      ]
    },
    {
      "cell_type": "markdown",
      "source": [
        "### Create a decorator to print the function and the values of its argument everytime the function is called"
      ],
      "metadata": {
        "id": "WI84NpmFjAYu"
      }
    },
    {
      "cell_type": "code",
      "source": [
        "def debug(func):\n",
        "  def wrapper(*args,**kwargs):\n",
        "    args_value = \", \".join(str(arg) for arg in args)\n",
        "    kwargs_value = \", \".join(f\"{k}={v}\" for k,v in kwargs.items())\n",
        "    print(f\"Calling {func.__name__} with args value {args_value} and kwargs_value {kwargs_value}\")\n",
        "    return func(*args,**kwargs)\n",
        "\n",
        "  return wrapper\n",
        "\n",
        "\n",
        "@debug\n",
        "def hello():\n",
        "  print(\"Hello Taohid\")\n",
        "\n",
        "@debug\n",
        "def greet(name,greeting=\"Hello..\"):\n",
        "  print(f\"{name}, {greeting}\")\n",
        "\n",
        "\n",
        "hello()\n",
        "greet(\"Avik\",greeting=\"Fura\")\n",
        "greet(\"Fahad\")"
      ],
      "metadata": {
        "colab": {
          "base_uri": "https://localhost:8080/"
        },
        "id": "-cJDK8-NhtSX",
        "outputId": "2592d0d7-6abb-4fec-c367-dc48e74b1feb"
      },
      "execution_count": 4,
      "outputs": [
        {
          "output_type": "stream",
          "name": "stdout",
          "text": [
            "Calling hello with args value  and kwargs_value \n",
            "Hello Taohid\n",
            "Calling greet with args value Avik and kwargs_value greeting=Fura\n",
            "Avik, Fura\n",
            "Calling greet with args value Fahad and kwargs_value \n",
            "Fahad, Hello..\n"
          ]
        }
      ]
    },
    {
      "cell_type": "markdown",
      "source": [
        "### Implement a decorator that caches the return values of a function, so that when it's called with same arguments, the cached value is returned without re-executing the function"
      ],
      "metadata": {
        "id": "pR60z0iEu_3g"
      }
    },
    {
      "cell_type": "code",
      "source": [
        "# @title Default title text\n",
        "import time\n",
        "\n",
        "def cache(func):\n",
        "  cache_value = {}\n",
        "  print(cache_value)\n",
        "  def wrapper(*args,**kwargs):\n",
        "    if args in cache_value:\n",
        "      return cache_value[args]\n",
        "    result = func(*args)\n",
        "    cache_value[args] = result\n",
        "    return result\n",
        "  return wrapper\n",
        "\n",
        "\n",
        "@cache\n",
        "def slow_func(a,b):\n",
        "  time.sleep(4)\n",
        "  return a+b\n",
        "\n",
        "print(slow_func(4,5))\n",
        "print(slow_func(10,20))\n",
        "print(slow_func(4,5))"
      ],
      "metadata": {
        "colab": {
          "base_uri": "https://localhost:8080/"
        },
        "id": "06NHGgTwr86B",
        "outputId": "6a32b13b-1f97-485d-8d4a-aee18533994a"
      },
      "execution_count": 6,
      "outputs": [
        {
          "output_type": "stream",
          "name": "stdout",
          "text": [
            "{}\n",
            "9\n",
            "30\n",
            "9\n"
          ]
        }
      ]
    },
    {
      "cell_type": "code",
      "source": [],
      "metadata": {
        "id": "t3diOE3cySxr"
      },
      "execution_count": null,
      "outputs": []
    }
  ]
}